{
 "cells": [
  {
   "cell_type": "markdown",
   "metadata": {
    "slideshow": {
     "slide_type": "slide"
    }
   },
   "source": [
    "<img src=\"http://hilpisch.com/tpq_logo.png\" alt=\"The Python Quants\" width=\"35%\" align=\"right\" border=\"0\"><br>"
   ]
  },
  {
   "cell_type": "markdown",
   "metadata": {},
   "source": [
    "# Python for Finance Course"
   ]
  },
  {
   "cell_type": "markdown",
   "metadata": {},
   "source": [
    "**Module 6 &mdash; Performance**\n",
    "\n",
    "[team@tpq.io](mailto:team@tpq.io) | [http://tpq.io](http://tpq.io)\n",
    "\n",
    "The Python Quants GmbH"
   ]
  },
  {
   "cell_type": "markdown",
   "metadata": {},
   "source": [
    "## Requirements"
   ]
  },
  {
   "cell_type": "markdown",
   "metadata": {},
   "source": [
    "Make sure to have installed locally a **comprehensive Python installation** like the [Anaconda](http://continuum.io/downloads) Python distribution.\n",
    "\n",
    "Alternatively, and more easily, register on the **[Quant Platform](http://pqp.io)** where you can execute this Jupyter Notebook file in the browser. After registration, you find all Jupyter Notebook files of this course in the folder `pffcourse`."
   ]
  },
  {
   "cell_type": "markdown",
   "metadata": {},
   "source": [
    "## Necessary Imports"
   ]
  },
  {
   "cell_type": "markdown",
   "metadata": {},
   "source": [
    "As usual, we need to **import certain modules/packages**."
   ]
  },
  {
   "cell_type": "code",
   "execution_count": 1,
   "metadata": {},
   "outputs": [],
   "source": [
    "import math  # mathematical functions\n",
    "import numpy as np  # array operations\n",
    "import pandas as pd  # time series management\n",
    "import numba as nb  # dynamic compiling"
   ]
  },
  {
   "cell_type": "markdown",
   "metadata": {},
   "source": [
    "## Nested Loops"
   ]
  },
  {
   "cell_type": "markdown",
   "metadata": {},
   "source": [
    "This module is about selected topics in **Performance Python**. Some people might still believe in the following logic:\n",
    "\n",
    "* many financial algorithms require (nested) loops when implemented\n",
    "* since Python is interpreted, it is slow with (nested) loops\n",
    "* therefore, Python is not well suited for the implementation of financial algorithms\n",
    "\n",
    "Let us analyze a sandbox case of a nested loop that has nothing to do with finance but that illustrates the issues at hand quite well."
   ]
  },
  {
   "cell_type": "markdown",
   "metadata": {},
   "source": [
    "### Pure Python"
   ]
  },
  {
   "cell_type": "markdown",
   "metadata": {},
   "source": [
    "Consider the following nested loop which only **counts the number of iterations**. To make it a bit more demanding (actually quite a lot more), the number of iterations in the inner loop increases with the current state of the outer loop."
   ]
  },
  {
   "cell_type": "code",
   "execution_count": 2,
   "metadata": {},
   "outputs": [
    {
     "name": "stdout",
     "output_type": "stream",
     "text": [
      "7781250\n",
      "CPU times: user 3.05 s, sys: 47 ms, total: 3.09 s\n",
      "Wall time: 3 s\n"
     ]
    }
   ],
   "source": [
    "%%time\n",
    "def count(N):\n",
    "    s = 0\n",
    "    for i in xrange(N):\n",
    "        for j in xrange(N * i):\n",
    "            # generate intentionally some computational burden\n",
    "            s += int(math.log(math.sin(math.pi / 2)) + 1)\n",
    "    return s\n",
    "print count(250)"
   ]
  },
  {
   "cell_type": "markdown",
   "metadata": {},
   "source": [
    "Although in principle possible, such problems do not lend themselves very well to be vectorized in order to speed things up. The memory burden easily becomes prohibitive."
   ]
  },
  {
   "cell_type": "markdown",
   "metadata": {},
   "source": [
    "### Dynamic Compiling with Numba"
   ]
  },
  {
   "cell_type": "markdown",
   "metadata": {},
   "source": [
    "Numba is a Python library that allows to **dynamically compile Python code** to machine code (using the [LLVM infrastructure](https://en.wikipedia.org/wiki/LLVM)). The application is straightforward."
   ]
  },
  {
   "cell_type": "code",
   "execution_count": 3,
   "metadata": {},
   "outputs": [],
   "source": [
    "count_nb = nb.jit(count)"
   ]
  },
  {
   "cell_type": "markdown",
   "metadata": {},
   "source": [
    "The result of the compilation is a **directly callable function**. First time execution involves **a bit of overhead**."
   ]
  },
  {
   "cell_type": "code",
   "execution_count": 4,
   "metadata": {},
   "outputs": [
    {
     "name": "stdout",
     "output_type": "stream",
     "text": [
      "CPU times: user 45 ms, sys: 2 ms, total: 47 ms\n",
      "Wall time: 393 ms\n"
     ]
    },
    {
     "data": {
      "text/plain": [
       "7781250"
      ]
     },
     "execution_count": 4,
     "metadata": {},
     "output_type": "execute_result"
    }
   ],
   "source": [
    "%time count_nb(250)"
   ]
  },
  {
   "cell_type": "markdown",
   "metadata": {},
   "source": [
    "From the second call, you get the **complete (time) benefits**."
   ]
  },
  {
   "cell_type": "code",
   "execution_count": 5,
   "metadata": {},
   "outputs": [
    {
     "name": "stdout",
     "output_type": "stream",
     "text": [
      "CPU times: user 0 ns, sys: 0 ns, total: 0 ns\n",
      "Wall time: 19.1 µs\n"
     ]
    },
    {
     "data": {
      "text/plain": [
       "7781250"
      ]
     },
     "execution_count": 5,
     "metadata": {},
     "output_type": "execute_result"
    }
   ],
   "source": [
    "%time count_nb(250)"
   ]
  },
  {
   "cell_type": "markdown",
   "metadata": {},
   "source": [
    "### Improved Python "
   ]
  },
  {
   "cell_type": "markdown",
   "metadata": {},
   "source": [
    "A part of the huge speed-up comes from the **avoidance of recalculating the complex inner expression** over and over again. Therefore, to be fair let us use this 'trick' with pure Python as well."
   ]
  },
  {
   "cell_type": "code",
   "execution_count": 6,
   "metadata": {},
   "outputs": [
    {
     "name": "stdout",
     "output_type": "stream",
     "text": [
      "7781250\n",
      "CPU times: user 285 ms, sys: 0 ns, total: 285 ms\n",
      "Wall time: 284 ms\n"
     ]
    }
   ],
   "source": [
    "%%time\n",
    "def count(N):\n",
    "    s = 0\n",
    "    ex = int(math.log(math.sin(math.pi / 2)))\n",
    "    for i in xrange(N):\n",
    "        for j in xrange(N * i):\n",
    "            # now a simple addition\n",
    "            s += ex + 1\n",
    "    return s\n",
    "print count(250)"
   ]
  },
  {
   "cell_type": "markdown",
   "metadata": {},
   "source": [
    "This reduces the execution time considerably. However, the **compiled version is still multiple orders of magnitude faster** than the improved Python version."
   ]
  },
  {
   "cell_type": "markdown",
   "metadata": {},
   "source": [
    "## Recursive Algorithms"
   ]
  },
  {
   "cell_type": "markdown",
   "metadata": {},
   "source": [
    "**Vectorization** is a popular strategy to speed up code with NumPy and/or pandas. However, not all types of algorithms allow for (easy) vectorization. In this section, we apply dynamic compiling to such a problem."
   ]
  },
  {
   "cell_type": "markdown",
   "metadata": {},
   "source": [
    "### The Algorithm"
   ]
  },
  {
   "cell_type": "markdown",
   "metadata": {},
   "source": [
    "Consider the following **simple, recursive algorithm**. For $i=0$ (first element), we have\n",
    "\n",
    "$$\n",
    "r_0 = s_0\n",
    "$$\n",
    "\n",
    "For $i>0$ (all others), we have\n",
    "\n",
    "$$\n",
    "r_i = r_{i-1} + \\frac{1}{2} s_{i}\n",
    "$$\n",
    "\n",
    "In Python, we get something like the following code."
   ]
  },
  {
   "cell_type": "code",
   "execution_count": 7,
   "metadata": {
    "collapsed": true
   },
   "outputs": [],
   "source": [
    "def simple(s):\n",
    "    r = np.empty_like(s)\n",
    "    for i in xrange(len(s)):\n",
    "        if i == 0:\n",
    "            r[i] = s[i]\n",
    "        else:\n",
    "            r[i] = r[i - 1] + 0.5 * s[i]\n",
    "    return r"
   ]
  },
  {
   "cell_type": "markdown",
   "metadata": {},
   "source": [
    "As a **quick illustration**, consider the following small `ndarray` object."
   ]
  },
  {
   "cell_type": "code",
   "execution_count": 8,
   "metadata": {},
   "outputs": [
    {
     "data": {
      "text/plain": [
       "array([ 0.,  1.,  2.,  3.,  4.,  5.,  6.,  7.,  8.])"
      ]
     },
     "execution_count": 8,
     "metadata": {},
     "output_type": "execute_result"
    }
   ],
   "source": [
    "a = np.arange(9.)\n",
    "a"
   ]
  },
  {
   "cell_type": "markdown",
   "metadata": {},
   "source": [
    "Application of the function yields:"
   ]
  },
  {
   "cell_type": "code",
   "execution_count": 9,
   "metadata": {},
   "outputs": [
    {
     "name": "stdout",
     "output_type": "stream",
     "text": [
      "CPU times: user 0 ns, sys: 0 ns, total: 0 ns\n",
      "Wall time: 21.9 µs\n"
     ]
    },
    {
     "data": {
      "text/plain": [
       "array([  0. ,   0.5,   1.5,   3. ,   5. ,   7.5,  10.5,  14. ,  18. ])"
      ]
     },
     "execution_count": 9,
     "metadata": {},
     "output_type": "execute_result"
    }
   ],
   "source": [
    "%time simple(a)"
   ]
  },
  {
   "cell_type": "markdown",
   "metadata": {},
   "source": [
    "Application of this function to a **much larger `ndarray` object** is equally straightforward."
   ]
  },
  {
   "cell_type": "code",
   "execution_count": 10,
   "metadata": {
    "collapsed": true
   },
   "outputs": [],
   "source": [
    "data = np.arange(10000000.)"
   ]
  },
  {
   "cell_type": "code",
   "execution_count": 11,
   "metadata": {},
   "outputs": [
    {
     "name": "stdout",
     "output_type": "stream",
     "text": [
      "CPU times: user 3.03 s, sys: 78 ms, total: 3.11 s\n",
      "Wall time: 2.97 s\n"
     ]
    },
    {
     "data": {
      "text/plain": [
       "array([  0.00000000e+00,   5.00000000e-01,   1.50000000e+00, ...,\n",
       "         2.49999875e+13,   2.49999925e+13,   2.49999975e+13])"
      ]
     },
     "execution_count": 11,
     "metadata": {},
     "output_type": "execute_result"
    }
   ],
   "source": [
    "%time simple(data)"
   ]
  },
  {
   "cell_type": "markdown",
   "metadata": {},
   "source": [
    "### Numba Version"
   ]
  },
  {
   "cell_type": "markdown",
   "metadata": {},
   "source": [
    "First, we **compile** the function."
   ]
  },
  {
   "cell_type": "code",
   "execution_count": 12,
   "metadata": {
    "collapsed": true
   },
   "outputs": [],
   "source": [
    "simple_nb = nb.jit(simple)"
   ]
  },
  {
   "cell_type": "markdown",
   "metadata": {},
   "source": [
    "**Quick check** whether it works."
   ]
  },
  {
   "cell_type": "code",
   "execution_count": 13,
   "metadata": {},
   "outputs": [
    {
     "data": {
      "text/plain": [
       "array([  0. ,   0.5,   1.5,   3. ,   5. ,   7.5,  10.5,  14. ,  18. ])"
      ]
     },
     "execution_count": 13,
     "metadata": {},
     "output_type": "execute_result"
    }
   ],
   "source": [
    "simple_nb(a)"
   ]
  },
  {
   "cell_type": "markdown",
   "metadata": {},
   "source": [
    "Finally, the application to the **larger object**. The speedup in this particular case is again orders of magnitude large."
   ]
  },
  {
   "cell_type": "code",
   "execution_count": 14,
   "metadata": {},
   "outputs": [
    {
     "name": "stdout",
     "output_type": "stream",
     "text": [
      "CPU times: user 24 ms, sys: 6 ms, total: 30 ms\n",
      "Wall time: 30.5 ms\n"
     ]
    },
    {
     "data": {
      "text/plain": [
       "array([  0.00000000e+00,   5.00000000e-01,   1.50000000e+00, ...,\n",
       "         2.49999875e+13,   2.49999925e+13,   2.49999975e+13])"
      ]
     },
     "execution_count": 14,
     "metadata": {},
     "output_type": "execute_result"
    }
   ],
   "source": [
    "%time simple_nb(data)"
   ]
  },
  {
   "cell_type": "markdown",
   "metadata": {},
   "source": [
    "## Closing Remarks"
   ]
  },
  {
   "cell_type": "markdown",
   "metadata": {},
   "source": [
    "This finishes the sixth module of the Python for Finance email course. In this module, you have learned:\n",
    "\n",
    "* that (nested) loops in Python can be slow\n",
    "* that you should separate compute intensive calculations from loops whenever possible\n",
    "* that dynamic compiling with Numba can speed up (nested) loops by several orders of magnitude\n",
    "* that not all (financial) algorithms (e.g. those with recursion) can be vectorized (easily)\n",
    "* that dynamic compiling with Numba also might speed-up algorithms that use recursion\n",
    "\n",
    "Many financial algorithms applied in practice are time critical in the sense that their speed of execution is a major factor. Dynamic compiling is one approach that might &mdash; without much overhead &mdash; yield significant performance improvements for Python code."
   ]
  },
  {
   "cell_type": "markdown",
   "metadata": {},
   "source": [
    "## Exercises"
   ]
  },
  {
   "cell_type": "markdown",
   "metadata": {},
   "source": [
    "In order to master the material of this module, do the following:\n",
    "\n",
    "* think of different loop structures seen in or similar to financial algorithms\n",
    "* implement them in pure Python, in vectorized fashion (if possible) and dynamically compiled\n",
    "* implement the binomial option pricing model in pure Python, vectorized and dynamically compiled\n",
    "* implement a Monte Carlo simulation for a geometric Brownian motion in pure Python, vectorized and dynamically compiled\n",
    "* compare the performance of the different implementations"
   ]
  },
  {
   "cell_type": "markdown",
   "metadata": {},
   "source": [
    "## References"
   ]
  },
  {
   "cell_type": "markdown",
   "metadata": {},
   "source": [
    "You find background information for the topics covered in this module in the following book:\n",
    "\n",
    "* Hilpisch, Yves (2014): _Python for Finance_. O'Reilly, ch. 8."
   ]
  },
  {
   "cell_type": "markdown",
   "metadata": {
    "slideshow": {
     "slide_type": "slide"
    }
   },
   "source": [
    "<img src=\"http://hilpisch.com/tpq_logo.png\" alt=\"The Python Quants\" width=\"35%\" align=\"right\" border=\"0\"><br>\n",
    "\n",
    "<a href=\"http://tpq.io\" target=\"_blank\">http://tpq.io</a> | <a href=\"http://twitter.com/dyjh\" target=\"_blank\">@dyjh</a> | <a href=\"mailto:team@tpq.io\">team@tpq.io</a>\n",
    "\n",
    "**Quant Platform** |\n",
    "<a href=\"http://quant-platform.com\">http://quant-platform.com</a>\n",
    "\n",
    "**Python for Finance** |\n",
    "<a href=\"http://python-for-finance.com\" target=\"_blank\">Python for Finance @ O'Reilly</a>\n",
    "\n",
    "**Derivatives Analytics with Python** |\n",
    "<a href=\"http://derivatives-analytics-with-python.com\" target=\"_blank\">Derivatives Analytics @ Wiley Finance</a>\n",
    "\n",
    "**Listed Volatility and Variance Derivatives** |\n",
    "<a href=\"http://lvvd.tpq.io\" target=\"_blank\">Listed VV Derivatives @ Wiley Finance</a>"
   ]
  }
 ],
 "metadata": {
  "celltoolbar": "Slideshow",
  "kernelspec": {
   "display_name": "Python 2.7",
   "language": "python2",
   "name": "python2"
  },
  "language_info": {
   "codemirror_mode": {
    "name": "ipython",
    "version": 2
   },
   "file_extension": ".py",
   "mimetype": "text/x-python",
   "name": "python",
   "nbconvert_exporter": "python",
   "pygments_lexer": "ipython2",
   "version": "2.7.13"
  }
 },
 "nbformat": 4,
 "nbformat_minor": 1
}
