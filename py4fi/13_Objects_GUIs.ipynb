{
 "cells": [
  {
   "cell_type": "markdown",
   "metadata": {},
   "source": [
    "<img src=\"http://hilpisch.com/tpq_logo.png\" alt=\"The Python Quants\" width=\"35%\" align=\"right\" border=\"0\"><br>"
   ]
  },
  {
   "cell_type": "markdown",
   "metadata": {},
   "source": [
    "# Python for Finance"
   ]
  },
  {
   "cell_type": "markdown",
   "metadata": {},
   "source": [
    "**Analyze Big Financial Data**\n",
    "\n",
    "O'Reilly (2014)\n",
    "\n",
    "Yves Hilpisch"
   ]
  },
  {
   "cell_type": "markdown",
   "metadata": {},
   "source": [
    "<img style=\"border:0px solid grey;\" src=\"http://hilpisch.com/python_for_finance.png\" alt=\"Python for Finance\" width=\"30%\" align=\"left\" border=\"0\">"
   ]
  },
  {
   "cell_type": "markdown",
   "metadata": {},
   "source": [
    "**Buy the book ** |\n",
    "<a href='http://shop.oreilly.com/product/0636920032441.do' target='_blank'>O'Reilly</a> |\n",
    "<a href='http://www.amazon.com/Yves-Hilpisch/e/B00JCYHHJM' target='_blank'>Amazon</a>\n",
    "\n",
    "**All book codes & IPYNBs** |\n",
    "<a href=\"http://oreilly.quant-platform.com\">http://oreilly.quant-platform.com</a>\n",
    "\n",
    "**The Python Quants GmbH** | <a href='http://tpq.io' target='_blank'>http://tpq.io</a>\n",
    "\n",
    "**Contact us** | <a href='mailto:pff@tpq.io'>pff@tpq.io</a>"
   ]
  },
  {
   "cell_type": "markdown",
   "metadata": {},
   "source": [
    "# Object Orientation and Graphical User Interfaces"
   ]
  },
  {
   "cell_type": "code",
   "execution_count": 1,
   "metadata": {
    "collapsed": true
   },
   "outputs": [],
   "source": [
    "import seaborn as sns; sns.set()\n",
    "import matplotlib as mpl\n",
    "mpl.rcParams['font.family'] = 'serif'"
   ]
  },
  {
   "cell_type": "markdown",
   "metadata": {},
   "source": [
    "## Object Orientation"
   ]
  },
  {
   "cell_type": "markdown",
   "metadata": {},
   "source": [
    "### Basics of Python Classes"
   ]
  },
  {
   "cell_type": "code",
   "execution_count": 2,
   "metadata": {
    "uuid": "1ce92033-098b-4e27-9d87-8e2666ec5cea"
   },
   "outputs": [],
   "source": [
    "class ExampleOne(object):\n",
    "    pass"
   ]
  },
  {
   "cell_type": "code",
   "execution_count": 3,
   "metadata": {
    "uuid": "b456addd-be22-4c83-8540-83e23537a955"
   },
   "outputs": [],
   "source": [
    "c = ExampleOne()"
   ]
  },
  {
   "cell_type": "code",
   "execution_count": 4,
   "metadata": {
    "uuid": "5b6cf9da-239e-43ae-b08b-a68ce7fa1866"
   },
   "outputs": [
    {
     "data": {
      "text/plain": [
       "'<__main__.ExampleOne object at 0x105688668>'"
      ]
     },
     "execution_count": 4,
     "metadata": {},
     "output_type": "execute_result"
    }
   ],
   "source": [
    "c.__str__()"
   ]
  },
  {
   "cell_type": "code",
   "execution_count": 5,
   "metadata": {
    "uuid": "61841014-fc42-4e7b-af9b-7c00726e30f0"
   },
   "outputs": [
    {
     "data": {
      "text/plain": [
       "__main__.ExampleOne"
      ]
     },
     "execution_count": 5,
     "metadata": {},
     "output_type": "execute_result"
    }
   ],
   "source": [
    "type(c)"
   ]
  },
  {
   "cell_type": "code",
   "execution_count": 6,
   "metadata": {
    "uuid": "02b764ef-2c2e-4b16-a172-3abe15bfe608"
   },
   "outputs": [],
   "source": [
    "class ExampleTwo(object):\n",
    "    def __init__(self, a, b):\n",
    "        self.a = a\n",
    "        self.b = b"
   ]
  },
  {
   "cell_type": "code",
   "execution_count": 7,
   "metadata": {
    "uuid": "1697f007-4187-458b-9cca-86996f72c187"
   },
   "outputs": [],
   "source": [
    "c = ExampleTwo(1, 'text')"
   ]
  },
  {
   "cell_type": "code",
   "execution_count": 8,
   "metadata": {
    "uuid": "66a76e9c-3dce-4fa4-a02f-045e18230ce9"
   },
   "outputs": [
    {
     "data": {
      "text/plain": [
       "1"
      ]
     },
     "execution_count": 8,
     "metadata": {},
     "output_type": "execute_result"
    }
   ],
   "source": [
    "c.a"
   ]
  },
  {
   "cell_type": "code",
   "execution_count": 9,
   "metadata": {
    "uuid": "bdef0545-bdbe-4205-94e8-ff4d8d25da8e"
   },
   "outputs": [
    {
     "data": {
      "text/plain": [
       "'text'"
      ]
     },
     "execution_count": 9,
     "metadata": {},
     "output_type": "execute_result"
    }
   ],
   "source": [
    "c.b"
   ]
  },
  {
   "cell_type": "code",
   "execution_count": 10,
   "metadata": {
    "uuid": "5e53f978-44c5-48bb-82c8-488e744ee714"
   },
   "outputs": [],
   "source": [
    "c.a = 100"
   ]
  },
  {
   "cell_type": "code",
   "execution_count": 11,
   "metadata": {
    "uuid": "2886b794-29e2-4650-afff-cb4528f1837b"
   },
   "outputs": [
    {
     "data": {
      "text/plain": [
       "100"
      ]
     },
     "execution_count": 11,
     "metadata": {},
     "output_type": "execute_result"
    }
   ],
   "source": [
    "c.a"
   ]
  },
  {
   "cell_type": "code",
   "execution_count": 12,
   "metadata": {
    "uuid": "97cd1970-5234-45ea-a03f-0c2e82713d42"
   },
   "outputs": [],
   "source": [
    "c = ExampleOne()"
   ]
  },
  {
   "cell_type": "code",
   "execution_count": 13,
   "metadata": {
    "uuid": "8fa2b86a-8182-4689-80b1-a9ddb8aaabeb"
   },
   "outputs": [],
   "source": [
    "c.first_name = 'Jason'\n",
    "c.last_name = 'Bourne'\n",
    "c.movies = 4"
   ]
  },
  {
   "cell_type": "code",
   "execution_count": 14,
   "metadata": {
    "uuid": "01aaaa84-30eb-4aa1-91f1-45da021090d3"
   },
   "outputs": [
    {
     "name": "stdout",
     "output_type": "stream",
     "text": [
      "Jason Bourne 4\n"
     ]
    }
   ],
   "source": [
    "print(c.first_name, c.last_name, c.movies)"
   ]
  },
  {
   "cell_type": "code",
   "execution_count": 15,
   "metadata": {
    "uuid": "8bab6ecc-0164-4cab-99cc-6dd085c6573a"
   },
   "outputs": [],
   "source": [
    "class ExampleThree(object):\n",
    "    def __init__(self, a, b):\n",
    "        self.a = a\n",
    "        self.b = b\n",
    "    def addition(self):\n",
    "        return self.a + self.b"
   ]
  },
  {
   "cell_type": "code",
   "execution_count": 16,
   "metadata": {
    "uuid": "e1972182-b358-43e0-aa65-5edcb5ff22d2"
   },
   "outputs": [],
   "source": [
    "c = ExampleThree(10, 15)"
   ]
  },
  {
   "cell_type": "code",
   "execution_count": 17,
   "metadata": {
    "uuid": "d5108fab-7b72-4c84-8d35-e8f10532bcfd"
   },
   "outputs": [
    {
     "data": {
      "text/plain": [
       "25"
      ]
     },
     "execution_count": 17,
     "metadata": {},
     "output_type": "execute_result"
    }
   ],
   "source": [
    "c.addition()"
   ]
  },
  {
   "cell_type": "code",
   "execution_count": 18,
   "metadata": {
    "uuid": "ce192d08-30fd-49fa-9332-f7c12b3041fb"
   },
   "outputs": [
    {
     "data": {
      "text/plain": [
       "35"
      ]
     },
     "execution_count": 18,
     "metadata": {},
     "output_type": "execute_result"
    }
   ],
   "source": [
    "c.a += 10\n",
    "c.addition()"
   ]
  },
  {
   "cell_type": "code",
   "execution_count": 19,
   "metadata": {
    "uuid": "e7be5636-de6c-445f-ad25-7f0bccfcb848"
   },
   "outputs": [],
   "source": [
    "class ExampleFour(ExampleTwo):\n",
    "    def addition(self):\n",
    "        return self.a + self.b"
   ]
  },
  {
   "cell_type": "code",
   "execution_count": 20,
   "metadata": {
    "uuid": "174ae69d-a1c4-4181-9be6-76246b171787"
   },
   "outputs": [],
   "source": [
    "c = ExampleFour(10, 15)"
   ]
  },
  {
   "cell_type": "code",
   "execution_count": 21,
   "metadata": {
    "uuid": "921600a6-6068-473f-9a6f-91df0d5ae8b2"
   },
   "outputs": [
    {
     "data": {
      "text/plain": [
       "25"
      ]
     },
     "execution_count": 21,
     "metadata": {},
     "output_type": "execute_result"
    }
   ],
   "source": [
    "c.addition()"
   ]
  },
  {
   "cell_type": "code",
   "execution_count": 22,
   "metadata": {
    "uuid": "a433da66-70d6-4e55-a16f-cb5ceabbc795"
   },
   "outputs": [],
   "source": [
    "class ExampleFive(ExampleFour):\n",
    "    def multiplication(self):\n",
    "        return self.a * self.b"
   ]
  },
  {
   "cell_type": "code",
   "execution_count": 23,
   "metadata": {
    "uuid": "55e4676e-552d-4c91-98ac-bcda1f1661bd"
   },
   "outputs": [],
   "source": [
    "c = ExampleFive(10, 15)"
   ]
  },
  {
   "cell_type": "code",
   "execution_count": 24,
   "metadata": {
    "uuid": "a00a11b9-64cb-4b84-937f-d4a08e55a866"
   },
   "outputs": [
    {
     "data": {
      "text/plain": [
       "25"
      ]
     },
     "execution_count": 24,
     "metadata": {},
     "output_type": "execute_result"
    }
   ],
   "source": [
    "c.addition()"
   ]
  },
  {
   "cell_type": "code",
   "execution_count": 25,
   "metadata": {
    "uuid": "602e2b76-9282-41fb-a2ae-f5e8f8700542"
   },
   "outputs": [
    {
     "data": {
      "text/plain": [
       "150"
      ]
     },
     "execution_count": 25,
     "metadata": {},
     "output_type": "execute_result"
    }
   ],
   "source": [
    "c.multiplication()"
   ]
  },
  {
   "cell_type": "code",
   "execution_count": 26,
   "metadata": {
    "uuid": "7e0ec289-2e12-422e-a6e8-928467ced561"
   },
   "outputs": [],
   "source": [
    "def multiplication(self):\n",
    "        return self.a * self.b"
   ]
  },
  {
   "cell_type": "code",
   "execution_count": 27,
   "metadata": {
    "uuid": "eef676a7-1aa2-48bb-8df1-faa0d6e376c2"
   },
   "outputs": [],
   "source": [
    "class ExampleSix(ExampleFour):\n",
    "    multiplication = multiplication"
   ]
  },
  {
   "cell_type": "code",
   "execution_count": 28,
   "metadata": {
    "uuid": "b6914c5b-ef2c-4e89-8658-945230a0d8d1"
   },
   "outputs": [],
   "source": [
    "c = ExampleSix(10, 15)"
   ]
  },
  {
   "cell_type": "code",
   "execution_count": 29,
   "metadata": {
    "uuid": "09c11cdf-8a11-44fc-bfa6-ab7d0e5fb1f0"
   },
   "outputs": [
    {
     "data": {
      "text/plain": [
       "25"
      ]
     },
     "execution_count": 29,
     "metadata": {},
     "output_type": "execute_result"
    }
   ],
   "source": [
    "c.addition()"
   ]
  },
  {
   "cell_type": "code",
   "execution_count": 30,
   "metadata": {
    "uuid": "3d48c537-1b7e-47ca-8265-7ec6d22ccdbb"
   },
   "outputs": [
    {
     "data": {
      "text/plain": [
       "150"
      ]
     },
     "execution_count": 30,
     "metadata": {},
     "output_type": "execute_result"
    }
   ],
   "source": [
    "c.multiplication()"
   ]
  },
  {
   "cell_type": "code",
   "execution_count": 31,
   "metadata": {
    "uuid": "8ba30bf1-927d-4f0f-bdff-e52902611f47"
   },
   "outputs": [],
   "source": [
    "class ExampleSeven(object):\n",
    "    def __init__(self, a, b):\n",
    "        self.a = a\n",
    "        self.b = b\n",
    "        self.__sum = a + b\n",
    "    multiplication = multiplication\n",
    "    def addition(self):\n",
    "        return self.__sum"
   ]
  },
  {
   "cell_type": "code",
   "execution_count": 32,
   "metadata": {
    "uuid": "5789b7e3-eada-4855-a8e7-835d05841f09"
   },
   "outputs": [],
   "source": [
    "c = ExampleSeven(10, 15)"
   ]
  },
  {
   "cell_type": "code",
   "execution_count": 33,
   "metadata": {
    "uuid": "cffc73ff-1abd-48d7-8d31-110c5688c8cc"
   },
   "outputs": [
    {
     "data": {
      "text/plain": [
       "25"
      ]
     },
     "execution_count": 33,
     "metadata": {},
     "output_type": "execute_result"
    }
   ],
   "source": [
    "c.addition()"
   ]
  },
  {
   "cell_type": "code",
   "execution_count": 34,
   "metadata": {
    "uuid": "4d52d700-8969-4461-84f1-024629dc249a"
   },
   "outputs": [
    {
     "data": {
      "text/plain": [
       "25"
      ]
     },
     "execution_count": 34,
     "metadata": {},
     "output_type": "execute_result"
    }
   ],
   "source": [
    "c._ExampleSeven__sum"
   ]
  },
  {
   "cell_type": "code",
   "execution_count": 35,
   "metadata": {
    "uuid": "351770f1-1e91-4d2f-9069-07a828a7b912"
   },
   "outputs": [
    {
     "data": {
      "text/plain": [
       "20"
      ]
     },
     "execution_count": 35,
     "metadata": {},
     "output_type": "execute_result"
    }
   ],
   "source": [
    "c.a += 10\n",
    "c.a"
   ]
  },
  {
   "cell_type": "code",
   "execution_count": 36,
   "metadata": {
    "uuid": "afae2e94-1ff5-4e7e-a17d-a178a4b2db4f"
   },
   "outputs": [
    {
     "data": {
      "text/plain": [
       "25"
      ]
     },
     "execution_count": 36,
     "metadata": {},
     "output_type": "execute_result"
    }
   ],
   "source": [
    "c.addition()"
   ]
  },
  {
   "cell_type": "code",
   "execution_count": 37,
   "metadata": {
    "uuid": "facaf795-8f14-438c-ac4b-50182c55968f"
   },
   "outputs": [
    {
     "data": {
      "text/plain": [
       "25"
      ]
     },
     "execution_count": 37,
     "metadata": {},
     "output_type": "execute_result"
    }
   ],
   "source": [
    "c._ExampleSeven__sum"
   ]
  },
  {
   "cell_type": "code",
   "execution_count": 38,
   "metadata": {
    "uuid": "0cf66833-d07e-413a-938a-c6f0f8add274"
   },
   "outputs": [
    {
     "data": {
      "text/plain": [
       "300"
      ]
     },
     "execution_count": 38,
     "metadata": {},
     "output_type": "execute_result"
    }
   ],
   "source": [
    "c.multiplication()"
   ]
  },
  {
   "cell_type": "code",
   "execution_count": 39,
   "metadata": {
    "uuid": "4ac60abf-3801-4c85-9a70-5225c067802e"
   },
   "outputs": [],
   "source": [
    "name_list = ['Sandra', 'Lilli', 'Guido', 'Zorro', 'Henry']"
   ]
  },
  {
   "cell_type": "code",
   "execution_count": 40,
   "metadata": {
    "uuid": "7a94a261-2baf-4ab4-9f76-8de755e2dde3"
   },
   "outputs": [
    {
     "name": "stdout",
     "output_type": "stream",
     "text": [
      "Sandra\n",
      "Lilli\n",
      "Guido\n",
      "Zorro\n",
      "Henry\n"
     ]
    }
   ],
   "source": [
    "for name in name_list:\n",
    "    print(name)"
   ]
  },
  {
   "cell_type": "markdown",
   "metadata": {},
   "source": [
    "### Simple Short Rate Class"
   ]
  },
  {
   "cell_type": "code",
   "execution_count": 41,
   "metadata": {
    "uuid": "d6fcc0d8-6c79-4a31-8e48-78a38311e688"
   },
   "outputs": [],
   "source": [
    "import numpy as np\n",
    "def discount_factor(r, t):\n",
    "    ''' Function to calculate a discount factor.\n",
    "    \n",
    "    Parameters\n",
    "    ==========\n",
    "    r : float\n",
    "        positive, constant short rate\n",
    "    t : float, array of floats\n",
    "        future date(s), in fraction of years;\n",
    "        e.g. 0.5 means half a year from now\n",
    "    \n",
    "    Returns\n",
    "    =======\n",
    "    df : float\n",
    "        discount factor\n",
    "    '''\n",
    "    df = np.exp(-r * t)\n",
    "      # use of NumPy universal function for vectorization\n",
    "    return df"
   ]
  },
  {
   "cell_type": "code",
   "execution_count": 42,
   "metadata": {
    "uuid": "8d7ae797-3070-4e98-a516-7c03d219885e"
   },
   "outputs": [],
   "source": [
    "import matplotlib.pyplot as plt\n",
    "%matplotlib inline"
   ]
  },
  {
   "cell_type": "code",
   "execution_count": 43,
   "metadata": {
    "uuid": "8febc46f-9d54-4ac9-b4a2-b7b20afd6657"
   },
   "outputs": [
    {
     "data": {
      "text/plain": [
       "<matplotlib.legend.Legend at 0x116ed0ba8>"
      ]
     },
     "execution_count": 43,
     "metadata": {},
     "output_type": "execute_result"
    },
    {
     "data": {
      "image/png": "[encoded data removed]",
      "text/plain": [
       "<matplotlib.figure.Figure at 0x116ed0be0>"
      ]
     },
     "metadata": {},
     "output_type": "display_data"
    }
   ],
   "source": [
    "t = np.linspace(0, 5)\n",
    "for r in [0.01, 0.05, 0.1]:\n",
    "    plt.plot(t, discount_factor(r, t), label='r=%4.2f' % r, lw=1.5)\n",
    "plt.xlabel('years')\n",
    "plt.ylabel('discount factor')\n",
    "plt.grid(True)\n",
    "plt.legend(loc=0)\n",
    "# tag: disc_fact_1\n",
    "# title: Discount factors for different short rates over 5 years"
   ]
  },
  {
   "cell_type": "code",
   "execution_count": 44,
   "metadata": {
    "uuid": "849b995a-8873-4a42-94c3-c638799d03e2"
   },
   "outputs": [],
   "source": [
    "class short_rate(object):\n",
    "    ''' Class to model a constant short rate object.\n",
    "    \n",
    "    Parameters\n",
    "    ==========\n",
    "    name : string\n",
    "        name of the object\n",
    "    rate : float\n",
    "        positive, constant short rate\n",
    "    \n",
    "    Methods\n",
    "    =======\n",
    "    get_discount_factors :\n",
    "        returns discount factors for given list/array\n",
    "        of dates/times (as year fractions)\n",
    "    '''\n",
    "    def __init__(self, name, rate):\n",
    "        self.name = name\n",
    "        self.rate = rate\n",
    "    def get_discount_factors(self, time_list):\n",
    "        ''' time_list : list/array-like '''\n",
    "        time_list = np.array(time_list)\n",
    "        return np.exp(-self.rate * time_list)"
   ]
  },
  {
   "cell_type": "code",
   "execution_count": 45,
   "metadata": {
    "uuid": "00abadb7-63af-4da6-a4f6-d80cc6ac1f75"
   },
   "outputs": [],
   "source": [
    "sr = short_rate('r', 0.05)"
   ]
  },
  {
   "cell_type": "code",
   "execution_count": 46,
   "metadata": {
    "uuid": "cb409ce7-30f9-4937-9ac9-85089ca4679f"
   },
   "outputs": [
    {
     "data": {
      "text/plain": [
       "('r', 0.05)"
      ]
     },
     "execution_count": 46,
     "metadata": {},
     "output_type": "execute_result"
    }
   ],
   "source": [
    "sr.name, sr.rate"
   ]
  },
  {
   "cell_type": "code",
   "execution_count": 47,
   "metadata": {
    "uuid": "3ac0270c-9950-437c-bb46-65d1cbddf283"
   },
   "outputs": [],
   "source": [
    "time_list = [0.0, 0.5, 1.0, 1.25, 1.75, 2.0]  # in year fractions"
   ]
  },
  {
   "cell_type": "code",
   "execution_count": 48,
   "metadata": {
    "uuid": "cab9697b-e048-4452-bfb8-1090bb48c293"
   },
   "outputs": [
    {
     "data": {
      "text/plain": [
       "array([ 1.        ,  0.97530991,  0.95122942,  0.93941306,  0.91621887,\n",
       "        0.90483742])"
      ]
     },
     "execution_count": 48,
     "metadata": {},
     "output_type": "execute_result"
    }
   ],
   "source": [
    "sr.get_discount_factors(time_list)"
   ]
  },
  {
   "cell_type": "code",
   "execution_count": 49,
   "metadata": {
    "uuid": "0ddbd6e4-8fd9-43e0-a256-5d1b880d3a05"
   },
   "outputs": [
    {
     "data": {
      "text/plain": [
       "<matplotlib.legend.Legend at 0x116efac50>"
      ]
     },
     "execution_count": 49,
     "metadata": {},
     "output_type": "execute_result"
    },
    {
     "data": {
      "image/png": "[encoded data removed]",
      "text/plain": [
       "<matplotlib.figure.Figure at 0x116f9fa20>"
      ]
     },
     "metadata": {},
     "output_type": "display_data"
    }
   ],
   "source": [
    "for r in [0.025, 0.05, 0.1, 0.15]:\n",
    "    sr.rate = r\n",
    "    plt.plot(t, sr.get_discount_factors(t),\n",
    "             label='r=%4.2f' % sr.rate, lw=1.5)\n",
    "plt.xlabel('years')\n",
    "plt.ylabel('discount factor')\n",
    "plt.grid(True)\n",
    "plt.legend(loc=0)\n",
    "# tag: disc_fact_2\n",
    "# title: Discount factors for different short rates over 5 years"
   ]
  },
  {
   "cell_type": "code",
   "execution_count": 50,
   "metadata": {
    "uuid": "2acc982a-71a8-4505-bb98-61eb4c85d6b0"
   },
   "outputs": [],
   "source": [
    "sr.rate = 0.05\n",
    "cash_flows = np.array([-100, 50, 75])\n",
    "time_list = [0.0, 1.0, 2.0]"
   ]
  },
  {
   "cell_type": "code",
   "execution_count": 51,
   "metadata": {
    "uuid": "1d1c180e-b8d2-41f9-9faf-55dd004a3606"
   },
   "outputs": [],
   "source": [
    "disc_facts = sr.get_discount_factors(time_list)"
   ]
  },
  {
   "cell_type": "code",
   "execution_count": 52,
   "metadata": {
    "uuid": "24992872-9aab-47dd-9c39-f8465e9f21fd"
   },
   "outputs": [
    {
     "data": {
      "text/plain": [
       "array([ 1.        ,  0.95122942,  0.90483742])"
      ]
     },
     "execution_count": 52,
     "metadata": {},
     "output_type": "execute_result"
    }
   ],
   "source": [
    "disc_facts"
   ]
  },
  {
   "cell_type": "code",
   "execution_count": 53,
   "metadata": {
    "uuid": "95fed5fe-b198-4790-9ba2-9219ce2d0510"
   },
   "outputs": [
    {
     "data": {
      "text/plain": [
       "array([-100.        ,   47.56147123,   67.86280635])"
      ]
     },
     "execution_count": 53,
     "metadata": {},
     "output_type": "execute_result"
    }
   ],
   "source": [
    "# present values\n",
    "disc_facts * cash_flows"
   ]
  },
  {
   "cell_type": "code",
   "execution_count": 54,
   "metadata": {
    "uuid": "22d67111-86c5-438b-ac7f-2d746848ee5a"
   },
   "outputs": [
    {
     "data": {
      "text/plain": [
       "15.424277577732667"
      ]
     },
     "execution_count": 54,
     "metadata": {},
     "output_type": "execute_result"
    }
   ],
   "source": [
    "# net present value\n",
    "np.sum(disc_facts * cash_flows)"
   ]
  },
  {
   "cell_type": "code",
   "execution_count": 55,
   "metadata": {
    "uuid": "25b83999-44c9-4d70-84ea-5ecbca23ade7"
   },
   "outputs": [
    {
     "data": {
      "text/plain": [
       "-1.4032346276182679"
      ]
     },
     "execution_count": 55,
     "metadata": {},
     "output_type": "execute_result"
    }
   ],
   "source": [
    "sr.rate = 0.15\n",
    "np.sum(sr.get_discount_factors(time_list) * cash_flows)"
   ]
  },
  {
   "cell_type": "markdown",
   "metadata": {},
   "source": [
    "### Cash Flow Series Class"
   ]
  },
  {
   "cell_type": "code",
   "execution_count": 56,
   "metadata": {
    "uuid": "27fec9d5-6849-4ef0-bd69-545e141eb888"
   },
   "outputs": [],
   "source": [
    "class cash_flow_series(object):\n",
    "    ''' Class to model a cash flows series.\n",
    "    \n",
    "    Attributes\n",
    "    ==========\n",
    "    name : string\n",
    "        name of the object\n",
    "    time_list : list/array-like\n",
    "        list of (positive) year fractions\n",
    "    cash_flows : list/array-like\n",
    "        corresponding list of cash flow values\n",
    "    short_rate : instance of short_rate class\n",
    "        short rate object used for discounting\n",
    "    \n",
    "    Methods\n",
    "    =======\n",
    "    present_value_list :\n",
    "        returns an array with present values\n",
    "    net_present_value :\n",
    "        returns NPV for cash flow series\n",
    "    '''\n",
    "    def __init__(self, name, time_list, cash_flows, short_rate):\n",
    "        self.name = name\n",
    "        self.time_list = time_list\n",
    "        self.cash_flows = cash_flows\n",
    "        self.short_rate = short_rate\n",
    "    def present_value_list(self):\n",
    "        df = self.short_rate.get_discount_factors(self.time_list)\n",
    "        return np.array(self.cash_flows) * df\n",
    "    def net_present_value(self):\n",
    "        return np.sum(self.present_value_list())"
   ]
  },
  {
   "cell_type": "code",
   "execution_count": 57,
   "metadata": {
    "uuid": "50136851-d7f8-467a-a04b-4b88bc6dc630"
   },
   "outputs": [],
   "source": [
    "sr.rate = 0.05\n",
    "cfs = cash_flow_series('cfs', time_list, cash_flows, sr)"
   ]
  },
  {
   "cell_type": "code",
   "execution_count": 58,
   "metadata": {
    "uuid": "f6245d43-7dde-44b4-9b35-40eea1c6af66"
   },
   "outputs": [
    {
     "data": {
      "text/plain": [
       "array([-100,   50,   75])"
      ]
     },
     "execution_count": 58,
     "metadata": {},
     "output_type": "execute_result"
    }
   ],
   "source": [
    "cfs.cash_flows"
   ]
  },
  {
   "cell_type": "code",
   "execution_count": 59,
   "metadata": {
    "uuid": "04da2bcd-a388-4830-a152-8ab6cd958e68"
   },
   "outputs": [
    {
     "data": {
      "text/plain": [
       "[0.0, 1.0, 2.0]"
      ]
     },
     "execution_count": 59,
     "metadata": {},
     "output_type": "execute_result"
    }
   ],
   "source": [
    "cfs.time_list"
   ]
  },
  {
   "cell_type": "code",
   "execution_count": 60,
   "metadata": {
    "uuid": "7de29949-494c-4156-bbc9-4165cdb87e47"
   },
   "outputs": [
    {
     "data": {
      "text/plain": [
       "array([-100.        ,   47.56147123,   67.86280635])"
      ]
     },
     "execution_count": 60,
     "metadata": {},
     "output_type": "execute_result"
    }
   ],
   "source": [
    "cfs.present_value_list()"
   ]
  },
  {
   "cell_type": "code",
   "execution_count": 61,
   "metadata": {
    "uuid": "a7822201-d6b3-4715-9911-de550887f5e3"
   },
   "outputs": [
    {
     "data": {
      "text/plain": [
       "15.424277577732667"
      ]
     },
     "execution_count": 61,
     "metadata": {},
     "output_type": "execute_result"
    }
   ],
   "source": [
    "cfs.net_present_value()"
   ]
  },
  {
   "cell_type": "code",
   "execution_count": 62,
   "metadata": {
    "uuid": "94f0003a-b9f3-4c92-b814-e0a6e6f9977c"
   },
   "outputs": [],
   "source": [
    "class cfs_sensitivity(cash_flow_series):\n",
    "    def npv_sensitivity(self, short_rates):\n",
    "        npvs = []\n",
    "        for rate in short_rates:\n",
    "            sr.rate = rate\n",
    "            npvs.append(self.net_present_value())\n",
    "        return np.array(npvs)"
   ]
  },
  {
   "cell_type": "code",
   "execution_count": 63,
   "metadata": {
    "uuid": "523386c6-0394-40f2-88af-6dcc23b1f742"
   },
   "outputs": [],
   "source": [
    "cfs_sens = cfs_sensitivity('cfs', time_list, cash_flows, sr)"
   ]
  },
  {
   "cell_type": "code",
   "execution_count": 64,
   "metadata": {
    "uuid": "743dbb63-8728-49d5-83b0-f2213c37c4f8"
   },
   "outputs": [],
   "source": [
    "short_rates = [0.01, 0.025, 0.05, 0.075, 0.1, 0.125, 0.15, 0.2]"
   ]
  },
  {
   "cell_type": "code",
   "execution_count": 65,
   "metadata": {
    "uuid": "bbb146fa-1f7a-459b-b89e-8baad84eda8a"
   },
   "outputs": [
    {
     "data": {
      "text/plain": [
       "array([ 23.01739219,  20.10770244,  15.42427758,  10.94027255,\n",
       "         6.64667738,   2.53490386,  -1.40323463,  -8.78945889])"
      ]
     },
     "execution_count": 65,
     "metadata": {},
     "output_type": "execute_result"
    }
   ],
   "source": [
    "npvs = cfs_sens.npv_sensitivity(short_rates)\n",
    "npvs"
   ]
  },
  {
   "cell_type": "code",
   "execution_count": 66,
   "metadata": {
    "uuid": "e96a2807-b45d-4c02-b5b6-6ca80026f340"
   },
   "outputs": [
    {
     "data": {
      "text/plain": [
       "<matplotlib.text.Text at 0x11723dc18>"
      ]
     },
     "execution_count": 66,
     "metadata": {},
     "output_type": "execute_result"
    },
    {
     "data": {
      "image/png": "[encoded data removed]",
      "text/plain": [
       "<matplotlib.figure.Figure at 0x116f5c710>"
      ]
     },
     "metadata": {},
     "output_type": "display_data"
    }
   ],
   "source": [
    "plt.plot(short_rates, npvs, 'b')\n",
    "plt.plot(short_rates, npvs, 'ro')\n",
    "plt.plot((0, max(short_rates)), (0, 0), 'r', lw=2)\n",
    "plt.grid(True)\n",
    "plt.xlabel('short rate')\n",
    "plt.ylabel('net present value')\n",
    "# tag: net_present_values\n",
    "# title: Net present values of cash flow list for different short rates"
   ]
  },
  {
   "cell_type": "markdown",
   "metadata": {},
   "source": [
    "## Conclusions"
   ]
  },
  {
   "cell_type": "markdown",
   "metadata": {},
   "source": [
    "## Further Reading"
   ]
  },
  {
   "cell_type": "markdown",
   "metadata": {},
   "source": [
    "<img src=\"http://hilpisch.com/tpq_logo.png\" alt=\"The Python Quants\" width=\"35%\" align=\"right\" border=\"0\"><br>\n",
    "\n",
    "<a href=\"http://www.pythonquants.com\" target=\"_blank\">www.pythonquants.com</a> | <a href=\"http://twitter.com/dyjh\" target=\"_blank\">@dyjh</a>\n",
    "\n",
    "<a href=\"mailto:analytics@pythonquants.com\">analytics@pythonquants.com</a>\n",
    "\n",
    "**Python Quant Platform** |\n",
    "<a href=\"http://oreilly.quant-platform.com\">http://oreilly.quant-platform.com</a>\n",
    "\n",
    "**Derivatives Analytics with Python** |\n",
    "<a href=\"http://www.derivatives-analytics-with-python.com\" target=\"_blank\">Derivatives Analytics @ Wiley Finance</a>\n",
    "\n",
    "**Python for Finance** |\n",
    "<a href=\"http://shop.oreilly.com/product/0636920032441.do\" target=\"_blank\">Python for Finance @ O'Reilly</a>"
   ]
  }
 ],
 "metadata": {
  "anaconda-cloud": {},
  "kernelspec": {
   "display_name": "Python 3",
   "language": "python",
   "name": "python3"
  },
  "language_info": {
   "codemirror_mode": {
    "name": "ipython",
    "version": 3
   },
   "file_extension": ".py",
   "mimetype": "text/x-python",
   "name": "python",
   "nbconvert_exporter": "python",
   "pygments_lexer": "ipython3",
   "version": "3.6.0"
  }
 },
 "nbformat": 4,
 "nbformat_minor": 1
}
