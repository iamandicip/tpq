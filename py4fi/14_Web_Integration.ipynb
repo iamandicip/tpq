{
 "cells": [
  {
   "cell_type": "markdown",
   "metadata": {},
   "source": [
    "<img src=\"http://hilpisch.com/tpq_logo.png\" alt=\"The Python Quants\" width=\"35%\" align=\"right\" border=\"0\"><br>"
   ]
  },
  {
   "cell_type": "markdown",
   "metadata": {},
   "source": [
    "# Python for Finance"
   ]
  },
  {
   "cell_type": "markdown",
   "metadata": {},
   "source": [
    "**Analyze Big Financial Data**\n",
    "\n",
    "O'Reilly (2014)\n",
    "\n",
    "Yves Hilpisch"
   ]
  },
  {
   "cell_type": "markdown",
   "metadata": {},
   "source": [
    "<img style=\"border:0px solid grey;\" src=\"http://hilpisch.com/python_for_finance.png\" alt=\"Python for Finance\" width=\"30%\" align=\"left\" border=\"0\">"
   ]
  },
  {
   "cell_type": "markdown",
   "metadata": {},
   "source": [
    "**Buy the book ** |\n",
    "<a href='http://shop.oreilly.com/product/0636920032441.do' target='_blank'>O'Reilly</a> |\n",
    "<a href='http://www.amazon.com/Yves-Hilpisch/e/B00JCYHHJM' target='_blank'>Amazon</a>\n",
    "\n",
    "**All book codes & IPYNBs** |\n",
    "<a href=\"http://oreilly.quant-platform.com\">http://oreilly.quant-platform.com</a>\n",
    "\n",
    "**The Python Quants GmbH** | <a href='http://tpq.io' target='_blank'>http://tpq.io</a>\n",
    "\n",
    "**Contact us** | <a href='mailto:pff@tpq.io'>pff@tpq.io</a>"
   ]
  },
  {
   "cell_type": "markdown",
   "metadata": {},
   "source": [
    "# Web Integration"
   ]
  },
  {
   "cell_type": "code",
   "execution_count": 1,
   "metadata": {
    "collapsed": true
   },
   "outputs": [],
   "source": [
    "import seaborn as sns; sns.set()\n",
    "import matplotlib as mpl\n",
    "mpl.rcParams['font.family'] = 'serif'"
   ]
  },
  {
   "cell_type": "markdown",
   "metadata": {},
   "source": [
    "## Web Basics"
   ]
  },
  {
   "cell_type": "markdown",
   "metadata": {},
   "source": [
    "### ftplib"
   ]
  },
  {
   "cell_type": "raw",
   "metadata": {
    "uuid": "ed06650f-c346-4211-a504-918431567c00"
   },
   "source": [
    "import ftplib\n",
    "import numpy as np"
   ]
  },
  {
   "cell_type": "raw",
   "metadata": {
    "uuid": "f9533953-66c8-428e-8476-fb9b5320cbc3"
   },
   "source": [
    "ftp = ftplib.FTP('YOUR_SERVER_DOMAIN.com')"
   ]
  },
  {
   "cell_type": "raw",
   "metadata": {
    "uuid": "72343084-5e71-42bc-9649-acedaf9bf9b9"
   },
   "source": [
    "ftp.login(user='REPLACE', passwd='REPLACE')"
   ]
  },
  {
   "cell_type": "raw",
   "metadata": {
    "uuid": "bb8b9a5f-2482-4c21-bb52-c5f0c659121b"
   },
   "source": [
    "np.save('./data/array', np.random.standard_normal((100, 100)))"
   ]
  },
  {
   "cell_type": "raw",
   "metadata": {
    "uuid": "1e23d513-1cbc-4dff-87c8-35bbefd552ea"
   },
   "source": [
    "f = open('./data/array.npy', 'r')"
   ]
  },
  {
   "cell_type": "raw",
   "metadata": {
    "uuid": "d7723e2d-8a38-4e76-b18d-47e804bbb9e5"
   },
   "source": [
    "ftp.storbinary('STOR array.npy', f)"
   ]
  },
  {
   "cell_type": "raw",
   "metadata": {
    "uuid": "2827d953-cfad-44d3-a2bf-67cf5863a1f7"
   },
   "source": [
    "ftp.retrlines('LIST')"
   ]
  },
  {
   "cell_type": "raw",
   "metadata": {
    "uuid": "90b28799-36f2-4591-8767-d01b85322596"
   },
   "source": [
    "f = open('./data/array_ftp.npy', 'wb').write"
   ]
  },
  {
   "cell_type": "raw",
   "metadata": {
    "uuid": "bda461e0-6d17-4011-8d12-cae2658b0938"
   },
   "source": [
    "ftp.retrbinary('RETR array.npy', f)"
   ]
  },
  {
   "cell_type": "raw",
   "metadata": {
    "uuid": "fd643a77-53a7-4b88-80a1-992d37141e1b"
   },
   "source": [
    "ftp.delete('array.npy')"
   ]
  },
  {
   "cell_type": "raw",
   "metadata": {
    "uuid": "b248ab34-3f84-434b-a4cf-75d3bef1f8fe"
   },
   "source": [
    "ftp.retrlines('LIST')"
   ]
  },
  {
   "cell_type": "raw",
   "metadata": {
    "uuid": "372f7d6f-928a-436c-bf64-13b0aa994620"
   },
   "source": [
    "ftp.close()"
   ]
  },
  {
   "cell_type": "raw",
   "metadata": {
    "uuid": "a1d9022c-bd30-43e1-b3c7-95bfefe6f60e"
   },
   "source": [
    "!ls -n ./data"
   ]
  },
  {
   "cell_type": "raw",
   "metadata": {
    "uuid": "ed6eb7c9-0004-42a7-b0b3-0e1aa5f27ae1"
   },
   "source": [
    "!rm -f ./data/arr*\n",
    "  # clean-up directory"
   ]
  },
  {
   "cell_type": "raw",
   "metadata": {
    "uuid": "f51de772-ad07-4983-8914-d60383fc0393"
   },
   "source": [
    "ftps = ftplib.FTP_TLS('YOUR_SERVER_DOMAIN.com')"
   ]
  },
  {
   "cell_type": "raw",
   "metadata": {
    "uuid": "442158b0-2c8a-47f5-a60d-3019c687b196"
   },
   "source": [
    "ftps.login(user='REPLACE', passwd='REPLACE')"
   ]
  },
  {
   "cell_type": "raw",
   "metadata": {
    "uuid": "a8ab8f48-5524-423c-936f-b045ac5dc3b0"
   },
   "source": [
    "ftps.prot_p()"
   ]
  },
  {
   "cell_type": "raw",
   "metadata": {
    "uuid": "80d163ef-151d-4536-8e16-7fc0774db409"
   },
   "source": [
    "ftps.retrlines('LIST')"
   ]
  },
  {
   "cell_type": "raw",
   "metadata": {
    "uuid": "6cb73378-f642-4627-89a9-f6f69f076d9a"
   },
   "source": [
    "ftps.close()"
   ]
  },
  {
   "cell_type": "markdown",
   "metadata": {},
   "source": [
    "### httplib"
   ]
  },
  {
   "cell_type": "code",
   "execution_count": 2,
   "metadata": {
    "uuid": "0d79f4d1-5d93-4c9d-9d62-40dc4981a457"
   },
   "outputs": [],
   "source": [
    "import http\n",
    "import http.client"
   ]
  },
  {
   "cell_type": "code",
   "execution_count": 3,
   "metadata": {
    "uuid": "d665bdf3-fc62-46c0-8f7f-ff125f12ca51"
   },
   "outputs": [],
   "source": [
    "http = http.client.HTTPConnection('hilpisch.com')"
   ]
  },
  {
   "cell_type": "code",
   "execution_count": 4,
   "metadata": {
    "uuid": "9285e3ee-2035-4816-897f-4c9e2c7c8ef0"
   },
   "outputs": [],
   "source": [
    "http.request('GET', '/index.htm')"
   ]
  },
  {
   "cell_type": "code",
   "execution_count": 5,
   "metadata": {
    "uuid": "18a7deaf-ba30-440f-88e7-fd6c90245661"
   },
   "outputs": [],
   "source": [
    "resp = http.getresponse()"
   ]
  },
  {
   "cell_type": "code",
   "execution_count": 6,
   "metadata": {
    "uuid": "ca638e56-6667-4eea-af63-c2be54c86b9c"
   },
   "outputs": [
    {
     "data": {
      "text/plain": [
       "(200, 'OK')"
      ]
     },
     "execution_count": 6,
     "metadata": {},
     "output_type": "execute_result"
    }
   ],
   "source": [
    "resp.status, resp.reason"
   ]
  },
  {
   "cell_type": "code",
   "execution_count": 7,
   "metadata": {
    "uuid": "ea7a144c-81bc-4cab-9132-c70af19773d3"
   },
   "outputs": [
    {
     "data": {
      "text/plain": [
       "b'<!doctype html>\\n<html lang=\"en\">\\n\\n\\t<head>\\n\\t\\t<meta charset=\"utf-8\">\\n\\n\\t\\t<title>Dr. Yves J. Hilpisch \\xe2\\x80'"
      ]
     },
     "execution_count": 7,
     "metadata": {},
     "output_type": "execute_result"
    }
   ],
   "source": [
    "content = resp.read()\n",
    "content[:100]\n",
    "  # first 100 characters of the file"
   ]
  },
  {
   "cell_type": "code",
   "execution_count": 8,
   "metadata": {
    "uuid": "f8ca3902-3e86-4398-8aa7-e301a0706871"
   },
   "outputs": [
    {
     "data": {
      "text/plain": [
       "2120"
      ]
     },
     "execution_count": 8,
     "metadata": {},
     "output_type": "execute_result"
    }
   ],
   "source": [
    "index = content.find(b' E ')\n",
    "index"
   ]
  },
  {
   "cell_type": "code",
   "execution_count": 9,
   "metadata": {
    "uuid": "4cbca133-e69f-4f1f-8378-de0a212a6fdd"
   },
   "outputs": [
    {
     "data": {
      "text/plain": [
       "b' E contact [at] dyjh [dot] de'"
      ]
     },
     "execution_count": 9,
     "metadata": {},
     "output_type": "execute_result"
    }
   ],
   "source": [
    "content[index:index + 29]"
   ]
  },
  {
   "cell_type": "code",
   "execution_count": 10,
   "metadata": {
    "uuid": "e1d9bb7e-2429-4a3b-8ad2-ce8e20f398d1"
   },
   "outputs": [],
   "source": [
    "http.close()"
   ]
  },
  {
   "cell_type": "markdown",
   "metadata": {},
   "source": [
    "### urllib"
   ]
  },
  {
   "cell_type": "code",
   "execution_count": 11,
   "metadata": {
    "uuid": "7a44c652-b62f-4974-b7be-c1c708c432d2"
   },
   "outputs": [],
   "source": [
    "import urllib.request"
   ]
  },
  {
   "cell_type": "code",
   "execution_count": 12,
   "metadata": {
    "uuid": "eeeecf85-e182-44d1-96ca-dfa7c7b770e0"
   },
   "outputs": [],
   "source": [
    "url = 'http://ichart.finance.yahoo.com/table.csv?g=d&ignore=.csv'\n",
    "url += '&s=YHOO&a=01&b=1&c=2014&d=02&e=6&f=2014'"
   ]
  },
  {
   "cell_type": "code",
   "execution_count": 13,
   "metadata": {
    "uuid": "d0222eb9-e696-477e-9647-adf7296153ac"
   },
   "outputs": [],
   "source": [
    "connect = urllib.request.urlopen(url)"
   ]
  },
  {
   "cell_type": "code",
   "execution_count": 14,
   "metadata": {
    "uuid": "afb60cb7-6822-438a-81fd-43cdaca9290c"
   },
   "outputs": [],
   "source": [
    "data = connect.read()"
   ]
  },
  {
   "cell_type": "code",
   "execution_count": 15,
   "metadata": {
    "uuid": "b97fa159-af2c-4d4c-bd07-3b26e4942f86"
   },
   "outputs": [
    {
     "name": "stdout",
     "output_type": "stream",
     "text": [
      "b'Date,Open,High,Low,Close,Volume,Adj Close\\n2014-03-06,39.599998,39.98,39.50,39.66,10626700,39.66\\n2014-03-05,39.830002,40.150002,39.189999,39.50,12536800,39.50\\n2014-03-04,38.759998,39.790001,38.68,39.630001,16139400,39.630001\\n2014-03-03,37.650002,38.66,37.43,38.25,14714700,38.25\\n2014-02-28,38.549999,39.380001,38.220001,38.669998,16957100,38.669998\\n2014-02-27,37.799999,38.48,37.740002,38.470001,15489400,38.470001\\n2014-02-26,37.349998,38.099998,37.34,37.619999,15778900,37.619999\\n2014-02-25,37.48,37.580002,37.02,37.259998,9756900,37.259998\\n2014-02-24,37.23,37.709999,36.82,37.419998,15738900,37.419998\\n2014-02-21,37.900002,37.959999,37.220001,37.290001,12351900,37.290001\\n2014-02-20,37.830002,38.040001,37.299999,37.790001,11155900,37.790001\\n2014-02-19,38.060001,38.330002,37.68,37.810001,15851900,37.810001\\n2014-02-18,38.310001,38.59,38.09,38.310001,12096400,38.310001\\n2014-02-14,38.43,38.450001,38.110001,38.23,9975800,38.23\\n2014-02-13,37.919998,38.689999,37.790001,38.52,12088100,38.52\\n2014-02-12,38.599998,38.91,38.029999,38.110001,14088500,38.110001\\n2014-02-11,38.150002,38.860001,38.09,38.50,18348000,38.50\\n2014-02-10,38.00,38.130001,37.25,37.759998,17642900,37.759998\\n2014-02-07,36.650002,37.27,36.240002,37.23,16178500,37.23\\n2014-02-06,35.650002,36.75,35.610001,36.240002,14250000,36.240002\\n2014-02-05,35.599998,35.939999,34.990002,35.490002,14022900,35.490002\\n2014-02-04,35.110001,35.860001,34.860001,35.66,21082500,35.66\\n2014-02-03,35.939999,36.009998,34.66,34.900002,22195200,34.900002\\n'\n"
     ]
    }
   ],
   "source": [
    "print(data)"
   ]
  },
  {
   "cell_type": "code",
   "execution_count": 16,
   "metadata": {
    "uuid": "18dc3eb4-eda6-42f2-b1f8-01454b6303f1"
   },
   "outputs": [],
   "source": [
    "url = 'http://ichart.finance.yahoo.com/table.csv?g=d&ignore=.csv'\n",
    "url += '&%s'  # for replacement with parameters\n",
    "url += '&d=06&e=30&f=2014'"
   ]
  },
  {
   "cell_type": "code",
   "execution_count": 17,
   "metadata": {
    "uuid": "92201ad4-66a0-4c39-b0e0-2ac94182dcc2"
   },
   "outputs": [],
   "source": [
    "params = urllib.parse.urlencode({'s': 'MSFT', 'a': '05', 'b': 1, 'c': 2014})"
   ]
  },
  {
   "cell_type": "code",
   "execution_count": 18,
   "metadata": {
    "uuid": "fe19bda7-77d7-40a8-8b6a-a6fbadf29223"
   },
   "outputs": [
    {
     "data": {
      "text/plain": [
       "'b=1&s=MSFT&a=05&c=2014'"
      ]
     },
     "execution_count": 18,
     "metadata": {},
     "output_type": "execute_result"
    }
   ],
   "source": [
    "params"
   ]
  },
  {
   "cell_type": "code",
   "execution_count": 19,
   "metadata": {
    "uuid": "3013909d-ce21-4d68-a679-f2fd91f5e104"
   },
   "outputs": [
    {
     "data": {
      "text/plain": [
       "'http://ichart.finance.yahoo.com/table.csv?g=d&ignore=.csv&b=1&s=MSFT&a=05&c=2014&d=06&e=30&f=2014'"
      ]
     },
     "execution_count": 19,
     "metadata": {},
     "output_type": "execute_result"
    }
   ],
   "source": [
    "url % params"
   ]
  },
  {
   "cell_type": "code",
   "execution_count": 20,
   "metadata": {
    "uuid": "a291f6f5-cc24-47c1-a07b-d7cf5ffbfaf1"
   },
   "outputs": [],
   "source": [
    "connect = urllib.request.urlopen(url % params)"
   ]
  },
  {
   "cell_type": "code",
   "execution_count": 21,
   "metadata": {
    "uuid": "fb09a069-94f6-4175-9515-7f2758b367af"
   },
   "outputs": [],
   "source": [
    "data = connect.read()"
   ]
  },
  {
   "cell_type": "code",
   "execution_count": 22,
   "metadata": {
    "uuid": "5d288e85-ba12-4c37-adbc-42fd8d00b7d3"
   },
   "outputs": [
    {
     "name": "stdout",
     "output_type": "stream",
     "text": [
      "b'Date,Open,High,Low,Close,Volume,Adj Close\\n2014-07-30,44.07,44.099998,43.290001,43.580002,31921400,40.778475\\n2014-07-29,43.91,44.09,43.639999,43.889999,27763100,41.068545\\n2014-07-28,44.360001,44.509998,43.93,43.970001,29684200,41.143404\\n2014-07-25,44.299999,44.66,44.299999,44.50,26737700,41.639332\\n2014-07-24,44.93,45.00,44.32,44.400002,30725300,41.545762\\n2014-07-23,45.450001,45.450001,44.619999,44.869999,52362900,41.985545\\n2014-07-22,45.00,45.150002,44.59,44.830002,43095800,41.948119\\n2014-07-21,44.560001,45.16,44.220001,44.84,37604400,41.957475\\n2014-07-18,44.650002,44.84,44.25,44.689999,43407500,41.817116\\n2014-07-17,45.450001,45.709999,44.25,44.529999,82180300,41.667402\\n2014-07-16,42.509998,44.310001,42.48,44.080002,63318000,41.246333\\n2014-07-15,42.330002,42.470001,42.029999,42.450001,28748700,39.721116\\n2014-07-14,42.220001,42.450001,42.040001,42.139999,21881100,39.431043\\n2014-07-11,41.700001,42.09,41.48,42.09,24083000,39.384258\\n2014-07-10,41.369999,42.00,41.049999,41.689999,21854700,39.00997\\n2014-07-09,41.98,41.990002,41.529999,41.669998,18445900,38.991256\\n2014-07-08,41.869999,42.00,41.610001,41.779999,31218200,39.094185\\n2014-07-07,41.75,42.119999,41.709999,41.990002,21952400,39.290688\\n2014-07-03,41.91,41.990002,41.560001,41.799999,15969300,39.1129\\n2014-07-02,41.73,41.900002,41.529999,41.900002,20208100,39.206473\\n2014-07-01,41.860001,42.150002,41.689999,41.869999,26917000,39.178399\\n2014-06-30,42.169998,42.209999,41.700001,41.700001,30793100,39.019329\\n2014-06-27,41.610001,42.290001,41.509998,42.25,74640000,39.533972\\n2014-06-26,41.93,41.939999,41.43,41.720001,23604400,39.038044\\n2014-06-25,41.700001,42.049999,41.459999,42.029999,20049100,39.328114\\n2014-06-24,41.830002,41.939999,41.560001,41.75,26509100,39.066115\\n2014-06-23,41.73,42.00,41.689999,41.990002,18743900,39.290688\\n2014-06-20,41.450001,41.830002,41.380001,41.68,47764900,39.000615\\n2014-06-19,41.57,41.77,41.330002,41.509998,19828200,38.841541\\n2014-06-18,41.610001,41.740002,41.18,41.650002,27097000,38.972544\\n2014-06-17,41.290001,41.91,40.34,41.68,22518600,39.000615\\n2014-06-16,41.040001,41.610001,41.040001,41.50,24205300,38.832186\\n2014-06-13,41.099998,41.57,40.860001,41.23,26310000,38.579542\\n2014-06-12,40.810001,40.880001,40.290001,40.580002,29818900,37.971329\\n2014-06-11,40.93,41.07,40.77,40.860001,18040000,38.233328\\n2014-06-10,41.029999,41.16,40.860001,41.110001,15117700,38.467257\\n2014-06-09,41.389999,41.48,41.02,41.27,15019200,38.616972\\n2014-06-06,41.48,41.66,41.240002,41.48,24060500,38.813471\\n2014-06-05,40.59,41.25,40.400002,41.209999,31865200,38.560827\\n2014-06-04,40.209999,40.369999,39.860001,40.32,23209000,37.728041\\n2014-06-03,40.599998,40.68,40.25,40.290001,18068900,37.699971\\n2014-06-02,40.950001,41.09,40.68,40.790001,18504300,38.167829\\n'\n"
     ]
    }
   ],
   "source": [
    "print(data)"
   ]
  },
  {
   "cell_type": "code",
   "execution_count": 23,
   "metadata": {
    "uuid": "60b60a3a-2cce-4f97-aaa7-c042f2e60279"
   },
   "outputs": [
    {
     "data": {
      "text/plain": [
       "('./data/msft.csv', <http.client.HTTPMessage at 0x1177dc668>)"
      ]
     },
     "execution_count": 23,
     "metadata": {},
     "output_type": "execute_result"
    }
   ],
   "source": [
    "urllib.request.urlretrieve(url % params, './data/msft.csv')"
   ]
  },
  {
   "cell_type": "code",
   "execution_count": 24,
   "metadata": {
    "uuid": "acf4d984-2ff8-4258-9a6c-87a86ee2f116"
   },
   "outputs": [
    {
     "data": {
      "text/plain": [
       "['Date,Open,High,Low,Close,Volume,Adj Close\\n',\n",
       " '2014-07-30,44.07,44.099998,43.290001,43.580002,31921400,40.778475\\n',\n",
       " '2014-07-29,43.91,44.09,43.639999,43.889999,27763100,41.068545\\n',\n",
       " '2014-07-28,44.360001,44.509998,43.93,43.970001,29684200,41.143404\\n',\n",
       " '2014-07-25,44.299999,44.66,44.299999,44.50,26737700,41.639332\\n']"
      ]
     },
     "execution_count": 24,
     "metadata": {},
     "output_type": "execute_result"
    }
   ],
   "source": [
    "csv = open('./data/msft.csv', 'r')\n",
    "csv.readlines()[:5]"
   ]
  },
  {
   "cell_type": "code",
   "execution_count": 25,
   "metadata": {
    "uuid": "62d5e85b-1590-450c-9018-746e6872f1fa"
   },
   "outputs": [],
   "source": [
    "!rm -f ./data/*"
   ]
  },
  {
   "cell_type": "markdown",
   "metadata": {},
   "source": [
    "## Web Plotting"
   ]
  },
  {
   "cell_type": "markdown",
   "metadata": {},
   "source": [
    "### Static Plots"
   ]
  },
  {
   "cell_type": "code",
   "execution_count": 26,
   "metadata": {
    "uuid": "bb617800-1dc9-4cb9-a7b7-2b8cd16cf0b2"
   },
   "outputs": [],
   "source": [
    "import numpy as np\n",
    "import pandas as pd\n",
    "%matplotlib inline"
   ]
  },
  {
   "cell_type": "code",
   "execution_count": 27,
   "metadata": {
    "uuid": "8e1e8943-d88d-4b61-bf19-15e55bebfb3a"
   },
   "outputs": [],
   "source": [
    "url = 'http://ichart.yahoo.com/table.csv?s=MSFT&a=0&b=1&c=2009'\n",
    "data = pd.read_csv(url, parse_dates=['Date'])"
   ]
  },
  {
   "cell_type": "code",
   "execution_count": 28,
   "metadata": {
    "uuid": "ca6562c0-9932-4d5c-9811-4512e717fac3"
   },
   "outputs": [
    {
     "data": {
      "text/plain": [
       "<matplotlib.axes._subplots.AxesSubplot at 0x11a11f240>"
      ]
     },
     "execution_count": 28,
     "metadata": {},
     "output_type": "execute_result"
    },
    {
     "data": {
      "image/png": "[encoded data removed]",
      "text/plain": [
       "<matplotlib.figure.Figure at 0x11a11f7b8>"
      ]
     },
     "metadata": {},
     "output_type": "display_data"
    }
   ],
   "source": [
    "import matplotlib.pyplot as plt\n",
    "fig, ax = plt.subplots()\n",
    "data.plot(x='Date', y='Close', grid=True, ax=ax)\n",
    "# tag: microsoft\n",
    "# title: Historical stock prices for Microsoft since January 2009 (+matplotlib+)"
   ]
  },
  {
   "cell_type": "markdown",
   "metadata": {},
   "source": [
    "### Interactive Plots"
   ]
  },
  {
   "cell_type": "markdown",
   "metadata": {},
   "source": [
    "**REMARK**: The original version used Bokeh for Web plotting. Plotly seems to be the more easy and intuitive way for generating interactive D3.js Web plots."
   ]
  },
  {
   "cell_type": "code",
   "execution_count": 29,
   "metadata": {
    "collapsed": true
   },
   "outputs": [],
   "source": [
    "import warnings\n",
    "warnings.simplefilter('ignore')"
   ]
  },
  {
   "cell_type": "code",
   "execution_count": 30,
   "metadata": {
    "uuid": "be442f01-3953-4343-b58e-b192628af852"
   },
   "outputs": [],
   "source": [
    "import plotly.plotly as py\n",
    "import cufflinks as cf\n",
    "py.sign_in('Python-Demo-Account', 'gwt101uhh0')"
   ]
  },
  {
   "cell_type": "code",
   "execution_count": 31,
   "metadata": {
    "uuid": "a83653f0-d602-4bdb-b2ae-6379c50e6f1c"
   },
   "outputs": [
    {
     "data": {
      "text/html": [
       "<iframe id=\"igraph\" scrolling=\"no\" style=\"border:none;\" seamless=\"seamless\" src=\"https://plot.ly/~Python-Demo-Account/5768.embed\" height=\"525px\" width=\"100%\"></iframe>"
      ],
      "text/plain": [
       "<plotly.tools.PlotlyDisplay object>"
      ]
     },
     "execution_count": 31,
     "metadata": {},
     "output_type": "execute_result"
    }
   ],
   "source": [
    "# transforming the above mpl figure\n",
    "# to interactive D3.js plot\n",
    "py.iplot_mpl(fig)"
   ]
  },
  {
   "cell_type": "code",
   "execution_count": 32,
   "metadata": {},
   "outputs": [
    {
     "data": {
      "text/html": [
       "<iframe id=\"igraph\" scrolling=\"no\" style=\"border:none;\" seamless=\"seamless\" src=\"https://plot.ly/~Python-Demo-Account/5770.embed\" height=\"525px\" width=\"100%\"></iframe>"
      ],
      "text/plain": [
       "<plotly.tools.PlotlyDisplay object>"
      ]
     },
     "execution_count": 32,
     "metadata": {},
     "output_type": "execute_result"
    }
   ],
   "source": [
    "# direct approach with Cufflinks\n",
    "data.set_index('Date')['Close'].iplot(world_readable=True)"
   ]
  },
  {
   "cell_type": "markdown",
   "metadata": {},
   "source": [
    "### Real-Time Plots"
   ]
  },
  {
   "cell_type": "markdown",
   "metadata": {},
   "source": [
    "#### Real-Time FX Data"
   ]
  },
  {
   "cell_type": "code",
   "execution_count": 33,
   "metadata": {
    "uuid": "9adef26f-fc9c-42f2-b203-1387c6ff0b35"
   },
   "outputs": [],
   "source": [
    "import time\n",
    "import pandas as pd\n",
    "import datetime as dt\n",
    "import requests"
   ]
  },
  {
   "cell_type": "code",
   "execution_count": 34,
   "metadata": {
    "uuid": "f8cd1e89-f329-411e-9589-79f56fae6d90"
   },
   "outputs": [],
   "source": [
    "url = 'http://analytics.quant-platform.com:12500/prices'\n",
    "  # real-time FX (dummy!) data from JSON API"
   ]
  },
  {
   "cell_type": "code",
   "execution_count": 35,
   "metadata": {
    "uuid": "592c5d7c-45be-4bfd-92a1-4b0f1a80c551"
   },
   "outputs": [],
   "source": [
    "api = requests.get(url) "
   ]
  },
  {
   "cell_type": "code",
   "execution_count": 36,
   "metadata": {},
   "outputs": [
    {
     "data": {
      "text/plain": [
       "<Response [200]>"
      ]
     },
     "execution_count": 36,
     "metadata": {},
     "output_type": "execute_result"
    }
   ],
   "source": [
    "api"
   ]
  },
  {
   "cell_type": "code",
   "execution_count": 37,
   "metadata": {
    "uuid": "00638626-fea7-4e21-9f9f-0b9313000f19"
   },
   "outputs": [
    {
     "data": {
      "text/plain": [
       "{'tick': {'ask': 29.811728217279054,\n",
       "  'bid': 29.811828217279054,\n",
       "  'instrument': 'EUR_USD',\n",
       "  'time': '2017-01-04T13:21:04.012729Z'}}"
      ]
     },
     "execution_count": 37,
     "metadata": {},
     "output_type": "execute_result"
    }
   ],
   "source": [
    "data = api.json()\n",
    "data"
   ]
  },
  {
   "cell_type": "code",
   "execution_count": 38,
   "metadata": {
    "uuid": "7c95e256-1a25-4ad0-972b-b66d05a2a6ca"
   },
   "outputs": [
    {
     "data": {
      "text/plain": [
       "29.811728217279054"
      ]
     },
     "execution_count": 38,
     "metadata": {},
     "output_type": "execute_result"
    }
   ],
   "source": [
    "data['tick']['ask']"
   ]
  },
  {
   "cell_type": "code",
   "execution_count": 39,
   "metadata": {
    "uuid": "9d23fa5e-b572-4182-aca2-46f8db6f5615"
   },
   "outputs": [],
   "source": [
    "ticks = pd.DataFrame({'bid': data['tick']['bid'],\n",
    "                      'ask': data['tick']['ask'],\n",
    "                      'instrument': data['tick']['instrument'],\n",
    "                      'time': pd.Timestamp(data['tick']['time'])},\n",
    "                      index=[pd.Timestamp(data['tick']['time']),])\n",
    "  # initialization of ticks DataFrame"
   ]
  },
  {
   "cell_type": "code",
   "execution_count": 40,
   "metadata": {
    "uuid": "012c3b07-bbab-4484-931f-68daef241186"
   },
   "outputs": [
    {
     "data": {
      "text/html": [
       "<div>\n",
       "<table border=\"1\" class=\"dataframe\">\n",
       "  <thead>\n",
       "    <tr style=\"text-align: right;\">\n",
       "      <th></th>\n",
       "      <th>ask</th>\n",
       "      <th>bid</th>\n",
       "      <th>instrument</th>\n",
       "    </tr>\n",
       "  </thead>\n",
       "  <tbody>\n",
       "    <tr>\n",
       "      <th>2017-01-04 13:21:04.012729+00:00</th>\n",
       "      <td>29.811728</td>\n",
       "      <td>29.811828</td>\n",
       "      <td>EUR_USD</td>\n",
       "    </tr>\n",
       "  </tbody>\n",
       "</table>\n",
       "</div>"
      ],
      "text/plain": [
       "                                        ask        bid instrument\n",
       "2017-01-04 13:21:04.012729+00:00  29.811728  29.811828    EUR_USD"
      ]
     },
     "execution_count": 40,
     "metadata": {},
     "output_type": "execute_result"
    }
   ],
   "source": [
    "ticks[['ask', 'bid', 'instrument']]"
   ]
  },
  {
   "cell_type": "markdown",
   "metadata": {},
   "source": [
    "#### Real-Time Stock Price Quotes"
   ]
  },
  {
   "cell_type": "code",
   "execution_count": 41,
   "metadata": {
    "uuid": "33bbf187-b9ea-4a56-8132-a5ba5fcfd310"
   },
   "outputs": [],
   "source": [
    "url1 = 'http://www.netfonds.no/quotes/posdump.php?'\n",
    "url2 = 'date=%s%s%s&paper=%s.N&csv_format=csv'\n",
    "url = url1 + url2"
   ]
  },
  {
   "cell_type": "code",
   "execution_count": 42,
   "metadata": {
    "uuid": "976c17f6-bc3f-4238-a121-5c8c483b685d"
   },
   "outputs": [],
   "source": [
    "# must be a business day\n",
    "today = dt.datetime.now()\n",
    "y = '%d' % today.year\n",
    "  # current year\n",
    "m = '%02d' % today.month\n",
    "  # current month, add leading zero if needed\n",
    "d = '%02d' % today.day\n",
    "  # current day, add leading zero if needed\n",
    "sym = 'NKE'\n",
    "  # Nike Inc. stocks"
   ]
  },
  {
   "cell_type": "code",
   "execution_count": 43,
   "metadata": {
    "uuid": "51351a83-4e9d-427a-ac87-183a59d1ae19"
   },
   "outputs": [
    {
     "data": {
      "text/plain": [
       "('2017', '01', '04', 'NKE')"
      ]
     },
     "execution_count": 43,
     "metadata": {},
     "output_type": "execute_result"
    }
   ],
   "source": [
    "y, m, d, sym"
   ]
  },
  {
   "cell_type": "code",
   "execution_count": 44,
   "metadata": {
    "uuid": "3e2596c2-2ea2-419c-9c0f-a525eef874d5"
   },
   "outputs": [
    {
     "data": {
      "text/plain": [
       "'http://www.netfonds.no/quotes/posdump.php?date=20170104&paper=NKE.N&csv_format=csv'"
      ]
     },
     "execution_count": 44,
     "metadata": {},
     "output_type": "execute_result"
    }
   ],
   "source": [
    "urlreq = url % (y, m, d, sym)\n",
    "urlreq"
   ]
  },
  {
   "cell_type": "code",
   "execution_count": 45,
   "metadata": {
    "uuid": "cd2c7a3b-9a59-4a62-994e-4470cfec9011"
   },
   "outputs": [],
   "source": [
    "data = pd.read_csv(urlreq, parse_dates=['time'])\n",
    "  # initialize DataFrame object"
   ]
  },
  {
   "cell_type": "code",
   "execution_count": 46,
   "metadata": {},
   "outputs": [
    {
     "name": "stdout",
     "output_type": "stream",
     "text": [
      "<class 'pandas.core.frame.DataFrame'>\n",
      "RangeIndex: 35 entries, 0 to 34\n",
      "Data columns (total 7 columns):\n",
      "time                 35 non-null datetime64[ns]\n",
      "bid                  35 non-null float64\n",
      "bid_depth            35 non-null int64\n",
      "bid_depth_total      35 non-null int64\n",
      "offer                35 non-null float64\n",
      "offer_depth          35 non-null int64\n",
      "offer_depth_total    35 non-null int64\n",
      "dtypes: datetime64[ns](1), float64(2), int64(4)\n",
      "memory usage: 2.0 KB\n"
     ]
    }
   ],
   "source": [
    "data.info()"
   ]
  },
  {
   "cell_type": "code",
   "execution_count": 47,
   "metadata": {},
   "outputs": [
    {
     "data": {
      "text/html": [
       "<div>\n",
       "<table border=\"1\" class=\"dataframe\">\n",
       "  <thead>\n",
       "    <tr style=\"text-align: right;\">\n",
       "      <th></th>\n",
       "      <th>time</th>\n",
       "      <th>bid</th>\n",
       "      <th>bid_depth</th>\n",
       "      <th>bid_depth_total</th>\n",
       "      <th>offer</th>\n",
       "      <th>offer_depth</th>\n",
       "      <th>offer_depth_total</th>\n",
       "    </tr>\n",
       "  </thead>\n",
       "  <tbody>\n",
       "    <tr>\n",
       "      <th>30</th>\n",
       "      <td>2017-01-04 12:29:40</td>\n",
       "      <td>52.0</td>\n",
       "      <td>200</td>\n",
       "      <td>200</td>\n",
       "      <td>52.38</td>\n",
       "      <td>100</td>\n",
       "      <td>100</td>\n",
       "    </tr>\n",
       "    <tr>\n",
       "      <th>31</th>\n",
       "      <td>2017-01-04 12:30:09</td>\n",
       "      <td>52.0</td>\n",
       "      <td>100</td>\n",
       "      <td>100</td>\n",
       "      <td>52.38</td>\n",
       "      <td>100</td>\n",
       "      <td>100</td>\n",
       "    </tr>\n",
       "    <tr>\n",
       "      <th>32</th>\n",
       "      <td>2017-01-04 12:31:43</td>\n",
       "      <td>52.0</td>\n",
       "      <td>200</td>\n",
       "      <td>200</td>\n",
       "      <td>52.38</td>\n",
       "      <td>100</td>\n",
       "      <td>100</td>\n",
       "    </tr>\n",
       "    <tr>\n",
       "      <th>33</th>\n",
       "      <td>2017-01-04 12:32:41</td>\n",
       "      <td>52.0</td>\n",
       "      <td>100</td>\n",
       "      <td>100</td>\n",
       "      <td>52.38</td>\n",
       "      <td>100</td>\n",
       "      <td>100</td>\n",
       "    </tr>\n",
       "    <tr>\n",
       "      <th>34</th>\n",
       "      <td>2017-01-04 12:43:05</td>\n",
       "      <td>52.0</td>\n",
       "      <td>100</td>\n",
       "      <td>100</td>\n",
       "      <td>52.35</td>\n",
       "      <td>300</td>\n",
       "      <td>300</td>\n",
       "    </tr>\n",
       "  </tbody>\n",
       "</table>\n",
       "</div>"
      ],
      "text/plain": [
       "                  time   bid  bid_depth  bid_depth_total  offer  offer_depth  \\\n",
       "30 2017-01-04 12:29:40  52.0        200              200  52.38          100   \n",
       "31 2017-01-04 12:30:09  52.0        100              100  52.38          100   \n",
       "32 2017-01-04 12:31:43  52.0        200              200  52.38          100   \n",
       "33 2017-01-04 12:32:41  52.0        100              100  52.38          100   \n",
       "34 2017-01-04 12:43:05  52.0        100              100  52.35          300   \n",
       "\n",
       "    offer_depth_total  \n",
       "30                100  \n",
       "31                100  \n",
       "32                100  \n",
       "33                100  \n",
       "34                300  "
      ]
     },
     "execution_count": 47,
     "metadata": {},
     "output_type": "execute_result"
    }
   ],
   "source": [
    "data.tail()"
   ]
  },
  {
   "cell_type": "markdown",
   "metadata": {},
   "source": [
    "## Rapid Web Applications"
   ]
  },
  {
   "cell_type": "markdown",
   "metadata": {},
   "source": [
    "### Traders' Chat Room"
   ]
  },
  {
   "cell_type": "markdown",
   "metadata": {},
   "source": [
    "### Data Modeling"
   ]
  },
  {
   "cell_type": "markdown",
   "metadata": {},
   "source": [
    "### The Python Code"
   ]
  },
  {
   "cell_type": "markdown",
   "metadata": {},
   "source": [
    "#### Imports and Database Preliminaries"
   ]
  },
  {
   "cell_type": "markdown",
   "metadata": {},
   "source": [
    "#### Core Functionality"
   ]
  },
  {
   "cell_type": "markdown",
   "metadata": {},
   "source": [
    "### Templating"
   ]
  },
  {
   "cell_type": "code",
   "execution_count": 48,
   "metadata": {
    "uuid": "1463132b-34c8-4238-8d3e-6ba5c7562194"
   },
   "outputs": [
    {
     "data": {
      "text/plain": [
       "'1, 2, 3'"
      ]
     },
     "execution_count": 48,
     "metadata": {},
     "output_type": "execute_result"
    }
   ],
   "source": [
    "'%d, %d, %d' % (1, 2, 3)"
   ]
  },
  {
   "cell_type": "code",
   "execution_count": 49,
   "metadata": {
    "uuid": "c5c11d6d-ad65-4ee7-9ebe-91dc1c3d2497"
   },
   "outputs": [
    {
     "data": {
      "text/plain": [
       "'1, 2, 3'"
      ]
     },
     "execution_count": 49,
     "metadata": {},
     "output_type": "execute_result"
    }
   ],
   "source": [
    "'{}, {}, {}'.format(1, 2, 3)"
   ]
  },
  {
   "cell_type": "code",
   "execution_count": 50,
   "metadata": {
    "uuid": "7ff70268-2c8f-45a5-a6b0-17bb9d77cc14"
   },
   "outputs": [
    {
     "data": {
      "text/plain": [
       "'1, 2, 3'"
      ]
     },
     "execution_count": 50,
     "metadata": {},
     "output_type": "execute_result"
    }
   ],
   "source": [
    "'{}, {}, {}'.format(*'123')"
   ]
  },
  {
   "cell_type": "code",
   "execution_count": 51,
   "metadata": {
    "uuid": "da70e7f6-9068-4039-bdfc-8bfe510a7ee6"
   },
   "outputs": [],
   "source": [
    "templ = '''<!doctype html>\n",
    "  Just print out <b>numbers</b> provided to the template.\n",
    "  <br><br>\n",
    "  {% for number in numbers %}\n",
    "    {{ number }}\n",
    "  {% endfor %}\n",
    "'''"
   ]
  },
  {
   "cell_type": "code",
   "execution_count": 52,
   "metadata": {
    "uuid": "6b66b22b-fb7f-4dc7-99f4-ed6550e9eb2f"
   },
   "outputs": [],
   "source": [
    "from jinja2 import Template"
   ]
  },
  {
   "cell_type": "code",
   "execution_count": 53,
   "metadata": {
    "uuid": "641a5ee8-9ef7-4e60-80cb-c73b1d81f182"
   },
   "outputs": [],
   "source": [
    "t = Template(templ)"
   ]
  },
  {
   "cell_type": "code",
   "execution_count": 54,
   "metadata": {
    "uuid": "ad91b975-9917-4d22-99db-635d745308a8"
   },
   "outputs": [],
   "source": [
    "html = t.render(numbers=range(5))"
   ]
  },
  {
   "cell_type": "code",
   "execution_count": 55,
   "metadata": {
    "uuid": "3ddf0465-00f2-4c70-8547-7460eba6f11d"
   },
   "outputs": [
    {
     "data": {
      "text/plain": [
       "'<!doctype html>\\n  Just print out <b>numbers</b> provided to the template.\\n  <br><br>\\n  \\n    0\\n  \\n    1\\n  \\n    2\\n  \\n    3\\n  \\n    4\\n  '"
      ]
     },
     "execution_count": 55,
     "metadata": {},
     "output_type": "execute_result"
    }
   ],
   "source": [
    "html"
   ]
  },
  {
   "cell_type": "code",
   "execution_count": 56,
   "metadata": {
    "uuid": "d8d44498-a17f-41b3-9e91-6d09a288c5b8"
   },
   "outputs": [
    {
     "data": {
      "text/html": [
       "<!doctype html>\n",
       "  Just print out <b>numbers</b> provided to the template.\n",
       "  <br><br>\n",
       "  \n",
       "    0\n",
       "  \n",
       "    1\n",
       "  \n",
       "    2\n",
       "  \n",
       "    3\n",
       "  \n",
       "    4\n",
       "  "
      ],
      "text/plain": [
       "<IPython.core.display.HTML object>"
      ]
     },
     "execution_count": 56,
     "metadata": {},
     "output_type": "execute_result"
    }
   ],
   "source": [
    "from IPython.display import HTML\n",
    "HTML(html)"
   ]
  },
  {
   "cell_type": "markdown",
   "metadata": {},
   "source": [
    "### Styling"
   ]
  },
  {
   "cell_type": "code",
   "execution_count": 58,
   "metadata": {
    "uuid": "41649870-1061-444f-924c-733ecdef2ebb"
   },
   "outputs": [
    {
     "name": "stdout",
     "output_type": "stream",
     "text": [
      "../python/tradechat\n",
      "tables.sql\n",
      "tradechat.db\n",
      "tradechat.py\n",
      "../python/tradechat/static\n",
      "style.css\n",
      "../python/tradechat/templates\n",
      "layout.html\n",
      "login.html\n",
      "register.html\n",
      "show_entries.html\n"
     ]
    }
   ],
   "source": [
    "import os\n",
    "for path, dirs, files in os.walk('../python/tradechat'):\n",
    "  print(path)\n",
    "  for f in files:\n",
    "    print(f)"
   ]
  },
  {
   "cell_type": "markdown",
   "metadata": {},
   "source": [
    "## Web Services"
   ]
  },
  {
   "cell_type": "markdown",
   "metadata": {},
   "source": [
    "### The Financial Model"
   ]
  },
  {
   "cell_type": "markdown",
   "metadata": {},
   "source": [
    "### The Implementation"
   ]
  },
  {
   "cell_type": "code",
   "execution_count": 1,
   "metadata": {
    "uuid": "79f9048b-3427-4a79-9cbc-4bf414c0730c"
   },
   "outputs": [],
   "source": [
    "import sys\n",
    "sys.path.append(\"../python3/volservice\")\n",
    "  # adjust if necessary to your path"
   ]
  },
  {
   "cell_type": "code",
   "execution_count": 2,
   "metadata": {
    "uuid": "baba8c94-1d56-42aa-a491-da6b7a9f649f"
   },
   "outputs": [],
   "source": [
    "from werkzeug.wrappers import Request, Response "
   ]
  },
  {
   "cell_type": "code",
   "execution_count": 3,
   "metadata": {
    "uuid": "5cbccdda-a5a3-4c7e-97ac-3df9b05c5efb"
   },
   "outputs": [],
   "source": [
    "from vol_pricing_service import get_option_value"
   ]
  },
  {
   "cell_type": "code",
   "execution_count": 4,
   "metadata": {
    "uuid": "b6bad926-3093-4f80-aedd-aef6e7950749"
   },
   "outputs": [],
   "source": [
    "def application(environ, start_response):\n",
    "    request = Request(environ)\n",
    "      # wrap environ in new object\n",
    "    text = get_option_value(request.args)\n",
    "      # provide all paramters of the call to function\n",
    "      # get back either error message or option value\n",
    "    response = Response(text, mimetype='text/html')\n",
    "      # generate response object based on the returned text\n",
    "    return response(environ, start_response)"
   ]
  },
  {
   "cell_type": "code",
   "execution_count": 5,
   "metadata": {
    "uuid": "a5708e66-1b39-4f82-b07f-44cb07c68280"
   },
   "outputs": [],
   "source": [
    "import numpy as np\n",
    "import urllib\n",
    "url = 'http://localhost:4000/'"
   ]
  },
  {
   "cell_type": "markdown",
   "metadata": {},
   "source": [
    "## Conclusions"
   ]
  },
  {
   "cell_type": "markdown",
   "metadata": {},
   "source": [
    "## Further Reading"
   ]
  },
  {
   "cell_type": "markdown",
   "metadata": {},
   "source": [
    "<img src=\"http://hilpisch.com/tpq_logo.png\" alt=\"The Python Quants\" width=\"35%\" align=\"right\" border=\"0\"><br>\n",
    "\n",
    "<a href=\"http://www.pythonquants.com\" target=\"_blank\">www.pythonquants.com</a> | <a href=\"http://twitter.com/dyjh\" target=\"_blank\">@dyjh</a>\n",
    "\n",
    "<a href=\"mailto:analytics@pythonquants.com\">analytics@pythonquants.com</a>\n",
    "\n",
    "**Python Quant Platform** |\n",
    "<a href=\"http://oreilly.quant-platform.com\">http://oreilly.quant-platform.com</a>\n",
    "\n",
    "**Derivatives Analytics with Python** |\n",
    "<a href=\"http://www.derivatives-analytics-with-python.com\" target=\"_blank\">Derivatives Analytics @ Wiley Finance</a>\n",
    "\n",
    "**Python for Finance** |\n",
    "<a href=\"http://shop.oreilly.com/product/0636920032441.do\" target=\"_blank\">Python for Finance @ O'Reilly</a>"
   ]
  }
 ],
 "metadata": {
  "anaconda-cloud": {},
  "kernelspec": {
   "display_name": "Python 3",
   "language": "python",
   "name": "python3"
  },
  "language_info": {
   "codemirror_mode": {
    "name": "ipython",
    "version": 3
   },
   "file_extension": ".py",
   "mimetype": "text/x-python",
   "name": "python",
   "nbconvert_exporter": "python",
   "pygments_lexer": "ipython3",
   "version": "3.6.0"
  }
 },
 "nbformat": 4,
 "nbformat_minor": 1
}
