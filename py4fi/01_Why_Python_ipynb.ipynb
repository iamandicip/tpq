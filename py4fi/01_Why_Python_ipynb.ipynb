{
 "cells": [
  {
   "cell_type": "markdown",
   "metadata": {},
   "source": [
    "<img src=\"http://hilpisch.com/tpq_logo.png\" alt=\"The Python Quants\" width=\"35%\" align=\"right\" border=\"0\"><br>"
   ]
  },
  {
   "cell_type": "markdown",
   "metadata": {},
   "source": [
    "# Python for Finance"
   ]
  },
  {
   "cell_type": "markdown",
   "metadata": {},
   "source": [
    "**Analyze Big Financial Data**\n",
    "\n",
    "O'Reilly (2014)\n",
    "\n",
    "Yves Hilpisch"
   ]
  },
  {
   "cell_type": "markdown",
   "metadata": {},
   "source": [
    "<img style=\"border:0px solid grey;\" src=\"http://hilpisch.com/python_for_finance.png\" alt=\"Python for Finance\" width=\"30%\" align=\"left\" border=\"0\">"
   ]
  },
  {
   "cell_type": "markdown",
   "metadata": {},
   "source": [
    "**Buy the book ** |\n",
    "<a href='http://shop.oreilly.com/product/0636920032441.do' target='_blank'>O'Reilly</a> |\n",
    "<a href='http://www.amazon.com/Yves-Hilpisch/e/B00JCYHHJM' target='_blank'>Amazon</a>\n",
    "\n",
    "**All book codes & IPYNBs** |\n",
    "<a href=\"http://oreilly.quant-platform.com\">http://oreilly.quant-platform.com</a>\n",
    "\n",
    "**The Python Quants GmbH** | <a href='http://tpq.io' target='_blank'>http://tpq.io</a>\n",
    "\n",
    "**Contact us** | <a href='mailto:pff@tpq.io'>pff@tpq.io</a>"
   ]
  },
  {
   "cell_type": "markdown",
   "metadata": {},
   "source": [
    "## Introduction"
   ]
  },
  {
   "cell_type": "code",
   "execution_count": 1,
   "metadata": {
    "collapsed": true
   },
   "outputs": [],
   "source": [
    "import seaborn as sns; sns.set()\n",
    "import matplotlib as mpl\n",
    "mpl.rcParams['font.family'] = 'serif'"
   ]
  },
  {
   "cell_type": "markdown",
   "metadata": {},
   "source": [
    "## Finance and Python Syntax"
   ]
  },
  {
   "cell_type": "code",
   "execution_count": 2,
   "metadata": {
    "uuid": "1447b7bb-ed26-4c0f-9e0f-222dfd5d0c9b"
   },
   "outputs": [],
   "source": [
    "S0 = 100.\n",
    "K = 105.\n",
    "T = 1.0\n",
    "r = 0.05\n",
    "sigma = 0.2"
   ]
  },
  {
   "cell_type": "code",
   "execution_count": 3,
   "metadata": {
    "uuid": "a95c7301-39f7-4d51-937a-334f051c2d9e"
   },
   "outputs": [],
   "source": [
    "from numpy import *\n",
    "\n",
    "I = 100000\n",
    "\n",
    "random.seed(1000)\n",
    "z = random.standard_normal(I)\n",
    "ST = S0 * exp(r * T + sigma * sqrt(T) * z)\n",
    "hT = maximum(ST - K, 0)\n",
    "C0 = exp(-r * T) * sum(hT) / I"
   ]
  },
  {
   "cell_type": "code",
   "execution_count": 4,
   "metadata": {
    "uuid": "84aab05d-40de-4ef1-b3a8-eb08f86e1662"
   },
   "outputs": [
    {
     "name": "stdout",
     "output_type": "stream",
     "text": [
      "Value of the European Call Option 9.149\n"
     ]
    }
   ],
   "source": [
    "print(\"Value of the European Call Option %5.3f\" % C0)"
   ]
  },
  {
   "cell_type": "markdown",
   "metadata": {},
   "source": [
    "## Time-to-Results"
   ]
  },
  {
   "cell_type": "code",
   "execution_count": 5,
   "metadata": {
    "uuid": "e16924db-8402-4bcb-a9c7-d5753346c72a"
   },
   "outputs": [],
   "source": [
    "import numpy as np\n",
    "import pandas as pd\n",
    "from pandas_datareader import data as web"
   ]
  },
  {
   "cell_type": "code",
   "execution_count": 6,
   "metadata": {
    "uuid": "22071d72-094b-4b51-aa39-cfa793d58623"
   },
   "outputs": [
    {
     "data": {
      "text/html": [
       "<div>\n",
       "<table border=\"1\" class=\"dataframe\">\n",
       "  <thead>\n",
       "    <tr style=\"text-align: right;\">\n",
       "      <th></th>\n",
       "      <th>Open</th>\n",
       "      <th>High</th>\n",
       "      <th>Low</th>\n",
       "      <th>Close</th>\n",
       "      <th>Volume</th>\n",
       "    </tr>\n",
       "    <tr>\n",
       "      <th>Date</th>\n",
       "      <th></th>\n",
       "      <th></th>\n",
       "      <th></th>\n",
       "      <th></th>\n",
       "      <th></th>\n",
       "    </tr>\n",
       "  </thead>\n",
       "  <tbody>\n",
       "    <tr>\n",
       "      <th>2014-04-08</th>\n",
       "      <td>542.60</td>\n",
       "      <td>555.00</td>\n",
       "      <td>541.61</td>\n",
       "      <td>554.90</td>\n",
       "      <td>3152406.0</td>\n",
       "    </tr>\n",
       "    <tr>\n",
       "      <th>2014-04-09</th>\n",
       "      <td>559.62</td>\n",
       "      <td>565.37</td>\n",
       "      <td>552.95</td>\n",
       "      <td>564.14</td>\n",
       "      <td>3324742.0</td>\n",
       "    </tr>\n",
       "    <tr>\n",
       "      <th>2014-04-10</th>\n",
       "      <td>565.00</td>\n",
       "      <td>565.00</td>\n",
       "      <td>539.90</td>\n",
       "      <td>540.95</td>\n",
       "      <td>4027743.0</td>\n",
       "    </tr>\n",
       "    <tr>\n",
       "      <th>2014-04-11</th>\n",
       "      <td>532.55</td>\n",
       "      <td>540.00</td>\n",
       "      <td>526.53</td>\n",
       "      <td>530.60</td>\n",
       "      <td>3916171.0</td>\n",
       "    </tr>\n",
       "    <tr>\n",
       "      <th>2014-04-14</th>\n",
       "      <td>538.25</td>\n",
       "      <td>544.10</td>\n",
       "      <td>529.56</td>\n",
       "      <td>532.52</td>\n",
       "      <td>2568020.0</td>\n",
       "    </tr>\n",
       "  </tbody>\n",
       "</table>\n",
       "</div>"
      ],
      "text/plain": [
       "              Open    High     Low   Close     Volume\n",
       "Date                                                 \n",
       "2014-04-08  542.60  555.00  541.61  554.90  3152406.0\n",
       "2014-04-09  559.62  565.37  552.95  564.14  3324742.0\n",
       "2014-04-10  565.00  565.00  539.90  540.95  4027743.0\n",
       "2014-04-11  532.55  540.00  526.53  530.60  3916171.0\n",
       "2014-04-14  538.25  544.10  529.56  532.52  2568020.0"
      ]
     },
     "execution_count": 6,
     "metadata": {},
     "output_type": "execute_result"
    }
   ],
   "source": [
    "goog = web.DataReader('GOOG', data_source='google',\n",
    "                      start='3/14/2009', end='4/14/2014')\n",
    "goog.index.name = u'Date'\n",
    "goog.tail()"
   ]
  },
  {
   "cell_type": "code",
   "execution_count": 7,
   "metadata": {
    "uuid": "304b2f50-5b81-4e88-8fa7-ea69995cf2fe"
   },
   "outputs": [],
   "source": [
    "goog['Log_Ret'] = np.log(goog['Close'] / goog['Close'].shift(1))\n",
    "goog['Volatility'] = goog['Log_Ret'].rolling(window=252).std() * np.sqrt(252)"
   ]
  },
  {
   "cell_type": "code",
   "execution_count": 8,
   "metadata": {
    "uuid": "b4e61939-c7fe-4a1e-a8c9-6fd755edcf86"
   },
   "outputs": [
    {
     "data": {
      "image/png": "[encoded data removed]",
      "text/plain": [
       "<matplotlib.figure.Figure at 0x11793e940>"
      ]
     },
     "metadata": {},
     "output_type": "display_data"
    }
   ],
   "source": [
    "%matplotlib inline\n",
    "goog[['Close', 'Volatility']].plot(subplots=True, color='blue',\n",
    "                                   figsize=(8, 6), grid=True);\n",
    "# tag: goog_vola\n",
    "# title: Google closing prices and yearly volatility"
   ]
  },
  {
   "cell_type": "markdown",
   "metadata": {},
   "source": [
    "## Paradigm"
   ]
  },
  {
   "cell_type": "code",
   "execution_count": 9,
   "metadata": {
    "uuid": "beca497d-4c20-4240-b003-4c79c26154be"
   },
   "outputs": [
    {
     "name": "stdout",
     "output_type": "stream",
     "text": [
      "1 loop, best of 3: 14.4 s per loop\n"
     ]
    }
   ],
   "source": [
    "loops = 25000000\n",
    "from math import *\n",
    "a = range(1, loops)\n",
    "def f(x):\n",
    "    return 3 * log(x) + cos(x) ** 2\n",
    "%timeit r = [f(x) for x in a]"
   ]
  },
  {
   "cell_type": "code",
   "execution_count": 10,
   "metadata": {
    "uuid": "931fd1fc-cc54-4045-802f-acb8f094a23f"
   },
   "outputs": [
    {
     "name": "stdout",
     "output_type": "stream",
     "text": [
      "1 loop, best of 3: 1.34 s per loop\n"
     ]
    }
   ],
   "source": [
    "import numpy as np\n",
    "a = np.arange(1, loops)\n",
    "%timeit r = 3 * np.log(a) + np.cos(a) ** 2"
   ]
  },
  {
   "cell_type": "code",
   "execution_count": 11,
   "metadata": {
    "uuid": "8d1602b3-a490-4d1a-97d9-112825d86185"
   },
   "outputs": [
    {
     "name": "stdout",
     "output_type": "stream",
     "text": [
      "1 loop, best of 3: 356 ms per loop\n"
     ]
    }
   ],
   "source": [
    "import numexpr as ne\n",
    "ne.set_num_threads(1)\n",
    "f = '3 * log(a) + cos(a) ** 2'\n",
    "%timeit r = ne.evaluate(f)"
   ]
  },
  {
   "cell_type": "code",
   "execution_count": 12,
   "metadata": {
    "uuid": "6994f16a-1802-4abe-851d-a48e0ead154d"
   },
   "outputs": [
    {
     "name": "stdout",
     "output_type": "stream",
     "text": [
      "10 loops, best of 3: 131 ms per loop\n"
     ]
    }
   ],
   "source": [
    "ne.set_num_threads(4)\n",
    "%timeit r = ne.evaluate(f)"
   ]
  },
  {
   "cell_type": "markdown",
   "metadata": {},
   "source": [
    "<img src=\"http://hilpisch.com/tpq_logo.png\" alt=\"The Python Quants\" width=\"35%\" align=\"right\" border=\"0\"><br>\n",
    "\n",
    "<a href=\"http://tpq.io\" target=\"_blank\">http://tpq.io</a> | <a href=\"http://twitter.com/dyjh\" target=\"_blank\">@dyjh</a> | <a href=\"mailto:training@tpq.io\">training@tpq.io</a>\n",
    "\n",
    "**Quant Platform** |\n",
    "<a href=\"http://quant-platform.com\">http://quant-platform.com</a>\n",
    "\n",
    "**Python for Finance** |\n",
    "<a href=\"http://python-for-finance.com\" target=\"_blank\">Python for Finance @ O'Reilly</a>\n",
    "\n",
    "**Derivatives Analytics with Python** |\n",
    "<a href=\"http://derivatives-analytics-with-python.com\" target=\"_blank\">Derivatives Analytics @ Wiley Finance</a>\n",
    "\n",
    "**Listed Volatility and Variance Derivatives** |\n",
    "<a href=\"http://lvvd.tpq.io\" target=\"_blank\">Listed VV Derivatives @ Wiley Finance</a>\n",
    "\n",
    "**Python Training** |\n",
    "<a href=\"http://training.tpq.io\" target=\"_blank\">Python for Finance University Certificate</a>"
   ]
  }
 ],
 "metadata": {
  "anaconda-cloud": {},
  "kernelspec": {
   "display_name": "Python 3",
   "language": "python",
   "name": "python3"
  },
  "language_info": {
   "codemirror_mode": {
    "name": "ipython",
    "version": 3
   },
   "file_extension": ".py",
   "mimetype": "text/x-python",
   "name": "python",
   "nbconvert_exporter": "python",
   "pygments_lexer": "ipython3",
   "version": "3.6.0"
  }
 },
 "nbformat": 4,
 "nbformat_minor": 1
}
