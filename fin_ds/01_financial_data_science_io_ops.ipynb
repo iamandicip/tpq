{
 "cells": [
  {
   "cell_type": "markdown",
   "metadata": {
    "slideshow": {
     "slide_type": "slide"
    }
   },
   "source": [
    "<img src=\"http://hilpisch.com/tpq_logo.png\" alt=\"The Python Quants\" width=\"35%\" align=\"right\" border=\"0\"><br>"
   ]
  },
  {
   "cell_type": "markdown",
   "metadata": {},
   "source": [
    "# Python for Financial Data Science &mdash; IO Operations"
   ]
  },
  {
   "cell_type": "markdown",
   "metadata": {},
   "source": [
    "**DataNatives Berlin 2015**"
   ]
  },
  {
   "cell_type": "markdown",
   "metadata": {},
   "source": [
    "Dr Yves J Hilpisch\n",
    "\n",
    "<a href='mailto:team@tpq.io'>team@tpq.io</a> | <a href='http://tpq.io'>http://tpq.io</a>\n",
    "\n",
    "The Python Quants GmbH"
   ]
  },
  {
   "cell_type": "markdown",
   "metadata": {
    "slideshow": {
     "slide_type": "slide"
    }
   },
   "source": [
    "## TsTables &ndash; High Performance Times Series Management"
   ]
  },
  {
   "cell_type": "markdown",
   "metadata": {
    "slideshow": {
     "slide_type": "subslide"
    }
   },
   "source": [
    "**TsTables** is a Python library by Andy Fiedler built on top of the popular ``PyTables`` HDF5 database library. It is meant to handle large amounts of **high frequency time series data** in **append once, retrieve many times** scenarios (cf. [Gihub page](https://github.com/afiedler/tstables)). The focus lies on retrieving chunks of data from large data sets as quickly as possible."
   ]
  },
  {
   "cell_type": "code",
   "execution_count": 1,
   "metadata": {
    "slideshow": {
     "slide_type": "subslide"
    }
   },
   "outputs": [
    {
     "ename": "ImportError",
     "evalue": "No module named tstables",
     "output_type": "error",
     "traceback": [
      "\u001b[0;31m\u001b[0m",
      "\u001b[0;31mImportError\u001b[0mTraceback (most recent call last)",
      "\u001b[0;32m<ipython-input-1-b91651705a1c>\u001b[0m in \u001b[0;36m<module>\u001b[0;34m()\u001b[0m\n\u001b[1;32m      2\u001b[0m \u001b[0;32mimport\u001b[0m \u001b[0mpandas\u001b[0m \u001b[0;32mas\u001b[0m \u001b[0mpd\u001b[0m\u001b[0;34m\u001b[0m\u001b[0m\n\u001b[1;32m      3\u001b[0m \u001b[0;32mimport\u001b[0m \u001b[0mtables\u001b[0m \u001b[0;32mas\u001b[0m \u001b[0mtb\u001b[0m\u001b[0;34m\u001b[0m\u001b[0m\n\u001b[0;32m----> 4\u001b[0;31m \u001b[0;32mimport\u001b[0m \u001b[0mtstables\u001b[0m \u001b[0;32mas\u001b[0m \u001b[0mtstb\u001b[0m\u001b[0;34m\u001b[0m\u001b[0m\n\u001b[0m\u001b[1;32m      5\u001b[0m \u001b[0;32mimport\u001b[0m \u001b[0mrandom\u001b[0m\u001b[0;34m\u001b[0m\u001b[0m\n\u001b[1;32m      6\u001b[0m \u001b[0;32mfrom\u001b[0m \u001b[0mtime\u001b[0m \u001b[0;32mimport\u001b[0m \u001b[0mtime\u001b[0m\u001b[0;34m\u001b[0m\u001b[0m\n",
      "\u001b[0;31mImportError\u001b[0m: No module named tstables"
     ]
    }
   ],
   "source": [
    "import numpy as np\n",
    "import pandas as pd\n",
    "import tables as tb\n",
    "import tstables as tstb\n",
    "import random\n",
    "from time import time\n",
    "from datetime import datetime \n",
    "%matplotlib inline\n",
    "import seaborn as sns\n",
    "sns.set()"
   ]
  },
  {
   "cell_type": "markdown",
   "metadata": {
    "slideshow": {
     "slide_type": "subslide"
    }
   },
   "source": [
    "### Sample Time Series Data"
   ]
  },
  {
   "cell_type": "markdown",
   "metadata": {},
   "source": [
    "Let us generate a **decent amount of sample data points**."
   ]
  },
  {
   "cell_type": "code",
   "execution_count": 2,
   "metadata": {},
   "outputs": [],
   "source": [
    "no = 10000000\n",
    "co = 3\n",
    "dt = 1. / (12 * 30 * 24 * 60)\n",
    "vol = 0.2"
   ]
  },
  {
   "cell_type": "markdown",
   "metadata": {
    "slideshow": {
     "slide_type": "subslide"
    }
   },
   "source": [
    "We generate **one second intervals** of data."
   ]
  },
  {
   "cell_type": "code",
   "execution_count": 3,
   "metadata": {},
   "outputs": [],
   "source": [
    "dr = pd.date_range('2015-1-1', periods=no, freq='1s')"
   ]
  },
  {
   "cell_type": "code",
   "execution_count": 4,
   "metadata": {},
   "outputs": [
    {
     "data": {
      "text/plain": [
       "DatetimeIndex(['2015-01-01 00:00:00', '2015-01-01 00:00:01',\n",
       "               '2015-01-01 00:00:02', '2015-01-01 00:00:03',\n",
       "               '2015-01-01 00:00:04', '2015-01-01 00:00:05',\n",
       "               '2015-01-01 00:00:06', '2015-01-01 00:00:07',\n",
       "               '2015-01-01 00:00:08', '2015-01-01 00:00:09',\n",
       "               ...\n",
       "               '2015-04-26 17:46:30', '2015-04-26 17:46:31',\n",
       "               '2015-04-26 17:46:32', '2015-04-26 17:46:33',\n",
       "               '2015-04-26 17:46:34', '2015-04-26 17:46:35',\n",
       "               '2015-04-26 17:46:36', '2015-04-26 17:46:37',\n",
       "               '2015-04-26 17:46:38', '2015-04-26 17:46:39'],\n",
       "              dtype='datetime64[ns]', length=10000000, freq='S')"
      ]
     },
     "execution_count": 4,
     "metadata": {},
     "output_type": "execute_result"
    }
   ],
   "source": [
    "dr"
   ]
  },
  {
   "cell_type": "markdown",
   "metadata": {
    "slideshow": {
     "slide_type": "subslide"
    }
   },
   "source": [
    "**In memory** generation is quite quick."
   ]
  },
  {
   "cell_type": "code",
   "execution_count": 5,
   "metadata": {},
   "outputs": [
    {
     "name": "stdout",
     "output_type": "stream",
     "text": [
      "CPU times: user 2.11 s, sys: 534 ms, total: 2.65 s\n",
      "Wall time: 2.66 s\n"
     ]
    }
   ],
   "source": [
    "%%time\n",
    "da = 100 * np.exp(np.cumsum(-0.5 * vol ** 2 * dt +\n",
    "        vol * np.sqrt(dt) * np.random.standard_normal((no, co)), axis=0))\n",
    "da[0] = 100"
   ]
  },
  {
   "cell_type": "code",
   "execution_count": 6,
   "metadata": {},
   "outputs": [],
   "source": [
    "df = pd.DataFrame(da, index=dr, columns=['ts1', 'ts2', 'ts3'])"
   ]
  },
  {
   "cell_type": "code",
   "execution_count": 7,
   "metadata": {},
   "outputs": [
    {
     "data": {
      "text/plain": [
       "ts1    10000000\n",
       "ts2    10000000\n",
       "ts3    10000000\n",
       "dtype: int64"
      ]
     },
     "execution_count": 7,
     "metadata": {},
     "output_type": "execute_result"
    }
   ],
   "source": [
    "df.count()"
   ]
  },
  {
   "cell_type": "markdown",
   "metadata": {
    "slideshow": {
     "slide_type": "subslide"
    }
   },
   "source": [
    "The **starting values** of the three time series."
   ]
  },
  {
   "cell_type": "code",
   "execution_count": 8,
   "metadata": {},
   "outputs": [
    {
     "data": {
      "text/html": [
       "<div>\n",
       "<table border=\"1\" class=\"dataframe\">\n",
       "  <thead>\n",
       "    <tr style=\"text-align: right;\">\n",
       "      <th></th>\n",
       "      <th>ts1</th>\n",
       "      <th>ts2</th>\n",
       "      <th>ts3</th>\n",
       "    </tr>\n",
       "  </thead>\n",
       "  <tbody>\n",
       "    <tr>\n",
       "      <th>2015-01-01 00:00:00</th>\n",
       "      <td>100.000000</td>\n",
       "      <td>100.000000</td>\n",
       "      <td>100.000000</td>\n",
       "    </tr>\n",
       "    <tr>\n",
       "      <th>2015-01-01 00:00:01</th>\n",
       "      <td>100.055616</td>\n",
       "      <td>100.025013</td>\n",
       "      <td>99.981646</td>\n",
       "    </tr>\n",
       "    <tr>\n",
       "      <th>2015-01-01 00:00:02</th>\n",
       "      <td>100.103041</td>\n",
       "      <td>100.042280</td>\n",
       "      <td>99.989934</td>\n",
       "    </tr>\n",
       "    <tr>\n",
       "      <th>2015-01-01 00:00:03</th>\n",
       "      <td>100.089862</td>\n",
       "      <td>100.069699</td>\n",
       "      <td>100.030886</td>\n",
       "    </tr>\n",
       "    <tr>\n",
       "      <th>2015-01-01 00:00:04</th>\n",
       "      <td>100.097185</td>\n",
       "      <td>100.045774</td>\n",
       "      <td>100.076647</td>\n",
       "    </tr>\n",
       "  </tbody>\n",
       "</table>\n",
       "</div>"
      ],
      "text/plain": [
       "                            ts1         ts2         ts3\n",
       "2015-01-01 00:00:00  100.000000  100.000000  100.000000\n",
       "2015-01-01 00:00:01  100.055616  100.025013   99.981646\n",
       "2015-01-01 00:00:02  100.103041  100.042280   99.989934\n",
       "2015-01-01 00:00:03  100.089862  100.069699  100.030886\n",
       "2015-01-01 00:00:04  100.097185  100.045774  100.076647"
      ]
     },
     "execution_count": 8,
     "metadata": {},
     "output_type": "execute_result"
    }
   ],
   "source": [
    "df.head()"
   ]
  },
  {
   "cell_type": "markdown",
   "metadata": {
    "slideshow": {
     "slide_type": "subslide"
    }
   },
   "source": [
    "And a **plot** of the time series data (every 200000th point)."
   ]
  },
  {
   "cell_type": "code",
   "execution_count": 9,
   "metadata": {
    "slideshow": {
     "slide_type": "-"
    }
   },
   "outputs": [
    {
     "data": {
      "text/plain": [
       "<matplotlib.axes._subplots.AxesSubplot at 0x104bf1110>"
      ]
     },
     "execution_count": 9,
     "metadata": {},
     "output_type": "execute_result"
    },
    {
     "data": {
      "image/png": "[encoded data removed]",
      "text/plain": [
       "<matplotlib.figure.Figure at 0x103e241d0>"
      ]
     },
     "metadata": {},
     "output_type": "display_data"
    }
   ],
   "source": [
    "df[::200000].plot()"
   ]
  },
  {
   "cell_type": "markdown",
   "metadata": {
    "slideshow": {
     "slide_type": "subslide"
    }
   },
   "source": [
    "### Storage and Retrieval with TsTables"
   ]
  },
  {
   "cell_type": "markdown",
   "metadata": {},
   "source": [
    "To store the time series data in a **PyTables table** we first define the **table structure**."
   ]
  },
  {
   "cell_type": "code",
   "execution_count": 10,
   "metadata": {},
   "outputs": [],
   "source": [
    "class TS(tb.IsDescription):\n",
    "    timestamp = tb.Int64Col(pos=0)\n",
    "    ts1 = tb.Float64Col(pos=1)\n",
    "    ts2 = tb.Float64Col(pos=2)\n",
    "    ts3 = tb.Float64Col(pos=3)"
   ]
  },
  {
   "cell_type": "markdown",
   "metadata": {
    "slideshow": {
     "slide_type": "subslide"
    }
   },
   "source": [
    "Second, open a database file and **create the table object**."
   ]
  },
  {
   "cell_type": "code",
   "execution_count": 11,
   "metadata": {},
   "outputs": [],
   "source": [
    "h5 = tb.open_file('ts.h5','w')"
   ]
  },
  {
   "cell_type": "markdown",
   "metadata": {
    "slideshow": {
     "slide_type": "subslide"
    }
   },
   "source": [
    "TsTables adds a new function **``create_ts``** to PyTables."
   ]
  },
  {
   "cell_type": "code",
   "execution_count": 12,
   "metadata": {},
   "outputs": [],
   "source": [
    "ts = h5.create_ts('/','TS', TS)"
   ]
  },
  {
   "cell_type": "markdown",
   "metadata": {
    "slideshow": {
     "slide_type": "subslide"
    }
   },
   "source": [
    "Third, we **append the time series data** to the table object."
   ]
  },
  {
   "cell_type": "code",
   "execution_count": 13,
   "metadata": {},
   "outputs": [
    {
     "name": "stdout",
     "output_type": "stream",
     "text": [
      "CPU times: user 1.53 s, sys: 1.86 s, total: 3.39 s\n",
      "Wall time: 4.24 s\n"
     ]
    }
   ],
   "source": [
    "%time ts.append(df)"
   ]
  },
  {
   "cell_type": "code",
   "execution_count": 14,
   "metadata": {},
   "outputs": [
    {
     "name": "stdout",
     "output_type": "stream",
     "text": [
      "-rw-r--r--  1 501  20  299446720 Nov 19 17:46 ts.h5\r\n"
     ]
    }
   ],
   "source": [
    "ls -n *.h5"
   ]
  },
  {
   "cell_type": "markdown",
   "metadata": {
    "slideshow": {
     "slide_type": "subslide"
    }
   },
   "source": [
    "The **approach** of ``TsTables`` is to apply a **highly structured storage** hierarchy."
   ]
  },
  {
   "cell_type": "code",
   "execution_count": 15,
   "metadata": {},
   "outputs": [
    {
     "name": "stdout",
     "output_type": "stream",
     "text": [
      "ts.h5 (File) ''\n",
      "Last modif.: 'Thu Nov 19 17:46:52 2015'\n",
      "Object Tree: \n",
      "/ (RootGroup) ''\n",
      "/TS (Group/Timeseries) ''\n",
      "/TS/y2015 (Group) ''\n",
      "/TS/y2015/m01 (Group) ''\n",
      "/TS/y2015/m02 (Group) ''\n",
      "/TS/y2015/m03 (Group) ''\n",
      "/TS/y2015/m04 (Group) ''\n",
      "/TS/y2015/m11 (Group) ''\n",
      "/TS/y2015/m11/d19 (Group) ''\n",
      "/TS/y2015/m11/d19/ts_data (Table(0,)) ''\n",
      "/TS/y2015/m04/d01 (Group) ''\n",
      "/TS/y2015/m04/d01/ts_data (Table(86400,)) ''\n",
      "/TS/y2015/m04/d02 (Group) ''\n",
      "/TS/y2015/m04/d02/ts_data (Table(86400,)) ''\n",
      "/TS/y2015/m04/d03 (Group) ''\n",
      "/T\n"
     ]
    }
   ],
   "source": [
    "a = str(h5)\n",
    "print a[:508]"
   ]
  },
  {
   "cell_type": "markdown",
   "metadata": {
    "slideshow": {
     "slide_type": "subslide"
    }
   },
   "source": [
    "The strength of TsTables lies in retrieving **chunks of time series data** defined by a **start date and an end date** (which obviously is a typical case in finance, e.g. in backtesting strategies or risk management)."
   ]
  },
  {
   "cell_type": "code",
   "execution_count": 16,
   "metadata": {},
   "outputs": [],
   "source": [
    "read_start_dt = datetime(2015, 2, 1, 0, 0)\n",
    "read_end_dt = datetime(2015, 2, 2, 0, 0)"
   ]
  },
  {
   "cell_type": "markdown",
   "metadata": {
    "slideshow": {
     "slide_type": "subslide"
    }
   },
   "source": [
    "TsTables tries to make such an operation **as fast as possible**."
   ]
  },
  {
   "cell_type": "code",
   "execution_count": 17,
   "metadata": {},
   "outputs": [
    {
     "name": "stdout",
     "output_type": "stream",
     "text": [
      "CPU times: user 31.4 ms, sys: 27.7 ms, total: 59.1 ms\n",
      "Wall time: 46.3 ms\n"
     ]
    }
   ],
   "source": [
    "%time rows = ts.read_range(read_start_dt, read_end_dt)"
   ]
  },
  {
   "cell_type": "markdown",
   "metadata": {
    "slideshow": {
     "slide_type": "subslide"
    }
   },
   "source": [
    "Let us try it with **random intervals**."
   ]
  },
  {
   "cell_type": "code",
   "execution_count": 18,
   "metadata": {},
   "outputs": [],
   "source": [
    "t0 = time()\n",
    "its = 100\n",
    "for _ in xrange(its):\n",
    "    day = random.randint(1, 27)\n",
    "    read_start_dt = datetime(2015, 2, day, 0, 0)\n",
    "    read_end_dt = datetime(2015, 2, day + 1, 0, 0)\n",
    "    rows = ts.read_range(read_start_dt, read_end_dt)\n",
    "t1 = time()"
   ]
  },
  {
   "cell_type": "markdown",
   "metadata": {
    "slideshow": {
     "slide_type": "subslide"
    }
   },
   "source": [
    "The **results** are convincing."
   ]
  },
  {
   "cell_type": "code",
   "execution_count": 19,
   "metadata": {},
   "outputs": [
    {
     "name": "stdout",
     "output_type": "stream",
     "text": [
      "time for 100 random accesses    1.528 seconds\n",
      "average time for random access  0.015 seconds\n"
     ]
    }
   ],
   "source": [
    "print \"time for %d random accesses    %5.3f seconds\" %(its, t1 - t0)\n",
    "print \"average time for random access  %5.3f seconds\" %((t1 - t0) / its)"
   ]
  },
  {
   "cell_type": "markdown",
   "metadata": {
    "slideshow": {
     "slide_type": "subslide"
    }
   },
   "source": [
    "Conveniently, the **returned object is a pandas DataFrame**."
   ]
  },
  {
   "cell_type": "code",
   "execution_count": 20,
   "metadata": {},
   "outputs": [
    {
     "data": {
      "text/plain": [
       "ts1    86401\n",
       "ts2    86401\n",
       "ts3    86401\n",
       "dtype: int64"
      ]
     },
     "execution_count": 20,
     "metadata": {},
     "output_type": "execute_result"
    }
   ],
   "source": [
    "rows.count()"
   ]
  },
  {
   "cell_type": "code",
   "execution_count": 21,
   "metadata": {},
   "outputs": [
    {
     "data": {
      "text/html": [
       "<div>\n",
       "<table border=\"1\" class=\"dataframe\">\n",
       "  <thead>\n",
       "    <tr style=\"text-align: right;\">\n",
       "      <th></th>\n",
       "      <th>ts1</th>\n",
       "      <th>ts2</th>\n",
       "      <th>ts3</th>\n",
       "    </tr>\n",
       "  </thead>\n",
       "  <tbody>\n",
       "    <tr>\n",
       "      <th>2015-02-16 00:00:00</th>\n",
       "      <td>50.698230</td>\n",
       "      <td>101.366495</td>\n",
       "      <td>82.635171</td>\n",
       "    </tr>\n",
       "    <tr>\n",
       "      <th>2015-02-16 00:00:01</th>\n",
       "      <td>50.692724</td>\n",
       "      <td>101.406572</td>\n",
       "      <td>82.639057</td>\n",
       "    </tr>\n",
       "    <tr>\n",
       "      <th>2015-02-16 00:00:02</th>\n",
       "      <td>50.700773</td>\n",
       "      <td>101.378886</td>\n",
       "      <td>82.605793</td>\n",
       "    </tr>\n",
       "    <tr>\n",
       "      <th>2015-02-16 00:00:03</th>\n",
       "      <td>50.692889</td>\n",
       "      <td>101.396351</td>\n",
       "      <td>82.562722</td>\n",
       "    </tr>\n",
       "    <tr>\n",
       "      <th>2015-02-16 00:00:04</th>\n",
       "      <td>50.683953</td>\n",
       "      <td>101.381599</td>\n",
       "      <td>82.547240</td>\n",
       "    </tr>\n",
       "  </tbody>\n",
       "</table>\n",
       "</div>"
      ],
      "text/plain": [
       "                           ts1         ts2        ts3\n",
       "2015-02-16 00:00:00  50.698230  101.366495  82.635171\n",
       "2015-02-16 00:00:01  50.692724  101.406572  82.639057\n",
       "2015-02-16 00:00:02  50.700773  101.378886  82.605793\n",
       "2015-02-16 00:00:03  50.692889  101.396351  82.562722\n",
       "2015-02-16 00:00:04  50.683953  101.381599  82.547240"
      ]
     },
     "execution_count": 21,
     "metadata": {},
     "output_type": "execute_result"
    }
   ],
   "source": [
    "rows.head()"
   ]
  },
  {
   "cell_type": "markdown",
   "metadata": {
    "slideshow": {
     "slide_type": "subslide"
    }
   },
   "source": [
    "A look at a **data sub-set**."
   ]
  },
  {
   "cell_type": "code",
   "execution_count": 22,
   "metadata": {},
   "outputs": [
    {
     "data": {
      "text/plain": [
       "<matplotlib.axes._subplots.AxesSubplot at 0x122d07d10>"
      ]
     },
     "execution_count": 22,
     "metadata": {},
     "output_type": "execute_result"
    },
    {
     "data": {
      "image/png": "[encoded data removed]",
      "text/plain": [
       "<matplotlib.figure.Figure at 0x122d22c90>"
      ]
     },
     "metadata": {},
     "output_type": "display_data"
    }
   ],
   "source": [
    "rows[::500].plot()"
   ]
  },
  {
   "cell_type": "code",
   "execution_count": 23,
   "metadata": {},
   "outputs": [],
   "source": [
    "h5.close()"
   ]
  },
  {
   "cell_type": "code",
   "execution_count": 24,
   "metadata": {},
   "outputs": [],
   "source": [
    "!rm ts.h5"
   ]
  },
  {
   "cell_type": "markdown",
   "metadata": {
    "slideshow": {
     "slide_type": "slide"
    }
   },
   "source": [
    "## bcolz &ndash; High Performance Columnar Data Store"
   ]
  },
  {
   "cell_type": "markdown",
   "metadata": {
    "slideshow": {
     "slide_type": "subslide"
    }
   },
   "source": [
    "`bcolz` is a **columnar data store** for fast data storage and retrieval with built-in **high performance compression**. It supports both **in-memory and out-of-memory** storage and operations. Cf. <a href=\"http://bcolz.blosc.org/\" target=\"_blank\">http://bcolz.blosc.org/</a>."
   ]
  },
  {
   "cell_type": "code",
   "execution_count": 25,
   "metadata": {},
   "outputs": [],
   "source": [
    "import bcolz"
   ]
  },
  {
   "cell_type": "markdown",
   "metadata": {
    "slideshow": {
     "slide_type": "subslide"
    }
   },
   "source": [
    "## ctable Example "
   ]
  },
  {
   "cell_type": "markdown",
   "metadata": {},
   "source": [
    "The first example is based on the ``ctable`` class for data in **table format**. The example data set is **100+ MB** in size."
   ]
  },
  {
   "cell_type": "code",
   "execution_count": 26,
   "metadata": {},
   "outputs": [
    {
     "name": "stdout",
     "output_type": "stream",
     "text": [
      "10000000\n"
     ]
    }
   ],
   "source": [
    "N = 100000 * 100\n",
    "print N"
   ]
  },
  {
   "cell_type": "markdown",
   "metadata": {
    "slideshow": {
     "slide_type": "subslide"
    }
   },
   "source": [
    "### In-Memory Storage"
   ]
  },
  {
   "cell_type": "markdown",
   "metadata": {},
   "source": [
    "We generate first an **in-memory object** using high compression. Since we work with integers, **good compression ratios** are to be expected. It takes about **4 sec** to generate the ``ctable`` object from a generator via the ``fromiter`` method."
   ]
  },
  {
   "cell_type": "code",
   "execution_count": 27,
   "metadata": {},
   "outputs": [
    {
     "name": "stdout",
     "output_type": "stream",
     "text": [
      "CPU times: user 3.89 s, sys: 156 ms, total: 4.04 s\n",
      "Wall time: 3.98 s\n"
     ]
    }
   ],
   "source": [
    "%%time\n",
    "ct = bcolz.fromiter(((i, i ** 2) for i in xrange(N)),\n",
    "                    dtype=\"i4, i8\",\n",
    "                    count=N,\n",
    "                    cparams=bcolz.cparams(clevel=9))"
   ]
  },
  {
   "cell_type": "markdown",
   "metadata": {
    "slideshow": {
     "slide_type": "subslide"
    }
   },
   "source": [
    "The **in-memory size** is about **15 MB** only, which translates in to a **compression ratio of 7+**."
   ]
  },
  {
   "cell_type": "code",
   "execution_count": 28,
   "metadata": {},
   "outputs": [
    {
     "data": {
      "text/plain": [
       "ctable((10000000,), [('f0', '<i4'), ('f1', '<i8')])\n",
       "  nbytes: 114.44 MB; cbytes: 15.51 MB; ratio: 7.38\n",
       "  cparams := cparams(clevel=9, shuffle=True, cname='blosclz')\n",
       "[(0, 0) (1, 1) (2, 4) ..., (9999997, 99999940000009)\n",
       " (9999998, 99999960000004) (9999999, 99999980000001)]"
      ]
     },
     "execution_count": 28,
     "metadata": {},
     "output_type": "execute_result"
    }
   ],
   "source": [
    "ct"
   ]
  },
  {
   "cell_type": "markdown",
   "metadata": {
    "slideshow": {
     "slide_type": "subslide"
    }
   },
   "source": [
    "You can now implement **fast numerical operations** on this data object (note that the output is a ``carray`` object)."
   ]
  },
  {
   "cell_type": "code",
   "execution_count": 29,
   "metadata": {},
   "outputs": [
    {
     "name": "stdout",
     "output_type": "stream",
     "text": [
      "CPU times: user 677 ms, sys: 126 ms, total: 803 ms\n",
      "Wall time: 370 ms\n"
     ]
    },
    {
     "data": {
      "text/plain": [
       "carray((10000000,), float64)\n",
       "  nbytes: 76.29 MB; cbytes: 30.63 MB; ratio: 2.49\n",
       "  cparams := cparams(clevel=5, shuffle=True, cname='blosclz')\n",
       "[  0.00000000e+00   2.00000000e+00   6.00000000e+00 ...,   2.26447238e+08\n",
       "   2.46447234e+08   2.66447232e+08]"
      ]
     },
     "execution_count": 29,
     "metadata": {},
     "output_type": "execute_result"
    }
   ],
   "source": [
    "%time ct.eval('f0 ** 2 + sqrt(f1)')"
   ]
  },
  {
   "cell_type": "markdown",
   "metadata": {
    "slideshow": {
     "slide_type": "subslide"
    }
   },
   "source": [
    "### Disk-Based Storage"
   ]
  },
  {
   "cell_type": "markdown",
   "metadata": {},
   "source": [
    "The same tasks can be implemented with **disk-based storage**. To this end, only specify the **``rootdir`` parameter**. With about **5 sec** the generation takes a bit longer on disk. everything else (especially the object handling) remaining the same however."
   ]
  },
  {
   "cell_type": "code",
   "execution_count": 30,
   "metadata": {},
   "outputs": [
    {
     "name": "stdout",
     "output_type": "stream",
     "text": [
      "CPU times: user 4.38 s, sys: 170 ms, total: 4.55 s\n",
      "Wall time: 4.45 s\n"
     ]
    }
   ],
   "source": [
    "%%time\n",
    "ct = bcolz.fromiter(((i, i ** 2) for i in xrange(N)),\n",
    "                    dtype=\"i4, i8\",\n",
    "                    count=N, rootdir='ct',\n",
    "                    cparams=bcolz.cparams(clevel=9))"
   ]
  },
  {
   "cell_type": "markdown",
   "metadata": {
    "slideshow": {
     "slide_type": "subslide"
    }
   },
   "source": [
    "Everything else (especially the object handling) **remains almost the same** however."
   ]
  },
  {
   "cell_type": "code",
   "execution_count": 31,
   "metadata": {},
   "outputs": [
    {
     "data": {
      "text/plain": [
       "ctable((10000000,), [('f0', '<i4'), ('f1', '<i8')])\n",
       "  nbytes: 114.44 MB; cbytes: 15.51 MB; ratio: 7.38\n",
       "  cparams := cparams(clevel=9, shuffle=True, cname='blosclz')\n",
       "  rootdir := 'ct'\n",
       "[(0, 0) (1, 1) (2, 4) ..., (9999997, 99999940000009)\n",
       " (9999998, 99999960000004) (9999999, 99999980000001)]"
      ]
     },
     "execution_count": 31,
     "metadata": {},
     "output_type": "execute_result"
    }
   ],
   "source": [
    "ct"
   ]
  },
  {
   "cell_type": "markdown",
   "metadata": {
    "slideshow": {
     "slide_type": "subslide"
    }
   },
   "source": [
    "The **numerical operations work in the same fashion** and hardly take longer due to native **multi threading and optimized caching**."
   ]
  },
  {
   "cell_type": "code",
   "execution_count": 32,
   "metadata": {},
   "outputs": [
    {
     "name": "stdout",
     "output_type": "stream",
     "text": [
      "CPU times: user 670 ms, sys: 136 ms, total: 807 ms\n",
      "Wall time: 335 ms\n"
     ]
    },
    {
     "data": {
      "text/plain": [
       "carray((10000000,), float64)\n",
       "  nbytes: 76.29 MB; cbytes: 30.63 MB; ratio: 2.49\n",
       "  cparams := cparams(clevel=5, shuffle=True, cname='blosclz')\n",
       "[  0.00000000e+00   2.00000000e+00   6.00000000e+00 ...,   2.26447238e+08\n",
       "   2.46447234e+08   2.66447232e+08]"
      ]
     },
     "execution_count": 32,
     "metadata": {},
     "output_type": "execute_result"
    }
   ],
   "source": [
    "%time ct.eval('f0 ** 2 + sqrt(f1)')"
   ]
  },
  {
   "cell_type": "markdown",
   "metadata": {
    "slideshow": {
     "slide_type": "subslide"
    }
   },
   "source": [
    "Let us finally verify **system disk usage**."
   ]
  },
  {
   "cell_type": "code",
   "execution_count": 33,
   "metadata": {},
   "outputs": [
    {
     "name": "stdout",
     "output_type": "stream",
     "text": [
      "__attrs__    __rootdirs__ \u001b[34mf0\u001b[m\u001b[m           \u001b[34mf1\u001b[m\u001b[m\r\n"
     ]
    }
   ],
   "source": [
    "!ls ct"
   ]
  },
  {
   "cell_type": "code",
   "execution_count": 34,
   "metadata": {},
   "outputs": [
    {
     "name": "stdout",
     "output_type": "stream",
     "text": [
      "612K\tct/f0/data\r\n",
      "8.0K\tct/f0/meta\r\n",
      "624K\tct/f0\r\n",
      " 14M\tct/f1/data\r\n",
      "8.0K\tct/f1/meta\r\n",
      " 14M\tct/f1\r\n",
      " 15M\tct\r\n"
     ]
    }
   ],
   "source": [
    "!du -h ct\n",
    "# system disk usage"
   ]
  },
  {
   "cell_type": "code",
   "execution_count": 35,
   "metadata": {},
   "outputs": [],
   "source": [
    "!rm -r ct"
   ]
  },
  {
   "cell_type": "markdown",
   "metadata": {
    "slideshow": {
     "slide_type": "subslide"
    }
   },
   "source": [
    "## carray Example"
   ]
  },
  {
   "cell_type": "markdown",
   "metadata": {},
   "source": [
    "This example is about **mid data** which does **not fit (in general) into memory** (without compression). "
   ]
  },
  {
   "cell_type": "code",
   "execution_count": 36,
   "metadata": {},
   "outputs": [],
   "source": [
    "import numpy as np"
   ]
  },
  {
   "cell_type": "markdown",
   "metadata": {
    "slideshow": {
     "slide_type": "subslide"
    }
   },
   "source": [
    "We generte as basis a NumPy ``ndarray`` object of size **32 MB**."
   ]
  },
  {
   "cell_type": "code",
   "execution_count": 37,
   "metadata": {},
   "outputs": [
    {
     "data": {
      "text/plain": [
       "32000000"
      ]
     },
     "execution_count": 37,
     "metadata": {},
     "output_type": "execute_result"
    }
   ],
   "source": [
    "n = 2000\n",
    "a = np.arange(n * n).reshape(n, n) \n",
    "a.nbytes"
   ]
  },
  {
   "cell_type": "markdown",
   "metadata": {
    "slideshow": {
     "slide_type": "subslide"
    }
   },
   "source": [
    "### In-Memory Storage"
   ]
  },
  {
   "cell_type": "markdown",
   "metadata": {},
   "source": [
    "Let us first again work **in-memory**. Our ``carray`` object contains **400 versions** of the ``ndarray`` object. The in-memory generation of the object takes about **5 sec**."
   ]
  },
  {
   "cell_type": "code",
   "execution_count": 38,
   "metadata": {},
   "outputs": [
    {
     "name": "stdout",
     "output_type": "stream",
     "text": [
      "CPU times: user 5.05 s, sys: 195 ms, total: 5.25 s\n",
      "Wall time: 5.22 s\n"
     ]
    }
   ],
   "source": [
    "%%time\n",
    "it = 400\n",
    "ca = bcolz.carray(a, cparams=bcolz.cparams(clevel=9))\n",
    "for i in range(it):\n",
    "    ca.append(a)"
   ]
  },
  {
   "cell_type": "markdown",
   "metadata": {
    "slideshow": {
     "slide_type": "subslide"
    }
   },
   "source": [
    "The ``carray`` object stores **12 GB** worth of data in less than **0.1 GB** of memory, for a compression ratio of more than  **130**."
   ]
  },
  {
   "cell_type": "code",
   "execution_count": 39,
   "metadata": {},
   "outputs": [
    {
     "data": {
      "text/plain": [
       "carray((802000, 2000), int64)\n",
       "  nbytes: 11.95 GB; cbytes: 91.86 MB; ratio: 133.22\n",
       "  cparams := cparams(clevel=9, shuffle=True, cname='blosclz')\n",
       "[[      0       1       2 ...,    1997    1998    1999]\n",
       " [   2000    2001    2002 ...,    3997    3998    3999]\n",
       " [   4000    4001    4002 ...,    5997    5998    5999]\n",
       " ..., \n",
       " [3994000 3994001 3994002 ..., 3995997 3995998 3995999]\n",
       " [3996000 3996001 3996002 ..., 3997997 3997998 3997999]\n",
       " [3998000 3998001 3998002 ..., 3999997 3999998 3999999]]"
      ]
     },
     "execution_count": 39,
     "metadata": {},
     "output_type": "execute_result"
    }
   ],
   "source": [
    "ca"
   ]
  },
  {
   "cell_type": "markdown",
   "metadata": {
    "slideshow": {
     "slide_type": "subslide"
    }
   },
   "source": [
    "Let us implement the **evaluation of a numerical expression** on this data set. The syntax and handling are the same **as with NumPy ``ndarray`` objects**. "
   ]
  },
  {
   "cell_type": "code",
   "execution_count": 40,
   "metadata": {},
   "outputs": [
    {
     "name": "stdout",
     "output_type": "stream",
     "text": [
      "CPU times: user 214 ms, sys: 134 ms, total: 348 ms\n",
      "Wall time: 339 ms\n"
     ]
    },
    {
     "data": {
      "text/plain": [
       "array([[  0.00000000e+00,   2.00000000e+00,   5.41421356e+00, ...,\n",
       "          3.98805369e+06,   3.99204870e+06,   3.99604571e+06],\n",
       "       [  4.00004472e+06,   4.00404573e+06,   4.00804874e+06, ...,\n",
       "          1.59760722e+07,   1.59840672e+07,   1.59920642e+07],\n",
       "       [  1.60000632e+07,   1.60080643e+07,   1.60160673e+07, ...,\n",
       "          3.59640864e+07,   3.59760814e+07,   3.59880785e+07],\n",
       "       ..., \n",
       "       [  3.97603600e+12,   3.97603999e+12,   3.97604398e+12, ...,\n",
       "          3.98400403e+12,   3.98400802e+12,   3.98401201e+12],\n",
       "       [  3.98401600e+12,   3.98401999e+12,   3.98402399e+12, ...,\n",
       "          3.99199201e+12,   3.99199601e+12,   3.99200001e+12],\n",
       "       [  3.99200400e+12,   3.99200800e+12,   3.99201199e+12, ...,\n",
       "          3.99998800e+12,   3.99999200e+12,   3.99999600e+12]])"
      ]
     },
     "execution_count": 40,
     "metadata": {},
     "output_type": "execute_result"
    }
   ],
   "source": [
    "%time ca[:5000] ** 2 + np.sqrt(ca[10000:15000])"
   ]
  },
  {
   "cell_type": "markdown",
   "metadata": {
    "slideshow": {
     "slide_type": "subslide"
    }
   },
   "source": [
    "Another approach is to use the **``eval`` function** of bcolz."
   ]
  },
  {
   "cell_type": "code",
   "execution_count": 41,
   "metadata": {},
   "outputs": [],
   "source": [
    "x = ca[:10000]  # 10,000 rows as sub-set"
   ]
  },
  {
   "cell_type": "code",
   "execution_count": 42,
   "metadata": {},
   "outputs": [
    {
     "name": "stdout",
     "output_type": "stream",
     "text": [
      "CPU times: user 1.03 s, sys: 127 ms, total: 1.16 s\n",
      "Wall time: 376 ms\n"
     ]
    },
    {
     "data": {
      "text/plain": [
       "carray((10000, 2000), float64)\n",
       "  nbytes: 152.59 MB; cbytes: 38.70 MB; ratio: 3.94\n",
       "  cparams := cparams(clevel=9, shuffle=True, cname='blosclz')\n",
       "[[  0.00000000e+00   2.00000000e+00   5.41421356e+00 ...,   3.98805369e+06\n",
       "    3.99204870e+06   3.99604571e+06]\n",
       " [  4.00004472e+06   4.00404573e+06   4.00804874e+06 ...,   1.59760722e+07\n",
       "    1.59840672e+07   1.59920642e+07]\n",
       " [  1.60000632e+07   1.60080643e+07   1.60160673e+07 ...,   3.59640864e+07\n",
       "    3.59760814e+07   3.59880785e+07]\n",
       " ..., \n",
       " [  1.59520360e+13   1.59520440e+13   1.59520520e+13 ...,   1.59679920e+13\n",
       "    1.59680000e+13   1.59680080e+13]\n",
       " [  1.59680160e+13   1.59680240e+13   1.59680320e+13 ...,   1.59839800e+13\n",
       "    1.59839880e+13   1.59839960e+13]\n",
       " [  1.59840040e+13   1.59840120e+13   1.59840200e+13 ...,   1.59999760e+13\n",
       "    1.59999840e+13   1.59999920e+13]]"
      ]
     },
     "execution_count": 42,
     "metadata": {},
     "output_type": "execute_result"
    }
   ],
   "source": [
    "%time bcolz.eval('x ** 2 + sqrt(x)', cparams=bcolz.cparams(clevel=9))\n",
    "  # output carray object compressed"
   ]
  },
  {
   "cell_type": "markdown",
   "metadata": {
    "slideshow": {
     "slide_type": "subslide"
    }
   },
   "source": [
    "### Disk-Based Storage"
   ]
  },
  {
   "cell_type": "markdown",
   "metadata": {},
   "source": [
    "**Disk-based storage** of multiple versions of the array object. We write the object **400 times** to disk in a **single ``carray`` object**. It takes only about **0.1 mins** to compress and store **12 GB** worth of data **on disk**."
   ]
  },
  {
   "cell_type": "code",
   "execution_count": 43,
   "metadata": {},
   "outputs": [
    {
     "name": "stdout",
     "output_type": "stream",
     "text": [
      "CPU times: user 8.09 s, sys: 6.67 s, total: 14.8 s\n",
      "Wall time: 15 s\n"
     ]
    }
   ],
   "source": [
    "%%time\n",
    "it = 400\n",
    "ca = bcolz.carray(a, rootdir='ca',\n",
    "                 cparams=bcolz.cparams(clevel=9))\n",
    "for i in range(it):\n",
    "    ca.append(a)"
   ]
  },
  {
   "cell_type": "markdown",
   "metadata": {
    "slideshow": {
     "slide_type": "subslide"
    }
   },
   "source": [
    "The **compression ratio** in this case is again **130+**."
   ]
  },
  {
   "cell_type": "code",
   "execution_count": 44,
   "metadata": {},
   "outputs": [
    {
     "data": {
      "text/plain": [
       "carray((802000, 2000), int64)\n",
       "  nbytes: 11.95 GB; cbytes: 91.86 MB; ratio: 133.22\n",
       "  cparams := cparams(clevel=9, shuffle=True, cname='blosclz')\n",
       "  rootdir := 'ca'\n",
       "  mode    := 'a'\n",
       "[[      0       1       2 ...,    1997    1998    1999]\n",
       " [   2000    2001    2002 ...,    3997    3998    3999]\n",
       " [   4000    4001    4002 ...,    5997    5998    5999]\n",
       " ..., \n",
       " [3994000 3994001 3994002 ..., 3995997 3995998 3995999]\n",
       " [3996000 3996001 3996002 ..., 3997997 3997998 3997999]\n",
       " [3998000 3998001 3998002 ..., 3999997 3999998 3999999]]"
      ]
     },
     "execution_count": 44,
     "metadata": {},
     "output_type": "execute_result"
    }
   ],
   "source": [
    "ca"
   ]
  },
  {
   "cell_type": "markdown",
   "metadata": {
    "slideshow": {
     "slide_type": "subslide"
    }
   },
   "source": [
    "**Simple numerical operations** are easy to implement."
   ]
  },
  {
   "cell_type": "code",
   "execution_count": 45,
   "metadata": {},
   "outputs": [
    {
     "name": "stdout",
     "output_type": "stream",
     "text": [
      "CPU times: user 41.6 ms, sys: 29.1 ms, total: 70.6 ms\n",
      "Wall time: 67.3 ms\n"
     ]
    },
    {
     "data": {
      "text/plain": [
       "3999998000000"
      ]
     },
     "execution_count": 45,
     "metadata": {},
     "output_type": "execute_result"
    }
   ],
   "source": [
    "%time np.sum(ca[:1000] + ca[4000:5000])"
   ]
  },
  {
   "cell_type": "markdown",
   "metadata": {
    "slideshow": {
     "slide_type": "subslide"
    }
   },
   "source": [
    "Let us try the previous, **mathematically more demanding operation** &ndash; again with a sub-set of the data."
   ]
  },
  {
   "cell_type": "code",
   "execution_count": 46,
   "metadata": {},
   "outputs": [],
   "source": [
    "x = ca[:10000]  # 10,000 rows as sub-set"
   ]
  },
  {
   "cell_type": "markdown",
   "metadata": {
    "slideshow": {
     "slide_type": "subslide"
    }
   },
   "source": [
    "First, with an **in-memory ``carray`` results object**."
   ]
  },
  {
   "cell_type": "code",
   "execution_count": 47,
   "metadata": {},
   "outputs": [
    {
     "name": "stdout",
     "output_type": "stream",
     "text": [
      "CPU times: user 1.04 s, sys: 123 ms, total: 1.17 s\n",
      "Wall time: 406 ms\n"
     ]
    },
    {
     "data": {
      "text/plain": [
       "carray((10000, 2000), float64)\n",
       "  nbytes: 152.59 MB; cbytes: 38.70 MB; ratio: 3.94\n",
       "  cparams := cparams(clevel=9, shuffle=True, cname='blosclz')\n",
       "[[  0.00000000e+00   2.00000000e+00   5.41421356e+00 ...,   3.98805369e+06\n",
       "    3.99204870e+06   3.99604571e+06]\n",
       " [  4.00004472e+06   4.00404573e+06   4.00804874e+06 ...,   1.59760722e+07\n",
       "    1.59840672e+07   1.59920642e+07]\n",
       " [  1.60000632e+07   1.60080643e+07   1.60160673e+07 ...,   3.59640864e+07\n",
       "    3.59760814e+07   3.59880785e+07]\n",
       " ..., \n",
       " [  1.59520360e+13   1.59520440e+13   1.59520520e+13 ...,   1.59679920e+13\n",
       "    1.59680000e+13   1.59680080e+13]\n",
       " [  1.59680160e+13   1.59680240e+13   1.59680320e+13 ...,   1.59839800e+13\n",
       "    1.59839880e+13   1.59839960e+13]\n",
       " [  1.59840040e+13   1.59840120e+13   1.59840200e+13 ...,   1.59999760e+13\n",
       "    1.59999840e+13   1.59999920e+13]]"
      ]
     },
     "execution_count": 47,
     "metadata": {},
     "output_type": "execute_result"
    }
   ],
   "source": [
    "%time bcolz.eval('x ** 2 + sqrt(x)', cparams=bcolz.cparams(9))"
   ]
  },
  {
   "cell_type": "markdown",
   "metadata": {
    "slideshow": {
     "slide_type": "subslide"
    }
   },
   "source": [
    "Second, with an **on-disk results object**. The time difference is not that huge."
   ]
  },
  {
   "cell_type": "code",
   "execution_count": 48,
   "metadata": {},
   "outputs": [
    {
     "name": "stdout",
     "output_type": "stream",
     "text": [
      "CPU times: user 1.12 s, sys: 261 ms, total: 1.38 s\n",
      "Wall time: 588 ms\n"
     ]
    },
    {
     "data": {
      "text/plain": [
       "carray((10000, 2000), float64)\n",
       "  nbytes: 152.59 MB; cbytes: 38.70 MB; ratio: 3.94\n",
       "  cparams := cparams(clevel=9, shuffle=True, cname='blosclz')\n",
       "  rootdir := 'out'\n",
       "  mode    := 'a'\n",
       "[[  0.00000000e+00   2.00000000e+00   5.41421356e+00 ...,   3.98805369e+06\n",
       "    3.99204870e+06   3.99604571e+06]\n",
       " [  4.00004472e+06   4.00404573e+06   4.00804874e+06 ...,   1.59760722e+07\n",
       "    1.59840672e+07   1.59920642e+07]\n",
       " [  1.60000632e+07   1.60080643e+07   1.60160673e+07 ...,   3.59640864e+07\n",
       "    3.59760814e+07   3.59880785e+07]\n",
       " ..., \n",
       " [  1.59520360e+13   1.59520440e+13   1.59520520e+13 ...,   1.59679920e+13\n",
       "    1.59680000e+13   1.59680080e+13]\n",
       " [  1.59680160e+13   1.59680240e+13   1.59680320e+13 ...,   1.59839800e+13\n",
       "    1.59839880e+13   1.59839960e+13]\n",
       " [  1.59840040e+13   1.59840120e+13   1.59840200e+13 ...,   1.59999760e+13\n",
       "    1.59999840e+13   1.59999920e+13]]"
      ]
     },
     "execution_count": 48,
     "metadata": {},
     "output_type": "execute_result"
    }
   ],
   "source": [
    "%time bcolz.eval('x ** 2 + sqrt(x)', cparams=bcolz.cparams(9), rootdir='out')"
   ]
  },
  {
   "cell_type": "markdown",
   "metadata": {
    "slideshow": {
     "slide_type": "subslide"
    }
   },
   "source": [
    "Finally, we verify **system disk usage**."
   ]
  },
  {
   "cell_type": "code",
   "execution_count": 49,
   "metadata": {},
   "outputs": [
    {
     "name": "stdout",
     "output_type": "stream",
     "text": [
      " 98M\tca\r\n"
     ]
    }
   ],
   "source": [
    "!du -hs ca\n",
    "# system disk usage"
   ]
  },
  {
   "cell_type": "code",
   "execution_count": 50,
   "metadata": {},
   "outputs": [
    {
     "name": "stdout",
     "output_type": "stream",
     "text": [
      " 38M\tout\r\n"
     ]
    }
   ],
   "source": [
    "!du -hs out"
   ]
  },
  {
   "cell_type": "code",
   "execution_count": 51,
   "metadata": {},
   "outputs": [],
   "source": [
    "!rm -r ca\n",
    "!rm -r out"
   ]
  },
  {
   "cell_type": "markdown",
   "metadata": {
    "slideshow": {
     "slide_type": "slide"
    }
   },
   "source": [
    "## blaze &ndash; Data Blending and Analysis"
   ]
  },
  {
   "cell_type": "markdown",
   "metadata": {
    "slideshow": {
     "slide_type": "subslide"
    }
   },
   "source": [
    "``blaze`` allows Python users a familiar interface to **query data living in diverse data storage systems**.\n",
    "Cf. <a href=\"http://blaze.pydata.org/\" target=\"_blank\">http://blaze.pydata.org/</a>."
   ]
  },
  {
   "cell_type": "code",
   "execution_count": 52,
   "metadata": {},
   "outputs": [],
   "source": [
    "import blaze as bz"
   ]
  },
  {
   "cell_type": "markdown",
   "metadata": {
    "slideshow": {
     "slide_type": "subslide"
    }
   },
   "source": [
    "### Simple Example "
   ]
  },
  {
   "cell_type": "markdown",
   "metadata": {},
   "source": [
    "The first example constructs a ``blaze.Data`` object from native Python objects."
   ]
  },
  {
   "cell_type": "code",
   "execution_count": 53,
   "metadata": {},
   "outputs": [],
   "source": [
    "t = bz.Data([('Henry', 'boy', 8),\n",
    "              ('Lilli', 'girl', 14)],\n",
    "            fields=['name', 'gender', 'age'])"
   ]
  },
  {
   "cell_type": "code",
   "execution_count": 54,
   "metadata": {},
   "outputs": [
    {
     "data": {
      "text/html": [
       "<table border=\"1\" class=\"dataframe\">\n",
       "  <thead>\n",
       "    <tr style=\"text-align: right;\">\n",
       "      <th></th>\n",
       "      <th>name</th>\n",
       "      <th>gender</th>\n",
       "      <th>age</th>\n",
       "    </tr>\n",
       "  </thead>\n",
       "  <tbody>\n",
       "    <tr>\n",
       "      <th>0</th>\n",
       "      <td>Henry</td>\n",
       "      <td>boy</td>\n",
       "      <td>8</td>\n",
       "    </tr>\n",
       "    <tr>\n",
       "      <th>1</th>\n",
       "      <td>Lilli</td>\n",
       "      <td>girl</td>\n",
       "      <td>14</td>\n",
       "    </tr>\n",
       "  </tbody>\n",
       "</table>"
      ],
      "text/plain": [
       "    name gender  age\n",
       "0  Henry    boy    8\n",
       "1  Lilli   girl   14"
      ]
     },
     "execution_count": 54,
     "metadata": {},
     "output_type": "execute_result"
    }
   ],
   "source": [
    "t"
   ]
  },
  {
   "cell_type": "code",
   "execution_count": 55,
   "metadata": {},
   "outputs": [
    {
     "data": {
      "text/html": [
       "<table border=\"1\" class=\"dataframe\">\n",
       "  <thead>\n",
       "    <tr style=\"text-align: right;\">\n",
       "      <th></th>\n",
       "      <th>name</th>\n",
       "      <th>gender</th>\n",
       "      <th>age</th>\n",
       "    </tr>\n",
       "  </thead>\n",
       "  <tbody>\n",
       "    <tr>\n",
       "      <th>0</th>\n",
       "      <td>Lilli</td>\n",
       "      <td>girl</td>\n",
       "      <td>14</td>\n",
       "    </tr>\n",
       "  </tbody>\n",
       "</table>"
      ],
      "text/plain": [
       "    name gender  age\n",
       "0  Lilli   girl   14"
      ]
     },
     "execution_count": 55,
     "metadata": {},
     "output_type": "execute_result"
    }
   ],
   "source": [
    "t[t.age > 10]"
   ]
  },
  {
   "cell_type": "markdown",
   "metadata": {
    "slideshow": {
     "slide_type": "subslide"
    }
   },
   "source": [
    "### Data from NumPy Array"
   ]
  },
  {
   "cell_type": "markdown",
   "metadata": {},
   "source": [
    "Let us read data from an **in-memory NumPy ``ndarray`` object**."
   ]
  },
  {
   "cell_type": "code",
   "execution_count": 56,
   "metadata": {},
   "outputs": [],
   "source": [
    "import numpy as np"
   ]
  },
  {
   "cell_type": "code",
   "execution_count": 57,
   "metadata": {},
   "outputs": [],
   "source": [
    "a = np.random.standard_normal((100000, 5))\n",
    "  # 100,000 data rows, 5 columns"
   ]
  },
  {
   "cell_type": "code",
   "execution_count": 58,
   "metadata": {},
   "outputs": [],
   "source": [
    "df = bz.DataFrame(a, columns=['f0', 'f1', 'f2', 'f3', 'f4'])\n",
    "  # blaze DataFrame constructor"
   ]
  },
  {
   "cell_type": "markdown",
   "metadata": {
    "slideshow": {
     "slide_type": "subslide"
    }
   },
   "source": [
    "A look at the **data structure**."
   ]
  },
  {
   "cell_type": "code",
   "execution_count": 59,
   "metadata": {},
   "outputs": [
    {
     "data": {
      "text/html": [
       "<div>\n",
       "<table border=\"1\" class=\"dataframe\">\n",
       "  <thead>\n",
       "    <tr style=\"text-align: right;\">\n",
       "      <th></th>\n",
       "      <th>f0</th>\n",
       "      <th>f1</th>\n",
       "      <th>f2</th>\n",
       "      <th>f3</th>\n",
       "      <th>f4</th>\n",
       "    </tr>\n",
       "  </thead>\n",
       "  <tbody>\n",
       "    <tr>\n",
       "      <th>0</th>\n",
       "      <td>-3.110442</td>\n",
       "      <td>0.666534</td>\n",
       "      <td>-0.101579</td>\n",
       "      <td>0.075561</td>\n",
       "      <td>-0.199713</td>\n",
       "    </tr>\n",
       "    <tr>\n",
       "      <th>1</th>\n",
       "      <td>-1.083212</td>\n",
       "      <td>0.153627</td>\n",
       "      <td>0.809311</td>\n",
       "      <td>-0.833894</td>\n",
       "      <td>0.192494</td>\n",
       "    </tr>\n",
       "    <tr>\n",
       "      <th>2</th>\n",
       "      <td>-0.262808</td>\n",
       "      <td>-1.701935</td>\n",
       "      <td>-2.213631</td>\n",
       "      <td>0.530730</td>\n",
       "      <td>0.124889</td>\n",
       "    </tr>\n",
       "    <tr>\n",
       "      <th>3</th>\n",
       "      <td>-0.410030</td>\n",
       "      <td>-1.417908</td>\n",
       "      <td>1.726873</td>\n",
       "      <td>-1.019106</td>\n",
       "      <td>-0.624405</td>\n",
       "    </tr>\n",
       "    <tr>\n",
       "      <th>4</th>\n",
       "      <td>0.102430</td>\n",
       "      <td>1.303431</td>\n",
       "      <td>-0.685573</td>\n",
       "      <td>0.013186</td>\n",
       "      <td>2.057367</td>\n",
       "    </tr>\n",
       "  </tbody>\n",
       "</table>\n",
       "</div>"
      ],
      "text/plain": [
       "         f0        f1        f2        f3        f4\n",
       "0 -3.110442  0.666534 -0.101579  0.075561 -0.199713\n",
       "1 -1.083212  0.153627  0.809311 -0.833894  0.192494\n",
       "2 -0.262808 -1.701935 -2.213631  0.530730  0.124889\n",
       "3 -0.410030 -1.417908  1.726873 -1.019106 -0.624405\n",
       "4  0.102430  1.303431 -0.685573  0.013186  2.057367"
      ]
     },
     "execution_count": 59,
     "metadata": {},
     "output_type": "execute_result"
    }
   ],
   "source": [
    "df.head()"
   ]
  },
  {
   "cell_type": "markdown",
   "metadata": {
    "slideshow": {
     "slide_type": "subslide"
    }
   },
   "source": [
    "Data itself is stored as **NumPy ``ndarray`` object**."
   ]
  },
  {
   "cell_type": "code",
   "execution_count": 60,
   "metadata": {},
   "outputs": [
    {
     "data": {
      "text/plain": [
       "array([[-3.11044171,  0.66653353, -0.10157873,  0.07556061, -0.19971288],\n",
       "       [-1.08321189,  0.15362697,  0.80931068, -0.8338941 ,  0.19249447],\n",
       "       [-0.26280785, -1.70193512, -2.21363112,  0.53073   ,  0.12488903],\n",
       "       ..., \n",
       "       [ 1.53728234,  1.37809451, -2.03355446, -0.31360871,  1.33436236],\n",
       "       [-0.14926657,  0.46999052,  0.65064786, -1.06124885, -0.55484222],\n",
       "       [-0.68078108,  1.4091385 ,  0.28123536,  0.41758784, -2.48229529]])"
      ]
     },
     "execution_count": 60,
     "metadata": {},
     "output_type": "execute_result"
    }
   ],
   "source": [
    "df.values"
   ]
  },
  {
   "cell_type": "markdown",
   "metadata": {
    "slideshow": {
     "slide_type": "subslide"
    }
   },
   "source": [
    "### Data from CSV File"
   ]
  },
  {
   "cell_type": "markdown",
   "metadata": {},
   "source": [
    "We generate first a **CSV file** using the random data from before."
   ]
  },
  {
   "cell_type": "code",
   "execution_count": 61,
   "metadata": {},
   "outputs": [
    {
     "name": "stdout",
     "output_type": "stream",
     "text": [
      "CPU times: user 437 ms, sys: 19.4 ms, total: 456 ms\n",
      "Wall time: 463 ms\n"
     ]
    }
   ],
   "source": [
    "%time df.to_csv('data.csv', index=False)"
   ]
  },
  {
   "cell_type": "markdown",
   "metadata": {
    "slideshow": {
     "slide_type": "subslide"
    }
   },
   "source": [
    "Let us **read the data** with ``blaze``. Actually, we **only generate a view**."
   ]
  },
  {
   "cell_type": "code",
   "execution_count": 62,
   "metadata": {},
   "outputs": [
    {
     "name": "stdout",
     "output_type": "stream",
     "text": [
      "CPU times: user 49 µs, sys: 10 µs, total: 59 µs\n",
      "Wall time: 65.1 µs\n"
     ]
    }
   ],
   "source": [
    "%time csv = bz.CSV('data.csv')"
   ]
  },
  {
   "cell_type": "code",
   "execution_count": 63,
   "metadata": {},
   "outputs": [
    {
     "name": "stdout",
     "output_type": "stream",
     "text": [
      "CPU times: user 10.1 ms, sys: 3.53 ms, total: 13.6 ms\n",
      "Wall time: 12.6 ms\n"
     ]
    }
   ],
   "source": [
    "%time t1 = bz.Data(csv)"
   ]
  },
  {
   "cell_type": "markdown",
   "metadata": {
    "slideshow": {
     "slide_type": "subslide"
    }
   },
   "source": [
    "Now, we can **work** with the data. Note, however, that iterating, slicing, etc. are **not** (yet) implemented. "
   ]
  },
  {
   "cell_type": "code",
   "execution_count": 64,
   "metadata": {},
   "outputs": [
    {
     "name": "stdout",
     "output_type": "stream",
     "text": [
      "CPU times: user 1.29 ms, sys: 134 µs, total: 1.42 ms\n",
      "Wall time: 1.59 ms\n"
     ]
    },
    {
     "data": {
      "text/html": [
       "100000"
      ],
      "text/plain": [
       "100000"
      ]
     },
     "execution_count": 64,
     "metadata": {},
     "output_type": "execute_result"
    }
   ],
   "source": [
    "%time t1.count()"
   ]
  },
  {
   "cell_type": "markdown",
   "metadata": {
    "slideshow": {
     "slide_type": "subslide"
    }
   },
   "source": [
    "The **backend** is a **CSV object**. And a look at the **first 10 rows**."
   ]
  },
  {
   "cell_type": "code",
   "execution_count": 65,
   "metadata": {},
   "outputs": [
    {
     "data": {
      "text/plain": [
       "<odo.backends.csv.CSV at 0x14465f390>"
      ]
     },
     "execution_count": 65,
     "metadata": {},
     "output_type": "execute_result"
    }
   ],
   "source": [
    "t1.data"
   ]
  },
  {
   "cell_type": "code",
   "execution_count": 66,
   "metadata": {},
   "outputs": [
    {
     "data": {
      "text/html": [
       "<table border=\"1\" class=\"dataframe\">\n",
       "  <thead>\n",
       "    <tr style=\"text-align: right;\">\n",
       "      <th></th>\n",
       "      <th>f0</th>\n",
       "      <th>f1</th>\n",
       "      <th>f2</th>\n",
       "      <th>f3</th>\n",
       "      <th>f4</th>\n",
       "    </tr>\n",
       "  </thead>\n",
       "  <tbody>\n",
       "    <tr>\n",
       "      <th>0</th>\n",
       "      <td>-3.110442</td>\n",
       "      <td>0.666534</td>\n",
       "      <td>-0.101579</td>\n",
       "      <td>0.075561</td>\n",
       "      <td>-0.199713</td>\n",
       "    </tr>\n",
       "    <tr>\n",
       "      <th>1</th>\n",
       "      <td>-1.083212</td>\n",
       "      <td>0.153627</td>\n",
       "      <td>0.809311</td>\n",
       "      <td>-0.833894</td>\n",
       "      <td>0.192494</td>\n",
       "    </tr>\n",
       "    <tr>\n",
       "      <th>2</th>\n",
       "      <td>-0.262808</td>\n",
       "      <td>-1.701935</td>\n",
       "      <td>-2.213631</td>\n",
       "      <td>0.530730</td>\n",
       "      <td>0.124889</td>\n",
       "    </tr>\n",
       "    <tr>\n",
       "      <th>3</th>\n",
       "      <td>-0.410030</td>\n",
       "      <td>-1.417908</td>\n",
       "      <td>1.726873</td>\n",
       "      <td>-1.019106</td>\n",
       "      <td>-0.624405</td>\n",
       "    </tr>\n",
       "    <tr>\n",
       "      <th>4</th>\n",
       "      <td>0.102430</td>\n",
       "      <td>1.303431</td>\n",
       "      <td>-0.685573</td>\n",
       "      <td>0.013186</td>\n",
       "      <td>2.057367</td>\n",
       "    </tr>\n",
       "    <tr>\n",
       "      <th>5</th>\n",
       "      <td>-0.031099</td>\n",
       "      <td>0.137613</td>\n",
       "      <td>1.310439</td>\n",
       "      <td>1.558326</td>\n",
       "      <td>-0.556279</td>\n",
       "    </tr>\n",
       "    <tr>\n",
       "      <th>6</th>\n",
       "      <td>-1.453245</td>\n",
       "      <td>-1.379524</td>\n",
       "      <td>0.652777</td>\n",
       "      <td>-0.541345</td>\n",
       "      <td>0.527354</td>\n",
       "    </tr>\n",
       "    <tr>\n",
       "      <th>7</th>\n",
       "      <td>0.487396</td>\n",
       "      <td>0.646939</td>\n",
       "      <td>0.154364</td>\n",
       "      <td>-0.408608</td>\n",
       "      <td>0.057239</td>\n",
       "    </tr>\n",
       "    <tr>\n",
       "      <th>8</th>\n",
       "      <td>-0.902331</td>\n",
       "      <td>1.158209</td>\n",
       "      <td>-1.066960</td>\n",
       "      <td>0.902205</td>\n",
       "      <td>-1.455646</td>\n",
       "    </tr>\n",
       "    <tr>\n",
       "      <th>9</th>\n",
       "      <td>0.874773</td>\n",
       "      <td>-2.462501</td>\n",
       "      <td>-0.641006</td>\n",
       "      <td>0.944258</td>\n",
       "      <td>-0.284689</td>\n",
       "    </tr>\n",
       "    <tr>\n",
       "      <th>10</th>\n",
       "      <td>1.535100</td>\n",
       "      <td>1.121395</td>\n",
       "      <td>0.477987</td>\n",
       "      <td>0.111912</td>\n",
       "      <td>1.333184</td>\n",
       "    </tr>\n",
       "  </tbody>\n",
       "</table>"
      ],
      "text/plain": [
       "          f0        f1        f2        f3        f4\n",
       "0  -3.110442  0.666534 -0.101579  0.075561 -0.199713\n",
       "1  -1.083212  0.153627  0.809311 -0.833894  0.192494\n",
       "2  -0.262808 -1.701935 -2.213631  0.530730  0.124889\n",
       "3  -0.410030 -1.417908  1.726873 -1.019106 -0.624405\n",
       "4   0.102430  1.303431 -0.685573  0.013186  2.057367\n",
       "5  -0.031099  0.137613  1.310439  1.558326 -0.556279\n",
       "6  -1.453245 -1.379524  0.652777 -0.541345  0.527354\n",
       "7   0.487396  0.646939  0.154364 -0.408608  0.057239\n",
       "8  -0.902331  1.158209 -1.066960  0.902205 -1.455646\n",
       "9   0.874773 -2.462501 -0.641006  0.944258 -0.284689\n",
       "..."
      ]
     },
     "execution_count": 66,
     "metadata": {},
     "output_type": "execute_result"
    }
   ],
   "source": [
    "t1"
   ]
  },
  {
   "cell_type": "markdown",
   "metadata": {
    "slideshow": {
     "slide_type": "subslide"
    }
   },
   "source": [
    "### Data from SQL"
   ]
  },
  {
   "cell_type": "markdown",
   "metadata": {},
   "source": [
    "We now generate a **SQLite3 table** with the dummy data from before."
   ]
  },
  {
   "cell_type": "code",
   "execution_count": 67,
   "metadata": {},
   "outputs": [],
   "source": [
    "import sqlite3 as sq3"
   ]
  },
  {
   "cell_type": "code",
   "execution_count": 68,
   "metadata": {},
   "outputs": [],
   "source": [
    "con = sq3.connect('data.sql')\n",
    "try:\n",
    "    con.execute('DROP TABLE numbers')\n",
    "    # delete in case it exists\n",
    "except:\n",
    "    pass"
   ]
  },
  {
   "cell_type": "markdown",
   "metadata": {
    "slideshow": {
     "slide_type": "subslide"
    }
   },
   "source": [
    "We **write the data** into an appropriate table."
   ]
  },
  {
   "cell_type": "code",
   "execution_count": 69,
   "metadata": {},
   "outputs": [
    {
     "data": {
      "text/plain": [
       "<sqlite3.Cursor at 0x122df2490>"
      ]
     },
     "execution_count": 69,
     "metadata": {},
     "output_type": "execute_result"
    }
   ],
   "source": [
    "con.execute(\n",
    "    'CREATE TABLE numbers (f0 real, f1 real, f2 real, f3 real, f4 real)'\n",
    "    )"
   ]
  },
  {
   "cell_type": "code",
   "execution_count": 70,
   "metadata": {},
   "outputs": [
    {
     "name": "stdout",
     "output_type": "stream",
     "text": [
      "CPU times: user 1.17 s, sys: 22.2 ms, total: 1.19 s\n",
      "Wall time: 1.2 s\n"
     ]
    },
    {
     "data": {
      "text/plain": [
       "<sqlite3.Cursor at 0x144425c00>"
      ]
     },
     "execution_count": 70,
     "metadata": {},
     "output_type": "execute_result"
    }
   ],
   "source": [
    "%time con.executemany('INSERT INTO numbers VALUES (?, ?, ?, ?, ?)', a)"
   ]
  },
  {
   "cell_type": "code",
   "execution_count": 71,
   "metadata": {},
   "outputs": [],
   "source": [
    "con.commit()"
   ]
  },
  {
   "cell_type": "code",
   "execution_count": 72,
   "metadata": {},
   "outputs": [],
   "source": [
    "con.close()"
   ]
  },
  {
   "cell_type": "markdown",
   "metadata": {
    "slideshow": {
     "slide_type": "subslide"
    }
   },
   "source": [
    "Now **reading the data** with ``blaze`` (i.e. just generating a view)."
   ]
  },
  {
   "cell_type": "code",
   "execution_count": 73,
   "metadata": {},
   "outputs": [
    {
     "name": "stdout",
     "output_type": "stream",
     "text": [
      "CPU times: user 27.5 ms, sys: 7.57 ms, total: 35.1 ms\n",
      "Wall time: 34.1 ms\n"
     ]
    }
   ],
   "source": [
    "%time t2 = bz.Data('sqlite:///data.sql::numbers')"
   ]
  },
  {
   "cell_type": "markdown",
   "metadata": {
    "slideshow": {
     "slide_type": "subslide"
    }
   },
   "source": [
    "The **schema** and **first 10 rows** again."
   ]
  },
  {
   "cell_type": "code",
   "execution_count": 74,
   "metadata": {
    "slideshow": {
     "slide_type": "-"
    }
   },
   "outputs": [
    {
     "data": {
      "text/plain": [
       "dshape(\"{f0: ?float64, f1: ?float64, f2: ?float64, f3: ?float64, f4: ?float64}\")"
      ]
     },
     "execution_count": 74,
     "metadata": {},
     "output_type": "execute_result"
    }
   ],
   "source": [
    "t2.schema"
   ]
  },
  {
   "cell_type": "code",
   "execution_count": 75,
   "metadata": {},
   "outputs": [
    {
     "data": {
      "text/html": [
       "<table border=\"1\" class=\"dataframe\">\n",
       "  <thead>\n",
       "    <tr style=\"text-align: right;\">\n",
       "      <th></th>\n",
       "      <th>f0</th>\n",
       "      <th>f1</th>\n",
       "      <th>f2</th>\n",
       "      <th>f3</th>\n",
       "      <th>f4</th>\n",
       "    </tr>\n",
       "  </thead>\n",
       "  <tbody>\n",
       "    <tr>\n",
       "      <th>0</th>\n",
       "      <td>-3.110442</td>\n",
       "      <td>0.666534</td>\n",
       "      <td>-0.101579</td>\n",
       "      <td>0.075561</td>\n",
       "      <td>-0.199713</td>\n",
       "    </tr>\n",
       "    <tr>\n",
       "      <th>1</th>\n",
       "      <td>-1.083212</td>\n",
       "      <td>0.153627</td>\n",
       "      <td>0.809311</td>\n",
       "      <td>-0.833894</td>\n",
       "      <td>0.192494</td>\n",
       "    </tr>\n",
       "    <tr>\n",
       "      <th>2</th>\n",
       "      <td>-0.262808</td>\n",
       "      <td>-1.701935</td>\n",
       "      <td>-2.213631</td>\n",
       "      <td>0.530730</td>\n",
       "      <td>0.124889</td>\n",
       "    </tr>\n",
       "    <tr>\n",
       "      <th>3</th>\n",
       "      <td>-0.410030</td>\n",
       "      <td>-1.417908</td>\n",
       "      <td>1.726873</td>\n",
       "      <td>-1.019106</td>\n",
       "      <td>-0.624405</td>\n",
       "    </tr>\n",
       "    <tr>\n",
       "      <th>4</th>\n",
       "      <td>0.102430</td>\n",
       "      <td>1.303431</td>\n",
       "      <td>-0.685573</td>\n",
       "      <td>0.013186</td>\n",
       "      <td>2.057367</td>\n",
       "    </tr>\n",
       "    <tr>\n",
       "      <th>5</th>\n",
       "      <td>-0.031099</td>\n",
       "      <td>0.137613</td>\n",
       "      <td>1.310439</td>\n",
       "      <td>1.558326</td>\n",
       "      <td>-0.556279</td>\n",
       "    </tr>\n",
       "    <tr>\n",
       "      <th>6</th>\n",
       "      <td>-1.453245</td>\n",
       "      <td>-1.379524</td>\n",
       "      <td>0.652777</td>\n",
       "      <td>-0.541345</td>\n",
       "      <td>0.527354</td>\n",
       "    </tr>\n",
       "    <tr>\n",
       "      <th>7</th>\n",
       "      <td>0.487396</td>\n",
       "      <td>0.646939</td>\n",
       "      <td>0.154364</td>\n",
       "      <td>-0.408608</td>\n",
       "      <td>0.057239</td>\n",
       "    </tr>\n",
       "    <tr>\n",
       "      <th>8</th>\n",
       "      <td>-0.902331</td>\n",
       "      <td>1.158209</td>\n",
       "      <td>-1.066960</td>\n",
       "      <td>0.902205</td>\n",
       "      <td>-1.455646</td>\n",
       "    </tr>\n",
       "    <tr>\n",
       "      <th>9</th>\n",
       "      <td>0.874773</td>\n",
       "      <td>-2.462501</td>\n",
       "      <td>-0.641006</td>\n",
       "      <td>0.944258</td>\n",
       "      <td>-0.284689</td>\n",
       "    </tr>\n",
       "    <tr>\n",
       "      <th>10</th>\n",
       "      <td>1.535100</td>\n",
       "      <td>1.121395</td>\n",
       "      <td>0.477987</td>\n",
       "      <td>0.111912</td>\n",
       "      <td>1.333184</td>\n",
       "    </tr>\n",
       "  </tbody>\n",
       "</table>"
      ],
      "text/plain": [
       "          f0        f1        f2        f3        f4\n",
       "0  -3.110442  0.666534 -0.101579  0.075561 -0.199713\n",
       "1  -1.083212  0.153627  0.809311 -0.833894  0.192494\n",
       "2  -0.262808 -1.701935 -2.213631  0.530730  0.124889\n",
       "3  -0.410030 -1.417908  1.726873 -1.019106 -0.624405\n",
       "4   0.102430  1.303431 -0.685573  0.013186  2.057367\n",
       "5  -0.031099  0.137613  1.310439  1.558326 -0.556279\n",
       "6  -1.453245 -1.379524  0.652777 -0.541345  0.527354\n",
       "7   0.487396  0.646939  0.154364 -0.408608  0.057239\n",
       "8  -0.902331  1.158209 -1.066960  0.902205 -1.455646\n",
       "9   0.874773 -2.462501 -0.641006  0.944258 -0.284689\n",
       "..."
      ]
     },
     "execution_count": 75,
     "metadata": {},
     "output_type": "execute_result"
    }
   ],
   "source": [
    "t2"
   ]
  },
  {
   "cell_type": "markdown",
   "metadata": {
    "slideshow": {
     "slide_type": "subslide"
    }
   },
   "source": [
    "### Working with the blaze Objects"
   ]
  },
  {
   "cell_type": "markdown",
   "metadata": {},
   "source": [
    "``blaze`` provides an **abstraction logic** for computations/queries."
   ]
  },
  {
   "cell_type": "code",
   "execution_count": 76,
   "metadata": {},
   "outputs": [],
   "source": [
    "ts = bz.TableSymbol('ts',\n",
    "        '{f0: float64, f1: float64, f2: float64, f3: float64, f4: float64}')\n",
    "  # generic table description -- independent of the target data structure\n",
    "expr = ts[ts['f0'] + ts['f3'] > 2.5]['f1']\n",
    "  # generic expression -- independent of the target data structure"
   ]
  },
  {
   "cell_type": "markdown",
   "metadata": {
    "slideshow": {
     "slide_type": "subslide"
    }
   },
   "source": [
    "The ``blaze`` compiler **specializes the generic objects** to different data structures."
   ]
  },
  {
   "cell_type": "code",
   "execution_count": 77,
   "metadata": {},
   "outputs": [
    {
     "name": "stdout",
     "output_type": "stream",
     "text": [
      "CPU times: user 47.1 ms, sys: 5.07 ms, total: 52.1 ms\n",
      "Wall time: 59.7 ms\n"
     ]
    },
    {
     "data": {
      "text/plain": [
       "array([ 0.14201785,  1.53437103,  0.14762475, ...,  0.46882754,\n",
       "        0.2234338 ,  0.02722615])"
      ]
     },
     "execution_count": 77,
     "metadata": {},
     "output_type": "execute_result"
    }
   ],
   "source": [
    "%time np.array(bz.compute(expr, a))  # NumPy ndarray object"
   ]
  },
  {
   "cell_type": "code",
   "execution_count": 78,
   "metadata": {},
   "outputs": [
    {
     "name": "stdout",
     "output_type": "stream",
     "text": [
      "CPU times: user 7.43 ms, sys: 1.94 ms, total: 9.37 ms\n",
      "Wall time: 7.41 ms\n"
     ]
    },
    {
     "data": {
      "text/plain": [
       "array([ 0.14201785,  1.53437103,  0.14762475, ...,  0.46882754,\n",
       "        0.2234338 ,  0.02722615])"
      ]
     },
     "execution_count": 78,
     "metadata": {},
     "output_type": "execute_result"
    }
   ],
   "source": [
    "%time np.array(bz.compute(expr, df))  # DataFrame object"
   ]
  },
  {
   "cell_type": "code",
   "execution_count": 79,
   "metadata": {},
   "outputs": [
    {
     "name": "stdout",
     "output_type": "stream",
     "text": [
      "CPU times: user 142 ms, sys: 20.7 ms, total: 163 ms\n",
      "Wall time: 162 ms\n"
     ]
    },
    {
     "data": {
      "text/plain": [
       "array([ 0.14201785,  1.53437103,  0.14762475, ...,  0.46882754,\n",
       "        0.2234338 ,  0.02722615])"
      ]
     },
     "execution_count": 79,
     "metadata": {},
     "output_type": "execute_result"
    }
   ],
   "source": [
    "%time np.array(bz.compute(expr, csv))  # CSV file representation"
   ]
  },
  {
   "cell_type": "markdown",
   "metadata": {
    "slideshow": {
     "slide_type": "subslide"
    }
   },
   "source": [
    "In similar fashion, ``blaze`` allows **unified expression evaluations** for different backends (I)."
   ]
  },
  {
   "cell_type": "code",
   "execution_count": 80,
   "metadata": {},
   "outputs": [
    {
     "name": "stdout",
     "output_type": "stream",
     "text": [
      "CPU times: user 3.36 ms, sys: 1.06 ms, total: 4.42 ms\n",
      "Wall time: 3.56 ms\n"
     ]
    },
    {
     "data": {
      "text/html": [
       "<table border=\"1\" class=\"dataframe\">\n",
       "  <thead>\n",
       "    <tr style=\"text-align: right;\">\n",
       "      <th></th>\n",
       "      <th>f1</th>\n",
       "    </tr>\n",
       "  </thead>\n",
       "  <tbody>\n",
       "    <tr>\n",
       "      <th>24</th>\n",
       "      <td>0.142018</td>\n",
       "    </tr>\n",
       "    <tr>\n",
       "      <th>39</th>\n",
       "      <td>1.534371</td>\n",
       "    </tr>\n",
       "    <tr>\n",
       "      <th>108</th>\n",
       "      <td>0.147625</td>\n",
       "    </tr>\n",
       "    <tr>\n",
       "      <th>141</th>\n",
       "      <td>-1.390997</td>\n",
       "    </tr>\n",
       "    <tr>\n",
       "      <th>144</th>\n",
       "      <td>1.043663</td>\n",
       "    </tr>\n",
       "    <tr>\n",
       "      <th>235</th>\n",
       "      <td>1.364158</td>\n",
       "    </tr>\n",
       "    <tr>\n",
       "      <th>283</th>\n",
       "      <td>-1.357993</td>\n",
       "    </tr>\n",
       "    <tr>\n",
       "      <th>336</th>\n",
       "      <td>-0.963855</td>\n",
       "    </tr>\n",
       "    <tr>\n",
       "      <th>346</th>\n",
       "      <td>2.750982</td>\n",
       "    </tr>\n",
       "    <tr>\n",
       "      <th>385</th>\n",
       "      <td>-1.476347</td>\n",
       "    </tr>\n",
       "  </tbody>\n",
       "</table>"
      ],
      "text/plain": [
       "           f1\n",
       "24   0.142018\n",
       "39   1.534371\n",
       "108  0.147625\n",
       "141 -1.390997\n",
       "144  1.043663\n",
       "235  1.364158\n",
       "283 -1.357993\n",
       "336 -0.963855\n",
       "346  2.750982\n",
       "385 -1.476347"
      ]
     },
     "execution_count": 80,
     "metadata": {},
     "output_type": "execute_result"
    }
   ],
   "source": [
    "%time t1[t1['f0'] + t1['f3'] > 2.5]['f1'].head()\n",
    "  # table representation 1\n",
    "  # from CSV"
   ]
  },
  {
   "cell_type": "markdown",
   "metadata": {
    "slideshow": {
     "slide_type": "subslide"
    }
   },
   "source": [
    "In similar fashion, ``blaze`` allows **unified expression evaluations** for different backends (II)."
   ]
  },
  {
   "cell_type": "code",
   "execution_count": 81,
   "metadata": {},
   "outputs": [
    {
     "name": "stdout",
     "output_type": "stream",
     "text": [
      "CPU times: user 8.28 ms, sys: 1.69 ms, total: 9.97 ms\n",
      "Wall time: 8.56 ms\n"
     ]
    },
    {
     "data": {
      "text/html": [
       "<table border=\"1\" class=\"dataframe\">\n",
       "  <thead>\n",
       "    <tr style=\"text-align: right;\">\n",
       "      <th></th>\n",
       "      <th>f1</th>\n",
       "    </tr>\n",
       "  </thead>\n",
       "  <tbody>\n",
       "    <tr>\n",
       "      <th>0</th>\n",
       "      <td>0.142018</td>\n",
       "    </tr>\n",
       "    <tr>\n",
       "      <th>1</th>\n",
       "      <td>1.534371</td>\n",
       "    </tr>\n",
       "    <tr>\n",
       "      <th>2</th>\n",
       "      <td>0.147625</td>\n",
       "    </tr>\n",
       "    <tr>\n",
       "      <th>3</th>\n",
       "      <td>-1.390997</td>\n",
       "    </tr>\n",
       "    <tr>\n",
       "      <th>4</th>\n",
       "      <td>1.043663</td>\n",
       "    </tr>\n",
       "    <tr>\n",
       "      <th>5</th>\n",
       "      <td>1.364158</td>\n",
       "    </tr>\n",
       "    <tr>\n",
       "      <th>6</th>\n",
       "      <td>-1.357993</td>\n",
       "    </tr>\n",
       "    <tr>\n",
       "      <th>7</th>\n",
       "      <td>-0.963855</td>\n",
       "    </tr>\n",
       "    <tr>\n",
       "      <th>8</th>\n",
       "      <td>2.750982</td>\n",
       "    </tr>\n",
       "    <tr>\n",
       "      <th>9</th>\n",
       "      <td>-1.476347</td>\n",
       "    </tr>\n",
       "  </tbody>\n",
       "</table>"
      ],
      "text/plain": [
       "         f1\n",
       "0  0.142018\n",
       "1  1.534371\n",
       "2  0.147625\n",
       "3 -1.390997\n",
       "4  1.043663\n",
       "5  1.364158\n",
       "6 -1.357993\n",
       "7 -0.963855\n",
       "8  2.750982\n",
       "9 -1.476347"
      ]
     },
     "execution_count": 81,
     "metadata": {},
     "output_type": "execute_result"
    }
   ],
   "source": [
    "%time t2[t2['f0'] + t2['f3'] > 2.5]['f1'].head()\n",
    "  # table representation 2\n",
    "  # from SQL database"
   ]
  },
  {
   "cell_type": "markdown",
   "metadata": {
    "slideshow": {
     "slide_type": "subslide"
    }
   },
   "source": [
    "Typical **aggregational operations** work as well."
   ]
  },
  {
   "cell_type": "code",
   "execution_count": 82,
   "metadata": {},
   "outputs": [
    {
     "name": "stdout",
     "output_type": "stream",
     "text": [
      "CPU times: user 638 µs, sys: 124 µs, total: 762 µs\n",
      "Wall time: 660 µs\n"
     ]
    },
    {
     "data": {
      "text/html": [
       "-34.78298934832858"
      ],
      "text/plain": [
       "-34.78298934832858"
      ]
     },
     "execution_count": 82,
     "metadata": {},
     "output_type": "execute_result"
    }
   ],
   "source": [
    "%time t1.f0.sum()"
   ]
  },
  {
   "cell_type": "code",
   "execution_count": 83,
   "metadata": {},
   "outputs": [
    {
     "name": "stdout",
     "output_type": "stream",
     "text": [
      "CPU times: user 1.05 ms, sys: 335 µs, total: 1.39 ms\n",
      "Wall time: 1.1 ms\n"
     ]
    },
    {
     "data": {
      "text/html": [
       "4.17588067202735"
      ],
      "text/plain": [
       "4.17588067202735"
      ]
     },
     "execution_count": 83,
     "metadata": {},
     "output_type": "execute_result"
    }
   ],
   "source": [
    "%time t2.f3.max()"
   ]
  },
  {
   "cell_type": "markdown",
   "metadata": {
    "slideshow": {
     "slide_type": "subslide"
    }
   },
   "source": [
    "### Transforming Data Formats"
   ]
  },
  {
   "cell_type": "markdown",
   "metadata": {
    "slideshow": {
     "slide_type": "-"
    }
   },
   "source": [
    "If you work intensively with data sets, it might be beneficial to transform them once into **highly performant binary data formats (eg ``bcolz, HDF5``)**."
   ]
  },
  {
   "cell_type": "markdown",
   "metadata": {
    "slideshow": {
     "slide_type": "subslide"
    }
   },
   "source": [
    "#### Using bcolz as Data Store"
   ]
  },
  {
   "cell_type": "code",
   "execution_count": 84,
   "metadata": {},
   "outputs": [
    {
     "name": "stdout",
     "output_type": "stream",
     "text": [
      "CPU times: user 237 ms, sys: 75.6 ms, total: 313 ms\n",
      "Wall time: 314 ms\n"
     ]
    },
    {
     "data": {
      "text/plain": [
       "ctable((100000,), [('f0', '<f8'), ('f1', '<f8'), ('f2', '<f8'), ('f3', '<f8'), ('f4', '<f8')])\n",
       "  nbytes: 3.81 MB; cbytes: 3.86 MB; ratio: 0.99\n",
       "  cparams := cparams(clevel=5, shuffle=True, cname='blosclz')\n",
       "  rootdir := 'data.bcolz'\n",
       "[ (-3.11044171006, 0.6665335265160001, -0.10157872770099999, 0.0755606143189, -0.19971287805500001)\n",
       " (-1.08321189064, 0.153626965199, 0.809310675563, -0.833894095383, 0.192494472342)\n",
       " (-0.26280784981, -1.70193511785, -2.21363112442, 0.530730004293, 0.124889030761)\n",
       " ...,\n",
       " (1.53728233669, 1.3780945054700002, -2.03355446145, -0.31360871225299997, 1.33436236105)\n",
       " (-0.149266574565, 0.469990517547, 0.650647857131, -1.0612488517299998, -0.5548422223889999)\n",
       " (-0.680781084275, 1.40913850382, 0.28123535514000003, 0.41758784476899996, -2.48229529106)]"
      ]
     },
     "execution_count": 84,
     "metadata": {},
     "output_type": "execute_result"
    }
   ],
   "source": [
    "%time bz.into('data.bcolz', 'data.csv')\n",
    "  # natively done by blaze\n",
    "  # cparams=bcolz.cparams(9) could be added\n",
    "  # no effect here due to random floats"
   ]
  },
  {
   "cell_type": "markdown",
   "metadata": {
    "slideshow": {
     "slide_type": "subslide"
    }
   },
   "source": [
    "We can now connect to the ``bcolz`` **disk-based ``ctable`` object**."
   ]
  },
  {
   "cell_type": "code",
   "execution_count": 85,
   "metadata": {},
   "outputs": [],
   "source": [
    "import bcolz as bc"
   ]
  },
  {
   "cell_type": "code",
   "execution_count": 86,
   "metadata": {},
   "outputs": [],
   "source": [
    "b = bc.ctable(rootdir='data.bcolz') "
   ]
  },
  {
   "cell_type": "markdown",
   "metadata": {
    "slideshow": {
     "slide_type": "subslide"
    }
   },
   "source": [
    "Now, the power of ``bcolz`` for **numerical computations** can be played out."
   ]
  },
  {
   "cell_type": "code",
   "execution_count": 87,
   "metadata": {},
   "outputs": [
    {
     "name": "stdout",
     "output_type": "stream",
     "text": [
      "CPU times: user 20.1 ms, sys: 5.48 ms, total: 25.5 ms\n",
      "Wall time: 22.4 ms\n"
     ]
    }
   ],
   "source": [
    "%time nex = b.eval('sqrt(abs(f0)) + log(abs(f1))')"
   ]
  },
  {
   "cell_type": "code",
   "execution_count": 88,
   "metadata": {},
   "outputs": [
    {
     "data": {
      "text/plain": [
       "carray((100000,), float64)\n",
       "  nbytes: 781.25 KB; cbytes: 993.03 KB; ratio: 0.79\n",
       "  cparams := cparams(clevel=5, shuffle=True, cname='blosclz')\n",
       "[ 1.3579796  -0.83245326  1.04441379 ...,  1.56057366 -0.36869243\n",
       "  1.16807312]"
      ]
     },
     "execution_count": 88,
     "metadata": {},
     "output_type": "execute_result"
    }
   ],
   "source": [
    "nex"
   ]
  },
  {
   "cell_type": "markdown",
   "metadata": {
    "slideshow": {
     "slide_type": "subslide"
    }
   },
   "source": [
    "#### Using HDF5"
   ]
  },
  {
   "cell_type": "markdown",
   "metadata": {},
   "source": [
    "Similarly, we can use **``PyTables`` and ``HDF5``** as an efficient binary store."
   ]
  },
  {
   "cell_type": "code",
   "execution_count": 89,
   "metadata": {},
   "outputs": [],
   "source": [
    "import pandas as pd"
   ]
  },
  {
   "cell_type": "code",
   "execution_count": 90,
   "metadata": {},
   "outputs": [
    {
     "name": "stdout",
     "output_type": "stream",
     "text": [
      "CPU times: user 582 ms, sys: 49.8 ms, total: 631 ms\n",
      "Wall time: 636 ms\n"
     ]
    }
   ],
   "source": [
    "%%time\n",
    "con = sq3.connect('data.sql')\n",
    "pd.HDFStore('data.h5')['sql'] = pd.read_sql('SELECT * FROM numbers', con)\n",
    "  # simultaneously reading whole SQL table and writing it to HDF5 store\n",
    "con.close()"
   ]
  },
  {
   "cell_type": "markdown",
   "metadata": {
    "slideshow": {
     "slide_type": "subslide"
    }
   },
   "source": [
    "Now, data can be **efficiently** retrieved."
   ]
  },
  {
   "cell_type": "code",
   "execution_count": 91,
   "metadata": {},
   "outputs": [
    {
     "name": "stdout",
     "output_type": "stream",
     "text": [
      "CPU times: user 101 ms, sys: 9.82 ms, total: 111 ms\n",
      "Wall time: 109 ms\n"
     ]
    },
    {
     "data": {
      "image/png": "[encoded data removed]",
      "text/plain": [
       "<matplotlib.figure.Figure at 0x10f521d50>"
      ]
     },
     "metadata": {},
     "output_type": "display_data"
    }
   ],
   "source": [
    "%%time\n",
    "%matplotlib inline\n",
    "pd.HDFStore('data.h5')['sql'][::1000].cumsum().plot(figsize=(10, 5))\n",
    "  # simultaneously reading data from HDF5 store and plotting it"
   ]
  },
  {
   "cell_type": "markdown",
   "metadata": {
    "slideshow": {
     "slide_type": "subslide"
    }
   },
   "source": [
    "### Cleaning Up"
   ]
  },
  {
   "cell_type": "code",
   "execution_count": 92,
   "metadata": {},
   "outputs": [
    {
     "name": "stdout",
     "output_type": "stream",
     "text": [
      "976K\tdata.bcolz/f0/data\r\n",
      "8.0K\tdata.bcolz/f0/meta\r\n",
      "988K\tdata.bcolz/f0\r\n",
      "976K\tdata.bcolz/f1/data\r\n",
      "8.0K\tdata.bcolz/f1/meta\r\n",
      "988K\tdata.bcolz/f1\r\n",
      "972K\tdata.bcolz/f2/data\r\n",
      "8.0K\tdata.bcolz/f2/meta\r\n",
      "984K\tdata.bcolz/f2\r\n",
      "976K\tdata.bcolz/f3/data\r\n",
      "8.0K\tdata.bcolz/f3/meta\r\n",
      "988K\tdata.bcolz/f3\r\n",
      "976K\tdata.bcolz/f4/data\r\n",
      "8.0K\tdata.bcolz/f4/meta\r\n",
      "988K\tdata.bcolz/f4\r\n",
      "4.8M\tdata.bcolz\r\n",
      "7.2M\tdata.csv\r\n",
      "4.6M\tdata.h5\r\n",
      "5.2M\tdata.sql\r\n"
     ]
    }
   ],
   "source": [
    "!du -h dat*"
   ]
  },
  {
   "cell_type": "code",
   "execution_count": 93,
   "metadata": {
    "slideshow": {
     "slide_type": "subslide"
    }
   },
   "outputs": [
    {
     "name": "stdout",
     "output_type": "stream",
     "text": [
      "-rw-r--r--  1 501  20  7579503 Nov 19 17:47 data.csv\r\n",
      "-rw-r--r--  1 501  20  4807208 Nov 19 17:47 data.h5\r\n",
      "-rw-r--r--  1 501  20  5444608 Nov 19 17:47 data.sql\r\n",
      "\r\n",
      "data.bcolz:\r\n",
      "total 16\r\n",
      "-rw-r--r--  1 501  20    3 Nov 19 17:47 __attrs__\r\n",
      "-rw-r--r--  1 501  20   42 Nov 19 17:47 __rootdirs__\r\n",
      "drwxr-xr-x  5 501  20  170 Nov 19 17:47 \u001b[34mf0\u001b[m\u001b[m\r\n",
      "drwxr-xr-x  5 501  20  170 Nov 19 17:47 \u001b[34mf1\u001b[m\u001b[m\r\n",
      "drwxr-xr-x  5 501  20  170 Nov 19 17:47 \u001b[34mf2\u001b[m\u001b[m\r\n",
      "drwxr-xr-x  5 501  20  170 Nov 19 17:47 \u001b[34mf3\u001b[m\u001b[m\r\n",
      "drwxr-xr-x  5 501  20  170 Nov 19 17:47 \u001b[34mf4\u001b[m\u001b[m\r\n"
     ]
    }
   ],
   "source": [
    "!ls -n dat*.*"
   ]
  },
  {
   "cell_type": "code",
   "execution_count": 94,
   "metadata": {},
   "outputs": [],
   "source": [
    "# cleaning up\n",
    "!rm -r dat*.*"
   ]
  },
  {
   "cell_type": "markdown",
   "metadata": {
    "slideshow": {
     "slide_type": "slide"
    }
   },
   "source": [
    "## Conclusion"
   ]
  },
  {
   "cell_type": "markdown",
   "metadata": {},
   "source": [
    "**High performance (hardware-bound) I/O operations and highly efficient data blending and analytics are among Python's key strengths.**"
   ]
  },
  {
   "cell_type": "markdown",
   "metadata": {
    "slideshow": {
     "slide_type": "slide"
    }
   },
   "source": [
    "<img src=\"http://hilpisch.com/tpq_logo.png\" alt=\"The Python Quants\" width=\"35%\" align=\"right\" border=\"0\"><br>\n",
    "\n",
    "<a href=\"http://tpq.io\" target=\"_blank\">http://tpq.io</a> | <a href=\"http://twitter.com/dyjh\" target=\"_blank\">@dyjh</a> | <a href=\"mailto:team@pqp.io\">team@tpq.io</a>\n",
    "\n",
    "**Quant Platform** |\n",
    "<a href=\"http://quant-platform.com\">http://quant-platform.com</a>\n",
    "\n",
    "**datapark.io** |\n",
    "<a href=\"http://datapark.io\">http://datapark.io</a>\n",
    "\n",
    "**Python for Finance** |\n",
    "<a href=\"http://python-for-finance.com\" target=\"_blank\">Python for Finance @ O'Reilly</a>\n",
    "\n",
    "**Derivatives Analytics with Python** |\n",
    "<a href=\"http://derivatives-analytics-with-python.com\" target=\"_blank\">Derivatives Analytics @ Wiley Finance</a>"
   ]
  }
 ],
 "metadata": {
  "celltoolbar": "Slideshow",
  "kernelspec": {
   "display_name": "Python 2.7",
   "language": "python2",
   "name": "python2"
  },
  "language_info": {
   "codemirror_mode": {
    "name": "ipython",
    "version": 2
   },
   "file_extension": ".py",
   "mimetype": "text/x-python",
   "name": "python",
   "nbconvert_exporter": "python",
   "pygments_lexer": "ipython2",
   "version": "2.7.13"
  }
 },
 "nbformat": 4,
 "nbformat_minor": 1
}
