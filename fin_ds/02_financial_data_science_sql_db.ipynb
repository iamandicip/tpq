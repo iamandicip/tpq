{
 "cells": [
  {
   "cell_type": "markdown",
   "metadata": {},
   "source": [
    "<img src=\"http://hilpisch.com/tpq_logo.png\" alt=\"The Python Quants\" width=\"35%\" align=\"right\" border=\"0\"><br>"
   ]
  },
  {
   "cell_type": "markdown",
   "metadata": {},
   "source": [
    "# Python for Financial Data Science &mdash; SQL DBs"
   ]
  },
  {
   "cell_type": "markdown",
   "metadata": {},
   "source": [
    "**DataNatives Berlin 2015**"
   ]
  },
  {
   "cell_type": "markdown",
   "metadata": {},
   "source": [
    "Dr Yves J Hilpisch\n",
    "\n",
    "<a href='mailto:team@tpq.io'>team@tpq.io</a> | <a href='http://tpq.io'>http://tpq.io</a>\n",
    "\n",
    "The Python Quants GmbH"
   ]
  },
  {
   "cell_type": "markdown",
   "metadata": {},
   "source": [
    "## Importing & Database Connection"
   ]
  },
  {
   "cell_type": "markdown",
   "metadata": {},
   "source": [
    "This notebook is about the `ibis` project. See the tutorial under [http://blog.ibis-project.org/sqlite-crunchbase-quickstart/](http://blog.ibis-project.org/sqlite-crunchbase-quickstart/)."
   ]
  },
  {
   "cell_type": "code",
   "execution_count": null,
   "metadata": {},
   "outputs": [],
   "source": [
    "# getting the database to work with\n",
    "!wget https://ibis-resources.s3.amazonaws.com/data/crunchbase/crunchbase.db"
   ]
  },
  {
   "cell_type": "code",
   "execution_count": null,
   "metadata": {},
   "outputs": [],
   "source": [
    "import ibis\n",
    "ibis.options.interactive = True"
   ]
  },
  {
   "cell_type": "code",
   "execution_count": null,
   "metadata": {},
   "outputs": [],
   "source": [
    "con = ibis.sqlite.connect('crunchbase.db')"
   ]
  },
  {
   "cell_type": "markdown",
   "metadata": {},
   "source": [
    "## Basic Operations and Lookups"
   ]
  },
  {
   "cell_type": "code",
   "execution_count": null,
   "metadata": {},
   "outputs": [],
   "source": [
    "con.list_tables()"
   ]
  },
  {
   "cell_type": "code",
   "execution_count": null,
   "metadata": {},
   "outputs": [],
   "source": [
    "rounds = con.table('rounds')\n",
    "rounds.info()"
   ]
  },
  {
   "cell_type": "code",
   "execution_count": null,
   "metadata": {},
   "outputs": [],
   "source": [
    "rounds.funding_round_type.value_counts()"
   ]
  },
  {
   "cell_type": "code",
   "execution_count": null,
   "metadata": {},
   "outputs": [],
   "source": [
    "acquisitions = con.table('acquisitions')\n",
    "expr = (acquisitions.price_amount\n",
    "        .isnull()\n",
    "        .name('has_price')\n",
    "        .value_counts())\n",
    "expr"
   ]
  },
  {
   "cell_type": "code",
   "execution_count": null,
   "metadata": {},
   "outputs": [],
   "source": [
    "df = expr.execute()\n",
    "df"
   ]
  },
  {
   "cell_type": "code",
   "execution_count": null,
   "metadata": {},
   "outputs": [],
   "source": [
    "type(expr)"
   ]
  },
  {
   "cell_type": "code",
   "execution_count": null,
   "metadata": {},
   "outputs": [],
   "source": [
    "companies = con.table('companies')\n",
    "\n",
    "expr = companies.funding_total_usd.mean()\n",
    "type(expr)"
   ]
  },
  {
   "cell_type": "code",
   "execution_count": null,
   "metadata": {},
   "outputs": [],
   "source": [
    "expr.execute()"
   ]
  },
  {
   "cell_type": "markdown",
   "metadata": {},
   "source": [
    "## Funding Metrics"
   ]
  },
  {
   "cell_type": "code",
   "execution_count": null,
   "metadata": {},
   "outputs": [],
   "source": [
    "funded_at = rounds.funded_at.cast('timestamp')\n",
    "funded_at.year().value_counts()"
   ]
  },
  {
   "cell_type": "code",
   "execution_count": null,
   "metadata": {},
   "outputs": [],
   "source": [
    "rounds.funding_round_code.value_counts()"
   ]
  },
  {
   "cell_type": "code",
   "execution_count": null,
   "metadata": {},
   "outputs": [],
   "source": [
    "year = funded_at.year().name('year')\n",
    "\n",
    "expr = (rounds[(rounds.funding_round_type == 'venture') &\n",
    "               year.between(2000, 2015) &\n",
    "               rounds.funding_round_code.notnull()]\n",
    "        .group_by([year, 'funding_round_code'])\n",
    "        .size())\n",
    "\n",
    "results = expr.execute()\n",
    "results[:10]"
   ]
  },
  {
   "cell_type": "code",
   "execution_count": null,
   "metadata": {},
   "outputs": [],
   "source": [
    "pivoted = (results.set_index(['year', 'funding_round_code'])\n",
    "           .unstack('funding_round_code')\n",
    "           .fillna(0))\n",
    "pivoted"
   ]
  },
  {
   "cell_type": "code",
   "execution_count": null,
   "metadata": {},
   "outputs": [],
   "source": [
    "funding_buckets = [0, 1000000, 10000000, 50000000, 100000000, \n",
    "                   500000000, 1000000000]\n",
    "\n",
    "bucket = (companies\n",
    "          .funding_total_usd\n",
    "          .bucket(funding_buckets, include_over=True))\n",
    "bucket.value_counts()"
   ]
  },
  {
   "cell_type": "code",
   "execution_count": null,
   "metadata": {},
   "outputs": [],
   "source": [
    "bucket_names = ['0 to 1m', '1m to 10m', '10m to 50m', \n",
    "                '50m to 100m', '100m to 500m',\n",
    "                '500m to 1b', 'Over 1b']\n",
    "\n",
    "counts = bucket.name('bucket').value_counts()\n",
    "labeled = counts.bucket.label(bucket_names)\n",
    "with_names = counts.mutate(bucket_name=labeled)\n",
    "with_names"
   ]
  },
  {
   "cell_type": "code",
   "execution_count": null,
   "metadata": {},
   "outputs": [],
   "source": [
    "metrics = (companies.group_by(bucket.name('bucket'))\n",
    "           .aggregate(count=companies.count(),\n",
    "                      total_funding=companies.funding_total_usd.sum())\n",
    "           .mutate(bucket_name=lambda x: x.bucket.label(bucket_names)))\n",
    "metrics"
   ]
  },
  {
   "cell_type": "code",
   "execution_count": null,
   "metadata": {},
   "outputs": [],
   "source": [
    "joined = (companies.mutate(bucket=bucket,\n",
    "                           status=companies.status.fillna('Unknown'))\n",
    "          [(companies.founded_at > '2010-01-01') |\n",
    "           companies.founded_at.isnull()]\n",
    "          .group_by(['bucket', 'status'])\n",
    "          .size()\n",
    "          .mutate(bucket_name=lambda x: (x.bucket.label(bucket_names)\n",
    "                                         .fillna('Unknown'))))\n",
    "\n",
    "table = joined.execute()\n",
    "\n",
    "table.set_index(['status', 'bucket', 'bucket_name'])['count'].unstack('status')"
   ]
  },
  {
   "cell_type": "markdown",
   "metadata": {},
   "source": [
    "## Generated SQL Queries"
   ]
  },
  {
   "cell_type": "code",
   "execution_count": null,
   "metadata": {},
   "outputs": [],
   "source": [
    "print(ibis.impala.compile(joined))"
   ]
  },
  {
   "cell_type": "code",
   "execution_count": null,
   "metadata": {
    "collapsed": true
   },
   "outputs": [],
   "source": [
    "# remove the database\n",
    "!rm crunchbase.db"
   ]
  },
  {
   "cell_type": "markdown",
   "metadata": {},
   "source": [
    "<img src=\"http://hilpisch.com/tpq_logo.png\" alt=\"The Python Quants\" width=\"35%\" align=\"right\" border=\"0\"><br>\n",
    "\n",
    "<a href=\"http://tpq.io\" target=\"_blank\">http://tpq.io</a> | <a href=\"http://twitter.com/dyjh\" target=\"_blank\">@dyjh</a> | <a href=\"mailto:team@pqp.io\">team@tpq.io</a>\n",
    "\n",
    "**Quant Platform** |\n",
    "<a href=\"http://quant-platform.com\">http://quant-platform.com</a>\n",
    "\n",
    "**datapark.io** |\n",
    "<a href=\"http://datapark.io\">http://datapark.io</a>\n",
    "\n",
    "**Python for Finance** |\n",
    "<a href=\"http://python-for-finance.com\" target=\"_blank\">Python for Finance @ O'Reilly</a>\n",
    "\n",
    "**Derivatives Analytics with Python** |\n",
    "<a href=\"http://derivatives-analytics-with-python.com\" target=\"_blank\">Derivatives Analytics @ Wiley Finance</a>"
   ]
  }
 ],
 "metadata": {
  "kernelspec": {
   "display_name": "Python 2.7",
   "language": "python2",
   "name": "python2"
  },
  "language_info": {
   "codemirror_mode": {
    "name": "ipython",
    "version": 2
   },
   "file_extension": ".py",
   "mimetype": "text/x-python",
   "name": "python",
   "nbconvert_exporter": "python",
   "pygments_lexer": "ipython2",
   "version": "2.7.13"
  }
 },
 "nbformat": 4,
 "nbformat_minor": 1
}
